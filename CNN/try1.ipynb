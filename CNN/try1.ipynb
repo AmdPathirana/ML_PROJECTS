{
 "cells": [
  {
   "cell_type": "code",
   "execution_count": 1,
   "id": "bc3c1d6c-b369-444c-9d4f-d08fcaba83ff",
   "metadata": {},
   "outputs": [],
   "source": [
    "import tensorflow"
   ]
  },
  {
   "cell_type": "code",
   "execution_count": 2,
   "id": "4779cf6d-d1ea-498c-be4f-a324ee5c11a1",
   "metadata": {},
   "outputs": [],
   "source": [
    "from tensorflow.keras.datasets import cifar10\n",
    "\n",
    "data = cifar10.load_data()\n",
    "\n",
    "(x_train, y_train), (x_test, y_test) = data"
   ]
  },
  {
   "cell_type": "code",
   "execution_count": 3,
   "id": "93aafba9-8804-442b-b2d2-15ef8f0e6f10",
   "metadata": {},
   "outputs": [
    {
     "name": "stdout",
     "output_type": "stream",
     "text": [
      "(50000, 32, 32, 3)\n",
      "(50000, 1)\n",
      "(10000, 32, 32, 3)\n",
      "(10000, 1)\n"
     ]
    }
   ],
   "source": [
    "print(x_train.shape)\n",
    "print(y_train.shape)\n",
    "print(x_test.shape)\n",
    "print(y_test.shape)"
   ]
  },
  {
   "cell_type": "code",
   "execution_count": 4,
   "id": "b998059c-e292-4878-ac2a-989b0608b698",
   "metadata": {},
   "outputs": [],
   "source": [
    "class_name = ['airplane', 'automobile', 'bird' , 'cat' , 'deer' , 'dog' , 'frog' , 'horse' , 'ship' , 'truck']\n",
    "\n",
    "def get_name(n):\n",
    "    n=int(n)\n",
    "    return class_name[n]"
   ]
  },
  {
   "cell_type": "code",
   "execution_count": 7,
   "id": "e5025c99-c257-4b81-b07e-53ea6c7a733c",
   "metadata": {},
   "outputs": [
    {
     "name": "stdout",
     "output_type": "stream",
     "text": [
      "truck\n"
     ]
    },
    {
     "data": {
      "image/png": "[encoded data removed]",
      "text/plain": [
       "<Figure size 640x480 with 1 Axes>"
      ]
     },
     "metadata": {},
     "output_type": "display_data"
    }
   ],
   "source": [
    "import matplotlib.pyplot as plt \n",
    "plt.imshow(x_train[495])\n",
    "print(get_name(y_train[495]))"
   ]
  },
  {
   "cell_type": "code",
   "execution_count": 8,
   "id": "6a86318d-2148-46bd-9f50-61820538a57f",
   "metadata": {},
   "outputs": [
    {
     "data": {
      "text/plain": [
       "array([[[253, 253, 253],\n",
       "        [253, 252, 253],\n",
       "        [253, 252, 253],\n",
       "        ...,\n",
       "        [251, 254, 254],\n",
       "        [251, 254, 254],\n",
       "        [252, 255, 254]],\n",
       "\n",
       "       [[253, 253, 253],\n",
       "        [254, 253, 254],\n",
       "        [253, 253, 253],\n",
       "        ...,\n",
       "        [245, 251, 254],\n",
       "        [245, 251, 253],\n",
       "        [247, 252, 251]],\n",
       "\n",
       "       [[229, 230, 229],\n",
       "        [218, 225, 223],\n",
       "        [227, 236, 233],\n",
       "        ...,\n",
       "        [244, 252, 253],\n",
       "        [243, 252, 253],\n",
       "        [244, 252, 250]],\n",
       "\n",
       "       ...,\n",
       "\n",
       "       [[ 85,  86,  94],\n",
       "        [ 32,  35,  45],\n",
       "        [ 25,  28,  37],\n",
       "        ...,\n",
       "        [ 22,  26,  40],\n",
       "        [ 30,  34,  48],\n",
       "        [ 70,  73,  85]],\n",
       "\n",
       "       [[ 87,  91, 102],\n",
       "        [ 70,  75,  86],\n",
       "        [ 69,  74,  85],\n",
       "        ...,\n",
       "        [ 89,  92, 105],\n",
       "        [ 91,  95, 108],\n",
       "        [ 99, 104, 116]],\n",
       "\n",
       "       [[181, 183, 187],\n",
       "        [172, 174, 180],\n",
       "        [172, 174, 179],\n",
       "        ...,\n",
       "        [208, 207, 209],\n",
       "        [209, 207, 210],\n",
       "        [211, 209, 213]]], dtype=uint8)"
      ]
     },
     "execution_count": 8,
     "metadata": {},
     "output_type": "execute_result"
    }
   ],
   "source": [
    "x_train[495]"
   ]
  },
  {
   "cell_type": "code",
   "execution_count": 9,
   "id": "0b3a2711-eae7-4dab-a42d-29e72733cd0b",
   "metadata": {},
   "outputs": [
    {
     "data": {
      "text/plain": [
       "(32, 32, 3)"
      ]
     },
     "execution_count": 9,
     "metadata": {},
     "output_type": "execute_result"
    }
   ],
   "source": [
    "x_train[495].shape"
   ]
  },
  {
   "cell_type": "code",
   "execution_count": 10,
   "id": "d91a2a20-33bf-4053-9f38-a44a2f1f39d8",
   "metadata": {},
   "outputs": [],
   "source": [
    "x_train = x_train/255\n",
    "x_test = x_test/255"
   ]
  },
  {
   "cell_type": "code",
   "execution_count": 11,
   "id": "965256e4-107e-4d71-83be-1f4546cba0a5",
   "metadata": {},
   "outputs": [
    {
     "data": {
      "text/plain": [
       "array([[[0.99215686, 0.99215686, 0.99215686],\n",
       "        [0.99215686, 0.98823529, 0.99215686],\n",
       "        [0.99215686, 0.98823529, 0.99215686],\n",
       "        ...,\n",
       "        [0.98431373, 0.99607843, 0.99607843],\n",
       "        [0.98431373, 0.99607843, 0.99607843],\n",
       "        [0.98823529, 1.        , 0.99607843]],\n",
       "\n",
       "       [[0.99215686, 0.99215686, 0.99215686],\n",
       "        [0.99607843, 0.99215686, 0.99607843],\n",
       "        [0.99215686, 0.99215686, 0.99215686],\n",
       "        ...,\n",
       "        [0.96078431, 0.98431373, 0.99607843],\n",
       "        [0.96078431, 0.98431373, 0.99215686],\n",
       "        [0.96862745, 0.98823529, 0.98431373]],\n",
       "\n",
       "       [[0.89803922, 0.90196078, 0.89803922],\n",
       "        [0.85490196, 0.88235294, 0.8745098 ],\n",
       "        [0.89019608, 0.9254902 , 0.91372549],\n",
       "        ...,\n",
       "        [0.95686275, 0.98823529, 0.99215686],\n",
       "        [0.95294118, 0.98823529, 0.99215686],\n",
       "        [0.95686275, 0.98823529, 0.98039216]],\n",
       "\n",
       "       ...,\n",
       "\n",
       "       [[0.33333333, 0.3372549 , 0.36862745],\n",
       "        [0.1254902 , 0.1372549 , 0.17647059],\n",
       "        [0.09803922, 0.10980392, 0.14509804],\n",
       "        ...,\n",
       "        [0.08627451, 0.10196078, 0.15686275],\n",
       "        [0.11764706, 0.13333333, 0.18823529],\n",
       "        [0.2745098 , 0.28627451, 0.33333333]],\n",
       "\n",
       "       [[0.34117647, 0.35686275, 0.4       ],\n",
       "        [0.2745098 , 0.29411765, 0.3372549 ],\n",
       "        [0.27058824, 0.29019608, 0.33333333],\n",
       "        ...,\n",
       "        [0.34901961, 0.36078431, 0.41176471],\n",
       "        [0.35686275, 0.37254902, 0.42352941],\n",
       "        [0.38823529, 0.40784314, 0.45490196]],\n",
       "\n",
       "       [[0.70980392, 0.71764706, 0.73333333],\n",
       "        [0.6745098 , 0.68235294, 0.70588235],\n",
       "        [0.6745098 , 0.68235294, 0.70196078],\n",
       "        ...,\n",
       "        [0.81568627, 0.81176471, 0.81960784],\n",
       "        [0.81960784, 0.81176471, 0.82352941],\n",
       "        [0.82745098, 0.81960784, 0.83529412]]])"
      ]
     },
     "execution_count": 11,
     "metadata": {},
     "output_type": "execute_result"
    }
   ],
   "source": [
    "x_train[495]"
   ]
  },
  {
   "cell_type": "code",
   "execution_count": 13,
   "id": "517a7d7c-6708-442e-b7ea-e4f74da12644",
   "metadata": {},
   "outputs": [
    {
     "name": "stdout",
     "output_type": "stream",
     "text": [
      "x_min: 0.0\n",
      "x_max: 1.0\n"
     ]
    }
   ],
   "source": [
    "print(\"x_min: {}\".format(x_train.min()))\n",
    "print(\"x_max: {}\".format(x_test.max()))"
   ]
  },
  {
   "cell_type": "code",
   "execution_count": 23,
   "id": "ec8f9f6d-a5ef-42b2-8e82-824c128ffe77",
   "metadata": {},
   "outputs": [],
   "source": [
    "from tensorflow.keras.models import Sequential\n",
    "model = Sequential()"
   ]
  },
  {
   "cell_type": "code",
   "execution_count": 24,
   "id": "52aed378-2285-48b3-a037-582e110ee34c",
   "metadata": {},
   "outputs": [],
   "source": [
    "from tensorflow.keras.layers import Conv2D\n",
    "from tensorflow.keras.layers import MaxPooling2D\n",
    "from tensorflow.keras.layers import Dropout\n",
    "from tensorflow.keras.layers import Flatten\n",
    "\n",
    "model.add(Conv2D(filters=32, kernel_size=3, padding='same', activation='relu', strides=(1,1), input_shape=(32, 32,3)))\n",
    "model.add(Conv2D(filters=32, kernel_size=3, padding='same', activation='relu', strides=(1,1)))\n",
    "model.add(MaxPooling2D(pool_size=2, strides=2, padding='valid'))\n",
    "\n",
    "model.add(Conv2D(filters=64, kernel_size=3, padding='same', activation='relu', strides=(1,1)))\n",
    "model.add(Conv2D(filters=64, kernel_size=3, padding='same', activation='relu', strides=(1,1)))\n",
    "model.add(MaxPooling2D(padding='valid', pool_size=2, strides=2))\n",
    "\n",
    "model.add(Dropout(0.3))\n",
    "\n",
    "model.add(Flatten())"
   ]
  },
  {
   "cell_type": "code",
   "execution_count": 25,
   "id": "4f9fe1ee-f102-4eac-b586-e06fb65a4913",
   "metadata": {},
   "outputs": [],
   "source": [
    "from tensorflow.keras.layers import Dense\n",
    "\n",
    "model.add(Dense(units=128, activation='relu'))\n",
    "model.add(Dense(units=64, activation='relu'))\n",
    "model.add(Dense(units=32, activation='relu'))\n",
    "model.add(Dense(units=10, activation='softmax'))"
   ]
  },
  {
   "cell_type": "code",
   "execution_count": 26,
   "id": "e400dda2-49a6-4975-8d38-e56ddd735493",
   "metadata": {},
   "outputs": [
    {
     "name": "stdout",
     "output_type": "stream",
     "text": [
      "Model: \"sequential_1\"\n",
      "_________________________________________________________________\n",
      " Layer (type)                Output Shape              Param #   \n",
      "=================================================================\n",
      " conv2d_9 (Conv2D)           (None, 32, 32, 32)        896       \n",
      "                                                                 \n",
      " conv2d_10 (Conv2D)          (None, 32, 32, 32)        9248      \n",
      "                                                                 \n",
      " max_pooling2d_4 (MaxPooling  (None, 16, 16, 32)       0         \n",
      " 2D)                                                             \n",
      "                                                                 \n",
      " conv2d_11 (Conv2D)          (None, 16, 16, 64)        18496     \n",
      "                                                                 \n",
      " conv2d_12 (Conv2D)          (None, 16, 16, 64)        36928     \n",
      "                                                                 \n",
      " max_pooling2d_5 (MaxPooling  (None, 8, 8, 64)         0         \n",
      " 2D)                                                             \n",
      "                                                                 \n",
      " dropout_1 (Dropout)         (None, 8, 8, 64)          0         \n",
      "                                                                 \n",
      " flatten_1 (Flatten)         (None, 4096)              0         \n",
      "                                                                 \n",
      " dense_5 (Dense)             (None, 128)               524416    \n",
      "                                                                 \n",
      " dense_6 (Dense)             (None, 64)                8256      \n",
      "                                                                 \n",
      " dense_7 (Dense)             (None, 32)                2080      \n",
      "                                                                 \n",
      " dense_8 (Dense)             (None, 10)                330       \n",
      "                                                                 \n",
      "=================================================================\n",
      "Total params: 600,650\n",
      "Trainable params: 600,650\n",
      "Non-trainable params: 0\n",
      "_________________________________________________________________\n"
     ]
    }
   ],
   "source": [
    "model.summary()"
   ]
  },
  {
   "cell_type": "code",
   "execution_count": 27,
   "id": "ea8933f1-f57a-4cb4-a7c6-de8a6b35d9be",
   "metadata": {},
   "outputs": [],
   "source": [
    "model.compile(loss='sparse_categorical_crossentropy', optimizer='adam', metrics=['sparse_categorical_accuracy'])"
   ]
  },
  {
   "cell_type": "code",
   "execution_count": null,
   "id": "e93cffe5-0df3-4da8-8240-5f4e24457e78",
   "metadata": {},
   "outputs": [
    {
     "name": "stdout",
     "output_type": "stream",
     "text": [
      "Epoch 1/50\n",
      "1000/1000 [==============================] - 101s 101ms/step - loss: 1.4281 - sparse_categorical_accuracy: 0.4749 - val_loss: 1.1507 - val_sparse_categorical_accuracy: 0.5888\n",
      "Epoch 2/50\n",
      "1000/1000 [==============================] - 96s 96ms/step - loss: 1.0201 - sparse_categorical_accuracy: 0.6359 - val_loss: 0.9130 - val_sparse_categorical_accuracy: 0.6843\n",
      "Epoch 3/50\n",
      "1000/1000 [==============================] - 144s 144ms/step - loss: 0.8394 - sparse_categorical_accuracy: 0.7067 - val_loss: 0.8096 - val_sparse_categorical_accuracy: 0.7170\n",
      "Epoch 4/50\n",
      "1000/1000 [==============================] - 157s 157ms/step - loss: 0.7295 - sparse_categorical_accuracy: 0.7438 - val_loss: 0.7766 - val_sparse_categorical_accuracy: 0.7298\n",
      "Epoch 5/50\n",
      "1000/1000 [==============================] - 100s 100ms/step - loss: 0.6532 - sparse_categorical_accuracy: 0.7708 - val_loss: 0.7429 - val_sparse_categorical_accuracy: 0.7461\n",
      "Epoch 6/50\n",
      "1000/1000 [==============================] - 98s 98ms/step - loss: 0.5907 - sparse_categorical_accuracy: 0.7900 - val_loss: 0.7224 - val_sparse_categorical_accuracy: 0.7532\n",
      "Epoch 7/50\n",
      "1000/1000 [==============================] - 99s 99ms/step - loss: 0.5400 - sparse_categorical_accuracy: 0.8095 - val_loss: 0.7466 - val_sparse_categorical_accuracy: 0.7451\n",
      "Epoch 8/50\n",
      "1000/1000 [==============================] - 97s 97ms/step - loss: 0.4990 - sparse_categorical_accuracy: 0.8244 - val_loss: 0.7244 - val_sparse_categorical_accuracy: 0.7612\n",
      "Epoch 9/50\n",
      "1000/1000 [==============================] - 112s 112ms/step - loss: 0.4569 - sparse_categorical_accuracy: 0.8366 - val_loss: 0.7590 - val_sparse_categorical_accuracy: 0.7579\n",
      "Epoch 10/50\n",
      "1000/1000 [==============================] - 99s 99ms/step - loss: 0.4130 - sparse_categorical_accuracy: 0.8548 - val_loss: 0.7336 - val_sparse_categorical_accuracy: 0.7645\n",
      "Epoch 11/50\n",
      "1000/1000 [==============================] - 96s 96ms/step - loss: 0.3938 - sparse_categorical_accuracy: 0.8591 - val_loss: 0.6998 - val_sparse_categorical_accuracy: 0.7738\n",
      "Epoch 12/50\n",
      "1000/1000 [==============================] - 118s 119ms/step - loss: 0.3552 - sparse_categorical_accuracy: 0.8745 - val_loss: 0.7503 - val_sparse_categorical_accuracy: 0.7753\n",
      "Epoch 13/50\n",
      "1000/1000 [==============================] - 98s 98ms/step - loss: 0.3309 - sparse_categorical_accuracy: 0.8830 - val_loss: 0.7722 - val_sparse_categorical_accuracy: 0.7618\n",
      "Epoch 14/50\n",
      " 499/1000 [=============>................] - ETA: 1:18 - loss: 0.2960 - sparse_categorical_accuracy: 0.8945"
     ]
    }
   ],
   "source": [
    "from tensorflow.keras.callbacks import EarlyStopping\n",
    "callbacks = EarlyStopping(monitor='val_loss', patience=5, verbose=1)\n",
    "history  = model.fit(x_train, y_train, epochs=50, batch_size=50, verbose=1, validation_data=(x_test, y_test),callbacks=(callbacks) )"
   ]
  },
  {
   "cell_type": "code",
   "execution_count": null,
   "id": "1684592b-05b6-4a99-8067-2bd507e1ebd1",
   "metadata": {},
   "outputs": [],
   "source": [
    "train_accuracy = history.history['sparse_categorical_accuracy']\n",
    "test_accuracy = history.history['val_sparse_categorical_accuracy']\n",
    "\n",
    "train_loss = history.hisory['loss']\n",
    "test_loss = history.history['val_loss']\n",
    "\n",
    "epoch  = range(1, len(train_accuracy)+1)\n",
    "\n",
    "plt.figure(figure_size=(10,5))\n",
    "plt.plot(epoch, train_accuracy, 'b', label='Train Accuracy')\n",
    "plt.plot(epoch, test_accuracy, 'r', label='Test Accuracy')\n",
    "plt.title(\"Accucary Curve\")\n",
    "plt.xlabel(\"Epochs\")\n",
    "plt.ylable(\"Accuracy\")\n",
    "plt.show()\n",
    "\n",
    "plt.plot(epoch, train_loss, 'b', label='Train Loss')\n",
    "plt.plot(epoch, test_loss, 'r', label='Test Loss')\n",
    "plt.title(\"Loss Curve\")\n",
    "plt.xlabel(\"Epochs\")\n",
    "plt.ylabel(\"Loss\")\n",
    "plt.show()\n"
   ]
  },
  {
   "cell_type": "code",
   "execution_count": null,
   "id": "72726585-6d68-4b6e-9c46-f260c54b0dfe",
   "metadata": {},
   "outputs": [],
   "source": [
    "loss , accuracy = model.evaluate(x_test, y_test)\n",
    "print(\"Accuracy: {}\".format(accuracy))\n",
    "print(\"Loss :{}\".format(loss))"
   ]
  },
  {
   "cell_type": "code",
   "execution_count": null,
   "id": "d6f400df-afe5-4212-867d-3cf23dd812f8",
   "metadata": {},
   "outputs": [],
   "source": [
    "predictions = model.predict(x_test)\n",
    "\n",
    "import numpy as np\n",
    "prediction_values  = np.argmax(predictions, axis=1)\n"
   ]
  },
  {
   "cell_type": "code",
   "execution_count": null,
   "id": "244f4eab-6277-4fa8-b040-81724908429b",
   "metadata": {},
   "outputs": [],
   "source": [
    "from sklearn.metrics import Confusion_matrix\n",
    "cm = Confusion_matrix(y_test, prediction_values)"
   ]
  },
  {
   "cell_type": "code",
   "execution_count": null,
   "id": "9ee4b3c4-4cd4-4118-b346-081bf0dc2eb5",
   "metadata": {},
   "outputs": [],
   "source": [
    "import seaborn as sns\n",
    "\n",
    "sns.haetmap(cm , annot=True, fmt='d', xsticklabel=class_name, ysticklabel=class_name)"
   ]
  },
  {
   "cell_type": "code",
   "execution_count": null,
   "id": "7206b1c6-684f-4235-8d3c-a2a31f47b37b",
   "metadata": {},
   "outputs": [],
   "source": []
  }
 ],
 "metadata": {
  "kernelspec": {
   "display_name": "ML_PROJECTS_Kernel",
   "language": "python",
   "name": "ml_projects"
  },
  "language_info": {
   "codemirror_mode": {
    "name": "ipython",
    "version": 3
   },
   "file_extension": ".py",
   "mimetype": "text/x-python",
   "name": "python",
   "nbconvert_exporter": "python",
   "pygments_lexer": "ipython3",
   "version": "3.10.13"
  }
 },
 "nbformat": 4,
 "nbformat_minor": 5
}
