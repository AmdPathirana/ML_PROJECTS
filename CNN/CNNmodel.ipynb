{
 "cells": [
  {
   "cell_type": "code",
   "execution_count": 1,
   "id": "b6156baf-14db-4650-9c9c-91b590dda079",
   "metadata": {},
   "outputs": [],
   "source": [
    "#import tensorflow \n",
    "import tensorflow "
   ]
  },
  {
   "cell_type": "markdown",
   "id": "936b980e-0bff-4ded-be61-7be9119fef1e",
   "metadata": {},
   "source": [
    "\n",
    "The CIFAR-10 data consists of 60,000 32x32 color images in 10 classes, with 6000 images per class. There are 50,000 training images and 10,000 test images in the official data. We have preserved the train/test split from the original dataset.  The provided files are:\n",
    "\n",
    "train.7z - a folder containing the training images in png format\n",
    "test.7z - a folder containing the test images in png format\n",
    "trainLabels.csv - the training labels\n",
    "\n",
    "To discourage certain forms of cheating (such as hand labeling) we have added 290,000 junk images in the test set. These images are ignored in the scoring. We have also made trivial modifications to the official 10,000 test images to prevent looking them up by file hash. These modifications should not appreciably affect the scoring. You should predict labels for all 300,000 images.\n",
    "\n",
    "The label classes in the dataset are:\n",
    "\n",
    "<font color='green'> \n",
    "\n",
    "airplane\n",
    "automobile \n",
    "bird \n",
    "cat \n",
    "deer \n",
    "dog \n",
    "frog \n",
    "horse \n",
    "ship \n",
    "truck\n",
    "<font>\n",
    "\n",
    "https://www.kaggle.com/c/cifar-10/data\n"
   ]
  },
  {
   "cell_type": "code",
   "execution_count": 2,
   "id": "48b09047-c963-4049-a8be-9ea3ae98433c",
   "metadata": {},
   "outputs": [],
   "source": [
    "#import built in data set call cifar 10\n",
    "from tensorflow.keras.datasets import cifar10\n",
    "\n",
    "#asign data to train and test \n",
    "train, test = cifar10.load_data()\n",
    "\n",
    "#asign data to features and labels \n",
    "x_train, y_train = train\n",
    "x_test, y_test = test\n"
   ]
  },
  {
   "cell_type": "code",
   "execution_count": 3,
   "id": "4f84f071-c6e0-4179-8115-afdd6a84b762",
   "metadata": {},
   "outputs": [
    {
     "name": "stdout",
     "output_type": "stream",
     "text": [
      "x_train: (50000, 32, 32, 3)\n",
      "y_train: (50000, 1)\n",
      "x_test: (10000, 32, 32, 3)\n",
      "y_test: (10000, 1)\n"
     ]
    }
   ],
   "source": [
    "#check the shape of the loaded and splitted data \n",
    "\n",
    "print(\"x_train: {}\".format(x_train.shape))\n",
    "print(\"y_train: {}\".format(y_train.shape))\n",
    "print(\"x_test: {}\".format(x_test.shape))\n",
    "print(\"y_test: {}\".format(y_test.shape))"
   ]
  },
  {
   "cell_type": "code",
   "execution_count": 4,
   "id": "2f128c20-c24f-4a72-9486-149cc51d38e4",
   "metadata": {},
   "outputs": [
    {
     "data": {
      "text/plain": [
       "<matplotlib.image.AxesImage at 0x169760a60>"
      ]
     },
     "execution_count": 4,
     "metadata": {},
     "output_type": "execute_result"
    },
    {
     "data": {
      "image/png": "[encoded data removed]",
      "text/plain": [
       "<Figure size 640x480 with 1 Axes>"
      ]
     },
     "metadata": {},
     "output_type": "display_data"
    }
   ],
   "source": [
    "import matplotlib.pyplot as plt\n",
    "\n",
    "#display a random loaded img\n",
    "plt.imshow(x_train[320])"
   ]
  },
  {
   "cell_type": "code",
   "execution_count": 5,
   "id": "f8f850ec-e116-4e0b-afdb-4b943a4afd7d",
   "metadata": {},
   "outputs": [],
   "source": [
    "#create function to get the name from the labels\n",
    "\n",
    "class_name = ['airplane', 'automobile', 'bird' , 'cat' , 'deer' , 'dog' , 'frog' , 'horse' , 'ship' , 'truck']\n",
    "\n",
    "def get_name(n):\n",
    "    return class_name[7]"
   ]
  },
  {
   "cell_type": "code",
   "execution_count": 6,
   "id": "3bb8ca80-a76f-486a-a4d2-510057cdb280",
   "metadata": {},
   "outputs": [
    {
     "name": "stdout",
     "output_type": "stream",
     "text": [
      "horse\n"
     ]
    },
    {
     "data": {
      "image/png": "[encoded data removed]",
      "text/plain": [
       "<Figure size 640x480 with 1 Axes>"
      ]
     },
     "metadata": {},
     "output_type": "display_data"
    }
   ],
   "source": [
    "n=202\n",
    "plt.imshow(x_test[n])\n",
    "print( get_name(int(y_test[n])))"
   ]
  },
  {
   "cell_type": "code",
   "execution_count": 7,
   "id": "03392414-40fe-4151-b5fa-3d79c868f34c",
   "metadata": {},
   "outputs": [
    {
     "name": "stdout",
     "output_type": "stream",
     "text": [
      "x_train  max: 255, x_train  min: 0\n"
     ]
    }
   ],
   "source": [
    "#get the maximum and minimum values \n",
    "print(\"x_train  max: {}, x_train  min: {}\". format(x_train.max(), x_train.min()))"
   ]
  },
  {
   "cell_type": "code",
   "execution_count": 8,
   "id": "90f6d2c6-eb49-4e63-b6ac-9241a92bd492",
   "metadata": {},
   "outputs": [],
   "source": [
    "#normalize data \n",
    "x_train = x_train/255\n",
    "x_test = x_test/255"
   ]
  },
  {
   "cell_type": "code",
   "execution_count": 9,
   "id": "818a8496-13cd-4944-b343-c38a22c6d837",
   "metadata": {},
   "outputs": [
    {
     "name": "stdout",
     "output_type": "stream",
     "text": [
      "x_train  max: 1.0, x_train  min: 0.0\n"
     ]
    }
   ],
   "source": [
    "#get the maximum and minimum values after normalizing \n",
    "print(\"x_train  max: {}, x_train  min: {}\". format(x_train.max(), x_train.min()))"
   ]
  },
  {
   "cell_type": "code",
   "execution_count": 26,
   "id": "97a3bb19-77d4-46dc-a200-cf8f24719abe",
   "metadata": {},
   "outputs": [],
   "source": [
    "#create the model \n",
    "\n",
    "from tensorflow.keras.models import Sequential\n",
    "\n",
    "model = Sequential()"
   ]
  },
  {
   "cell_type": "code",
   "execution_count": 27,
   "id": "65219e05-5ab4-40fa-9afe-77ebd02dd2b3",
   "metadata": {},
   "outputs": [],
   "source": [
    "#add first Conv2D layer \n",
    "from tensorflow.keras.layers import Conv2D\n",
    "\n",
    "#adding first layer Conv2D\n",
    "#filter (kernel) = 32\n",
    "#kernel size = 3\n",
    "#padding = same\n",
    "#activation = Relu\n",
    "#input shape = (32, 32, 3)\n",
    "#strides = (1,1)\n",
    "\n",
    "model.add(Conv2D(filters=32, kernel_size=3, padding='same', activation='relu', input_shape=[32, 32,3], strides=(1,1)))"
   ]
  },
  {
   "cell_type": "code",
   "execution_count": 28,
   "id": "fbd28730-fec8-4201-8598-6bed6aaa79cd",
   "metadata": {},
   "outputs": [],
   "source": [
    "#adding Conv2D layer and pooling layer \n",
    "\n",
    "#adding second layer Conv2D\n",
    "#number of filter = 32\n",
    "#kernel size =3\n",
    "#padding = same \n",
    "#activton = Relu \n",
    "#strides = (1,1)\n",
    "\n",
    "model.add(Conv2D(filters=32, kernel_size=3, activation='relu', padding='same', strides=(1,1)))\n",
    "\n",
    "#adding maxpool layer \n",
    "from tensorflow.keras.layers import MaxPooling2D\n",
    "model.add(MaxPooling2D(pool_size=2, strides=2, padding='valid'))"
   ]
  },
  {
   "cell_type": "code",
   "execution_count": 29,
   "id": "b4d9d995-992d-4096-94c4-632b9489d3e4",
   "metadata": {},
   "outputs": [],
   "source": [
    "#addig 3rd CNN layer \n",
    "model.add(Conv2D(filters=64, kernel_size=3, padding='same', activation='relu', strides=(1,1)))\n",
    "model.add(Conv2D(filters=64, kernel_size=3, padding='same', activation='relu', strides=(1,1)))\n",
    "model.add(MaxPooling2D(pool_size=2, strides=2, padding='valid'))"
   ]
  },
  {
   "cell_type": "code",
   "execution_count": 30,
   "id": "1b9f8d47-b717-4d9f-bdd6-e513930c1bf4",
   "metadata": {},
   "outputs": [],
   "source": [
    "#add dropuout layer \n",
    "\n",
    "from tensorflow.keras.layers import Dropout\n",
    "model.add(Dropout(0.4))"
   ]
  },
  {
   "cell_type": "code",
   "execution_count": 31,
   "id": "da312057-e449-4daf-a6dc-e9c5f7b195d1",
   "metadata": {},
   "outputs": [],
   "source": [
    "#add Flatten layers \n",
    "\n",
    "from tensorflow.keras.layers import Flatten\n",
    "model.add(Flatten())"
   ]
  },
  {
   "cell_type": "code",
   "execution_count": 32,
   "id": "a389d3be-9a9f-4b34-9811-221668e84d26",
   "metadata": {},
   "outputs": [],
   "source": [
    "#adding frist dense layer \n",
    "from tensorflow.keras.layers import Dense\n",
    "\n",
    "model.add(Dense(units=128, activation='relu'))"
   ]
  },
  {
   "cell_type": "code",
   "execution_count": 33,
   "id": "3b8fbf21-232a-4110-937c-1b5622717c48",
   "metadata": {},
   "outputs": [],
   "source": [
    "#adding secod dense layer \n",
    "model.add(Dense(units=64, activation='relu'))"
   ]
  },
  {
   "cell_type": "code",
   "execution_count": 34,
   "id": "864516b0-f42e-4c2d-8e82-c76b0d6a45f5",
   "metadata": {},
   "outputs": [],
   "source": [
    "#adding output layer \n",
    "model.add(Dense(units=10, activation='softmax'))"
   ]
  },
  {
   "cell_type": "code",
   "execution_count": 35,
   "id": "e4df518a-9e67-4eb1-9f6b-a9f5b6124ab1",
   "metadata": {},
   "outputs": [
    {
     "name": "stdout",
     "output_type": "stream",
     "text": [
      "Model: \"sequential_1\"\n",
      "_________________________________________________________________\n",
      " Layer (type)                Output Shape              Param #   \n",
      "=================================================================\n",
      " conv2d_9 (Conv2D)           (None, 32, 32, 32)        896       \n",
      "                                                                 \n",
      " conv2d_10 (Conv2D)          (None, 32, 32, 32)        9248      \n",
      "                                                                 \n",
      " max_pooling2d_2 (MaxPooling  (None, 16, 16, 32)       0         \n",
      " 2D)                                                             \n",
      "                                                                 \n",
      " conv2d_11 (Conv2D)          (None, 16, 16, 64)        18496     \n",
      "                                                                 \n",
      " conv2d_12 (Conv2D)          (None, 16, 16, 64)        36928     \n",
      "                                                                 \n",
      " max_pooling2d_3 (MaxPooling  (None, 8, 8, 64)         0         \n",
      " 2D)                                                             \n",
      "                                                                 \n",
      " dropout_1 (Dropout)         (None, 8, 8, 64)          0         \n",
      "                                                                 \n",
      " flatten_1 (Flatten)         (None, 4096)              0         \n",
      "                                                                 \n",
      " dense_3 (Dense)             (None, 128)               524416    \n",
      "                                                                 \n",
      " dense_4 (Dense)             (None, 64)                8256      \n",
      "                                                                 \n",
      " dense_5 (Dense)             (None, 10)                650       \n",
      "                                                                 \n",
      "=================================================================\n",
      "Total params: 598,890\n",
      "Trainable params: 598,890\n",
      "Non-trainable params: 0\n",
      "_________________________________________________________________\n"
     ]
    }
   ],
   "source": [
    "model.summary()"
   ]
  },
  {
   "cell_type": "code",
   "execution_count": 36,
   "id": "1ff5ca01-3bff-4d32-867f-ae6eee032ac9",
   "metadata": {},
   "outputs": [],
   "source": [
    "#model compile \n",
    "model.compile(loss='sparse_categorical_crossentropy', optimizer='adam', metrics=['sparse_categorical_accuracy'])"
   ]
  },
  {
   "cell_type": "code",
   "execution_count": null,
   "id": "5d9df5a0-54c8-4592-8351-6494aa76fc2e",
   "metadata": {},
   "outputs": [
    {
     "name": "stdout",
     "output_type": "stream",
     "text": [
      "Epoch 1/100\n"
     ]
    },
    {
     "name": "stderr",
     "output_type": "stream",
     "text": [
      "2023-12-19 22:25:27.115799: W tensorflow/tsl/platform/profile_utils/cpu_utils.cc:128] Failed to get CPU frequency: 0 Hz\n"
     ]
    },
    {
     "name": "stdout",
     "output_type": "stream",
     "text": [
      "2500/2500 [==============================] - 123s 49ms/step - loss: 1.4224 - sparse_categorical_accuracy: 0.4861 - val_loss: 1.0771 - val_sparse_categorical_accuracy: 0.6128\n",
      "Epoch 2/100\n",
      "2500/2500 [==============================] - 120s 48ms/step - loss: 1.0007 - sparse_categorical_accuracy: 0.6447 - val_loss: 0.8837 - val_sparse_categorical_accuracy: 0.6916\n",
      "Epoch 3/100\n",
      "2500/2500 [==============================] - 124s 50ms/step - loss: 0.8464 - sparse_categorical_accuracy: 0.7050 - val_loss: 0.8646 - val_sparse_categorical_accuracy: 0.7037\n",
      "Epoch 4/100\n",
      "2500/2500 [==============================] - 122s 49ms/step - loss: 0.7505 - sparse_categorical_accuracy: 0.7358 - val_loss: 0.7727 - val_sparse_categorical_accuracy: 0.7283\n",
      "Epoch 5/100\n",
      "2500/2500 [==============================] - 142s 57ms/step - loss: 0.6773 - sparse_categorical_accuracy: 0.7619 - val_loss: 0.8153 - val_sparse_categorical_accuracy: 0.7196\n",
      "Epoch 6/100\n",
      "2500/2500 [==============================] - 113s 45ms/step - loss: 0.6241 - sparse_categorical_accuracy: 0.7813 - val_loss: 0.7406 - val_sparse_categorical_accuracy: 0.7480\n",
      "Epoch 7/100\n",
      "2500/2500 [==============================] - 112s 45ms/step - loss: 0.5818 - sparse_categorical_accuracy: 0.7952 - val_loss: 0.7324 - val_sparse_categorical_accuracy: 0.7542\n",
      "Epoch 8/100\n",
      "1605/2500 [==================>...........] - ETA: 42s - loss: 0.5444 - sparse_categorical_accuracy: 0.8072"
     ]
    }
   ],
   "source": [
    "#model fit \n",
    "from tensorflow.keras.callbacks import EarlyStopping\n",
    "\n",
    "callbacks = EarlyStopping(monitor='val_loss', patience=10, verbose=1)\n",
    "history = model.fit(x_train, y_train, epochs=100, verbose=1, batch_size=20, validation_data=(x_test, y_test),callbacks=[callbacks] )"
   ]
  },
  {
   "cell_type": "code",
   "execution_count": null,
   "id": "240d76d1-bf9d-4aa5-be3f-e6dc3e8f7e37",
   "metadata": {},
   "outputs": [],
   "source": []
  }
 ],
 "metadata": {
  "kernelspec": {
   "display_name": "ML_PROJECTS_Kernel",
   "language": "python",
   "name": "ml_projects"
  },
  "language_info": {
   "codemirror_mode": {
    "name": "ipython",
    "version": 3
   },
   "file_extension": ".py",
   "mimetype": "text/x-python",
   "name": "python",
   "nbconvert_exporter": "python",
   "pygments_lexer": "ipython3",
   "version": "3.10.13"
  }
 },
 "nbformat": 4,
 "nbformat_minor": 5
}
