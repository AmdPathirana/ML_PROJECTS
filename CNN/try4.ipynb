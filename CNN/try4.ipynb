{
 "cells": [
  {
   "cell_type": "code",
   "execution_count": 29,
   "id": "b320b839-09ff-401f-86d6-cad4ed3dfb98",
   "metadata": {},
   "outputs": [],
   "source": [
    "import tensorflow "
   ]
  },
  {
   "cell_type": "code",
   "execution_count": 30,
   "id": "590cb065-ed12-4533-9b04-389f0a1282f9",
   "metadata": {},
   "outputs": [],
   "source": [
    "from tensorflow.keras.datasets import cifar10\n",
    "data  = cifar10.load_data()\n",
    "(x_train, y_train), (x_test, y_test) = data"
   ]
  },
  {
   "cell_type": "code",
   "execution_count": 31,
   "id": "e7400694-4a2b-4f58-8134-5744ef080e28",
   "metadata": {},
   "outputs": [
    {
     "name": "stdout",
     "output_type": "stream",
     "text": [
      "(50000, 32, 32, 3)\n",
      "(50000, 1)\n",
      "(10000, 32, 32, 3)\n",
      "(10000, 1)\n"
     ]
    }
   ],
   "source": [
    "print(x_train.shape)\n",
    "print(y_train.shape)\n",
    "print(x_test.shape)\n",
    "print(y_test.shape)"
   ]
  },
  {
   "cell_type": "code",
   "execution_count": 32,
   "id": "5cfd5d41-f958-4840-b932-d7719a0f1c66",
   "metadata": {},
   "outputs": [
    {
     "data": {
      "text/plain": [
       "array([[[ 65,  68,  50],\n",
       "        [ 70,  81,  64],\n",
       "        [ 48,  64,  46],\n",
       "        ...,\n",
       "        [ 51,  67,  41],\n",
       "        [ 54,  76,  53],\n",
       "        [ 67,  87,  66]],\n",
       "\n",
       "       [[ 69,  80,  58],\n",
       "        [ 79, 102,  81],\n",
       "        [ 60,  74,  57],\n",
       "        ...,\n",
       "        [ 54,  66,  44],\n",
       "        [ 65,  90,  69],\n",
       "        [ 61,  81,  66]],\n",
       "\n",
       "       [[ 73,  95,  72],\n",
       "        [ 84, 109,  87],\n",
       "        [ 72,  88,  70],\n",
       "        ...,\n",
       "        [ 78,  98,  75],\n",
       "        [ 73,  98,  77],\n",
       "        [ 48,  59,  51]],\n",
       "\n",
       "       ...,\n",
       "\n",
       "       [[ 95, 127,  92],\n",
       "        [ 91, 123,  86],\n",
       "        [ 57,  79,  45],\n",
       "        ...,\n",
       "        [144, 172, 108],\n",
       "        [170, 201, 134],\n",
       "        [122, 143,  98]],\n",
       "\n",
       "       [[ 94, 125,  82],\n",
       "        [ 75, 104,  71],\n",
       "        [ 32,  52,  24],\n",
       "        ...,\n",
       "        [143, 181, 116],\n",
       "        [154, 188, 123],\n",
       "        [106, 129,  89]],\n",
       "\n",
       "       [[ 78, 102,  65],\n",
       "        [ 35,  51,  27],\n",
       "        [ 24,  40,  17],\n",
       "        ...,\n",
       "        [143, 179, 136],\n",
       "        [154, 185, 146],\n",
       "        [128, 156, 117]]], dtype=uint8)"
      ]
     },
     "execution_count": 32,
     "metadata": {},
     "output_type": "execute_result"
    }
   ],
   "source": [
    "x_test[4]"
   ]
  },
  {
   "cell_type": "code",
   "execution_count": 33,
   "id": "34aee010-0539-4e9c-8116-5bd5c2d18769",
   "metadata": {},
   "outputs": [],
   "source": [
    "class_name = ['airplane', 'automobile', 'bird' , 'cat' , 'deer' , 'dog' , 'frog' , 'horse' , 'ship' , 'truck']\n",
    "\n",
    "def get_name(n):\n",
    "    return class_name[int(n)]"
   ]
  },
  {
   "cell_type": "code",
   "execution_count": 34,
   "id": "168b359b-f627-4be5-8d80-919697288ba6",
   "metadata": {},
   "outputs": [
    {
     "name": "stdout",
     "output_type": "stream",
     "text": [
      "ship\n"
     ]
    },
    {
     "data": {
      "image/png": "[encoded data removed]",
      "text/plain": [
       "<Figure size 640x480 with 1 Axes>"
      ]
     },
     "metadata": {},
     "output_type": "display_data"
    }
   ],
   "source": [
    "import matplotlib.pyplot as plt \n",
    "N=2220\n",
    "plt.imshow(x_train[N])\n",
    "print(get_name(y_train[N]))"
   ]
  },
  {
   "cell_type": "code",
   "execution_count": 35,
   "id": "e574f2ba-2f73-4e3e-a385-d5432c28ca87",
   "metadata": {},
   "outputs": [],
   "source": [
    "x_train = x_train/255\n",
    "x_test  = x_test/255"
   ]
  },
  {
   "cell_type": "code",
   "execution_count": 55,
   "id": "0408c430-665b-4841-a134-7e059dab41bf",
   "metadata": {},
   "outputs": [
    {
     "data": {
      "text/plain": [
       "(10000, 32, 32, 3)"
      ]
     },
     "execution_count": 55,
     "metadata": {},
     "output_type": "execute_result"
    }
   ],
   "source": [
    "x_test.shape"
   ]
  },
  {
   "cell_type": "code",
   "execution_count": 79,
   "id": "1aaea1b2-5846-4cfc-80ba-b20f53aed879",
   "metadata": {},
   "outputs": [],
   "source": [
    "from tensorflow.keras.models import Sequential \n",
    "\n",
    "model = Sequential()"
   ]
  },
  {
   "cell_type": "code",
   "execution_count": 80,
   "id": "cdde6fee-5c84-42c8-9a28-8a28d7a03925",
   "metadata": {},
   "outputs": [],
   "source": [
    "from tensorflow.keras.layers import Conv2D\n",
    "from tensorflow.keras.layers import MaxPooling2D\n",
    "from tensorflow.keras.layers import Dense\n",
    "from tensorflow.keras.layers import Flatten\n",
    "\n",
    "\n",
    "model.add(Conv2D(input_shape=(32, 32, 3), filters=32, kernel_size=3, padding='same', activation='relu', strides=(1,1)))\n",
    "model.add(Conv2D(filters=32, kernel_size=3, padding='same', activation='relu', strides=(1,1)))\n",
    "model.add(Conv2D(filters=32, kernel_size=3, padding='same', activation='relu', strides=(1,1)))\n",
    "model.add(MaxPooling2D(pool_size=2, strides=2, padding='valid'))\n",
    "\n",
    "model.add(Conv2D(filters=64, kernel_size=3, padding='same', strides=(1,1), activation='relu'))\n",
    "model.add(Conv2D(filters=64, kernel_size=3, padding='same', strides=(1,1), activation='relu'))\n",
    "model.add(MaxPooling2D(pool_size=2, strides=2, padding='valid'))\n",
    "\n",
    "model.add(Dense(0.3))\n",
    "\n",
    "model.add(Flatten())\n",
    "\n",
    "# from tensorflow.keras.layers import Conv2D\n",
    "# from tensorflow.keras.layers import MaxPooling2D\n",
    "# from tensorflow.keras.layers import Dropout\n",
    "# from tensorflow.keras.layers import Flatten\n",
    "\n",
    "# model.add(Conv2D(filters=32, kernel_size=3, padding='same', activation='relu', strides=(1,1), input_shape=(32, 32,3)))\n",
    "# model.add(Conv2D(filters=32, kernel_size=3, padding='same', activation='relu', strides=(1,1)))\n",
    "# model.add(MaxPooling2D(pool_size=2, strides=2, padding='valid'))\n",
    "\n",
    "# model.add(Conv2D(filters=64, kernel_size=3, padding='same', activation='relu', strides=(1,1)))\n",
    "# model.add(Conv2D(filters=64, kernel_size=3, padding='same', activation='relu', strides=(1,1)))\n",
    "# model.add(MaxPooling2D(padding='valid', pool_size=2, strides=2))\n",
    "\n",
    "# model.add(Dropout(0.3))\n",
    "\n",
    "# model.add(Flatten())\n"
   ]
  },
  {
   "cell_type": "code",
   "execution_count": 81,
   "id": "677fb7ab-c6b8-4b36-8689-bda727ab0548",
   "metadata": {},
   "outputs": [],
   "source": [
    "model.add(Dense(units=128, activation='relu'))\n",
    "model.add(Dense(units=64, activation='relu'))\n",
    "model.add(Dense(units=32, activation='relu'))\n",
    "model.add(Dense(units=10, activation='softmax'))"
   ]
  },
  {
   "cell_type": "code",
   "execution_count": 82,
   "id": "6e4aad2c-ad1d-43ba-bd40-fac0b29b40bf",
   "metadata": {},
   "outputs": [
    {
     "name": "stdout",
     "output_type": "stream",
     "text": [
      "Model: \"sequential_10\"\n",
      "_________________________________________________________________\n",
      " Layer (type)                Output Shape              Param #   \n",
      "=================================================================\n",
      " conv2d_45 (Conv2D)          (None, 32, 32, 32)        896       \n",
      "                                                                 \n",
      " conv2d_46 (Conv2D)          (None, 32, 32, 32)        9248      \n",
      "                                                                 \n",
      " conv2d_47 (Conv2D)          (None, 32, 32, 32)        9248      \n",
      "                                                                 \n",
      " max_pooling2d_22 (MaxPoolin  (None, 16, 16, 32)       0         \n",
      " g2D)                                                            \n",
      "                                                                 \n",
      " conv2d_48 (Conv2D)          (None, 16, 16, 64)        18496     \n",
      "                                                                 \n",
      " conv2d_49 (Conv2D)          (None, 16, 16, 64)        36928     \n",
      "                                                                 \n",
      " max_pooling2d_23 (MaxPoolin  (None, 8, 8, 64)         0         \n",
      " g2D)                                                            \n",
      "                                                                 \n",
      " dense_43 (Dense)            (None, 8, 8, 0)           0         \n",
      "                                                                 \n",
      " flatten_8 (Flatten)         (None, 0)                 0         \n",
      "                                                                 \n",
      " dense_44 (Dense)            (None, 128)               128       \n",
      "                                                                 \n",
      " dense_45 (Dense)            (None, 64)                8256      \n",
      "                                                                 \n",
      " dense_46 (Dense)            (None, 32)                2080      \n",
      "                                                                 \n",
      " dense_47 (Dense)            (None, 10)                330       \n",
      "                                                                 \n",
      "=================================================================\n",
      "Total params: 85,610\n",
      "Trainable params: 85,610\n",
      "Non-trainable params: 0\n",
      "_________________________________________________________________\n"
     ]
    }
   ],
   "source": [
    "model.summary()"
   ]
  },
  {
   "cell_type": "code",
   "execution_count": 83,
   "id": "098918d6-4563-46f2-870c-234044656f1e",
   "metadata": {},
   "outputs": [],
   "source": [
    "model.compile(loss='sparse_categorical_crossentropy', optimizer='adam', metrics=['sparse_categorical_accuracy'])"
   ]
  },
  {
   "cell_type": "code",
   "execution_count": 84,
   "id": "dcf9e049-c8f7-4232-8a60-f721f4942762",
   "metadata": {},
   "outputs": [
    {
     "name": "stdout",
     "output_type": "stream",
     "text": [
      "Epoch 1/50\n"
     ]
    },
    {
     "name": "stderr",
     "output_type": "stream",
     "text": [
      "2024-01-04 11:09:04.071809: I tensorflow/core/common_runtime/executor.cc:1197] [/job:localhost/replica:0/task:0/device:CPU:0] (DEBUG INFO) Executor start aborting (this does not indicate an error and you can ignore this message): INVALID_ARGUMENT: logits and labels must have the same first dimension, got logits shape [3200,10] and labels shape [50]\n",
      "\t [[{{node sparse_categorical_crossentropy/SparseSoftmaxCrossEntropyWithLogits/SparseSoftmaxCrossEntropyWithLogits}}]]\n"
     ]
    },
    {
     "ename": "InvalidArgumentError",
     "evalue": "Graph execution error:\n\nDetected at node 'sparse_categorical_crossentropy/SparseSoftmaxCrossEntropyWithLogits/SparseSoftmaxCrossEntropyWithLogits' defined at (most recent call last):\n    File \"/Users/amodpathirana/anaconda3/envs/ML_PROJECTS/lib/python3.10/runpy.py\", line 196, in _run_module_as_main\n      return _run_code(code, main_globals, None,\n    File \"/Users/amodpathirana/anaconda3/envs/ML_PROJECTS/lib/python3.10/runpy.py\", line 86, in _run_code\n      exec(code, run_globals)\n    File \"/Users/amodpathirana/anaconda3/envs/ML_PROJECTS/lib/python3.10/site-packages/ipykernel_launcher.py\", line 17, in <module>\n      app.launch_new_instance()\n    File \"/Users/amodpathirana/anaconda3/envs/ML_PROJECTS/lib/python3.10/site-packages/traitlets/config/application.py\", line 1077, in launch_instance\n      app.start()\n    File \"/Users/amodpathirana/anaconda3/envs/ML_PROJECTS/lib/python3.10/site-packages/ipykernel/kernelapp.py\", line 737, in start\n      self.io_loop.start()\n    File \"/Users/amodpathirana/anaconda3/envs/ML_PROJECTS/lib/python3.10/site-packages/tornado/platform/asyncio.py\", line 195, in start\n      self.asyncio_loop.run_forever()\n    File \"/Users/amodpathirana/anaconda3/envs/ML_PROJECTS/lib/python3.10/asyncio/base_events.py\", line 603, in run_forever\n      self._run_once()\n    File \"/Users/amodpathirana/anaconda3/envs/ML_PROJECTS/lib/python3.10/asyncio/base_events.py\", line 1909, in _run_once\n      handle._run()\n    File \"/Users/amodpathirana/anaconda3/envs/ML_PROJECTS/lib/python3.10/asyncio/events.py\", line 80, in _run\n      self._context.run(self._callback, *self._args)\n    File \"/Users/amodpathirana/anaconda3/envs/ML_PROJECTS/lib/python3.10/site-packages/ipykernel/kernelbase.py\", line 524, in dispatch_queue\n      await self.process_one()\n    File \"/Users/amodpathirana/anaconda3/envs/ML_PROJECTS/lib/python3.10/site-packages/ipykernel/kernelbase.py\", line 513, in process_one\n      await dispatch(*args)\n    File \"/Users/amodpathirana/anaconda3/envs/ML_PROJECTS/lib/python3.10/site-packages/ipykernel/kernelbase.py\", line 418, in dispatch_shell\n      await result\n    File \"/Users/amodpathirana/anaconda3/envs/ML_PROJECTS/lib/python3.10/site-packages/ipykernel/kernelbase.py\", line 758, in execute_request\n      reply_content = await reply_content\n    File \"/Users/amodpathirana/anaconda3/envs/ML_PROJECTS/lib/python3.10/site-packages/ipykernel/ipkernel.py\", line 426, in do_execute\n      res = shell.run_cell(\n    File \"/Users/amodpathirana/anaconda3/envs/ML_PROJECTS/lib/python3.10/site-packages/ipykernel/zmqshell.py\", line 549, in run_cell\n      return super().run_cell(*args, **kwargs)\n    File \"/Users/amodpathirana/anaconda3/envs/ML_PROJECTS/lib/python3.10/site-packages/IPython/core/interactiveshell.py\", line 3048, in run_cell\n      result = self._run_cell(\n    File \"/Users/amodpathirana/anaconda3/envs/ML_PROJECTS/lib/python3.10/site-packages/IPython/core/interactiveshell.py\", line 3103, in _run_cell\n      result = runner(coro)\n    File \"/Users/amodpathirana/anaconda3/envs/ML_PROJECTS/lib/python3.10/site-packages/IPython/core/async_helpers.py\", line 129, in _pseudo_sync_runner\n      coro.send(None)\n    File \"/Users/amodpathirana/anaconda3/envs/ML_PROJECTS/lib/python3.10/site-packages/IPython/core/interactiveshell.py\", line 3308, in run_cell_async\n      has_raised = await self.run_ast_nodes(code_ast.body, cell_name,\n    File \"/Users/amodpathirana/anaconda3/envs/ML_PROJECTS/lib/python3.10/site-packages/IPython/core/interactiveshell.py\", line 3490, in run_ast_nodes\n      if await self.run_code(code, result, async_=asy):\n    File \"/Users/amodpathirana/anaconda3/envs/ML_PROJECTS/lib/python3.10/site-packages/IPython/core/interactiveshell.py\", line 3550, in run_code\n      exec(code_obj, self.user_global_ns, self.user_ns)\n    File \"/var/folders/gw/59d_3_md4pz0_dn5bhy5b8cc0000gn/T/ipykernel_81146/2882947598.py\", line 3, in <module>\n      history  = model.fit(x_train, y_train, epochs=50, batch_size=50, verbose=1, validation_data=(x_test, y_test),callbacks=(callbacks) )\n    File \"/Users/amodpathirana/anaconda3/envs/ML_PROJECTS/lib/python3.10/site-packages/keras/utils/traceback_utils.py\", line 65, in error_handler\n      return fn(*args, **kwargs)\n    File \"/Users/amodpathirana/anaconda3/envs/ML_PROJECTS/lib/python3.10/site-packages/keras/engine/training.py\", line 1685, in fit\n      tmp_logs = self.train_function(iterator)\n    File \"/Users/amodpathirana/anaconda3/envs/ML_PROJECTS/lib/python3.10/site-packages/keras/engine/training.py\", line 1284, in train_function\n      return step_function(self, iterator)\n    File \"/Users/amodpathirana/anaconda3/envs/ML_PROJECTS/lib/python3.10/site-packages/keras/engine/training.py\", line 1268, in step_function\n      outputs = model.distribute_strategy.run(run_step, args=(data,))\n    File \"/Users/amodpathirana/anaconda3/envs/ML_PROJECTS/lib/python3.10/site-packages/keras/engine/training.py\", line 1249, in run_step\n      outputs = model.train_step(data)\n    File \"/Users/amodpathirana/anaconda3/envs/ML_PROJECTS/lib/python3.10/site-packages/keras/engine/training.py\", line 1051, in train_step\n      loss = self.compute_loss(x, y, y_pred, sample_weight)\n    File \"/Users/amodpathirana/anaconda3/envs/ML_PROJECTS/lib/python3.10/site-packages/keras/engine/training.py\", line 1109, in compute_loss\n      return self.compiled_loss(\n    File \"/Users/amodpathirana/anaconda3/envs/ML_PROJECTS/lib/python3.10/site-packages/keras/engine/compile_utils.py\", line 265, in __call__\n      loss_value = loss_obj(y_t, y_p, sample_weight=sw)\n    File \"/Users/amodpathirana/anaconda3/envs/ML_PROJECTS/lib/python3.10/site-packages/keras/losses.py\", line 142, in __call__\n      losses = call_fn(y_true, y_pred)\n    File \"/Users/amodpathirana/anaconda3/envs/ML_PROJECTS/lib/python3.10/site-packages/keras/losses.py\", line 268, in call\n      return ag_fn(y_true, y_pred, **self._fn_kwargs)\n    File \"/Users/amodpathirana/anaconda3/envs/ML_PROJECTS/lib/python3.10/site-packages/keras/losses.py\", line 2078, in sparse_categorical_crossentropy\n      return backend.sparse_categorical_crossentropy(\n    File \"/Users/amodpathirana/anaconda3/envs/ML_PROJECTS/lib/python3.10/site-packages/keras/backend.py\", line 5660, in sparse_categorical_crossentropy\n      res = tf.nn.sparse_softmax_cross_entropy_with_logits(\nNode: 'sparse_categorical_crossentropy/SparseSoftmaxCrossEntropyWithLogits/SparseSoftmaxCrossEntropyWithLogits'\nlogits and labels must have the same first dimension, got logits shape [3200,10] and labels shape [50]\n\t [[{{node sparse_categorical_crossentropy/SparseSoftmaxCrossEntropyWithLogits/SparseSoftmaxCrossEntropyWithLogits}}]] [Op:__inference_train_function_27792]",
     "output_type": "error",
     "traceback": [
      "\u001b[0;31m---------------------------------------------------------------------------\u001b[0m",
      "\u001b[0;31mInvalidArgumentError\u001b[0m                      Traceback (most recent call last)",
      "Cell \u001b[0;32mIn[84], line 3\u001b[0m\n\u001b[1;32m      1\u001b[0m \u001b[38;5;28;01mfrom\u001b[39;00m \u001b[38;5;21;01mtensorflow\u001b[39;00m\u001b[38;5;21;01m.\u001b[39;00m\u001b[38;5;21;01mkeras\u001b[39;00m\u001b[38;5;21;01m.\u001b[39;00m\u001b[38;5;21;01mcallbacks\u001b[39;00m \u001b[38;5;28;01mimport\u001b[39;00m EarlyStopping\n\u001b[1;32m      2\u001b[0m callbacks \u001b[38;5;241m=\u001b[39m EarlyStopping(monitor\u001b[38;5;241m=\u001b[39m\u001b[38;5;124m'\u001b[39m\u001b[38;5;124mval_loss\u001b[39m\u001b[38;5;124m'\u001b[39m, patience\u001b[38;5;241m=\u001b[39m\u001b[38;5;241m5\u001b[39m, verbose\u001b[38;5;241m=\u001b[39m\u001b[38;5;241m1\u001b[39m)\n\u001b[0;32m----> 3\u001b[0m history  \u001b[38;5;241m=\u001b[39m \u001b[43mmodel\u001b[49m\u001b[38;5;241;43m.\u001b[39;49m\u001b[43mfit\u001b[49m\u001b[43m(\u001b[49m\u001b[43mx_train\u001b[49m\u001b[43m,\u001b[49m\u001b[43m \u001b[49m\u001b[43my_train\u001b[49m\u001b[43m,\u001b[49m\u001b[43m \u001b[49m\u001b[43mepochs\u001b[49m\u001b[38;5;241;43m=\u001b[39;49m\u001b[38;5;241;43m50\u001b[39;49m\u001b[43m,\u001b[49m\u001b[43m \u001b[49m\u001b[43mbatch_size\u001b[49m\u001b[38;5;241;43m=\u001b[39;49m\u001b[38;5;241;43m50\u001b[39;49m\u001b[43m,\u001b[49m\u001b[43m \u001b[49m\u001b[43mverbose\u001b[49m\u001b[38;5;241;43m=\u001b[39;49m\u001b[38;5;241;43m1\u001b[39;49m\u001b[43m,\u001b[49m\u001b[43m \u001b[49m\u001b[43mvalidation_data\u001b[49m\u001b[38;5;241;43m=\u001b[39;49m\u001b[43m(\u001b[49m\u001b[43mx_test\u001b[49m\u001b[43m,\u001b[49m\u001b[43m \u001b[49m\u001b[43my_test\u001b[49m\u001b[43m)\u001b[49m\u001b[43m,\u001b[49m\u001b[43mcallbacks\u001b[49m\u001b[38;5;241;43m=\u001b[39;49m\u001b[43m(\u001b[49m\u001b[43mcallbacks\u001b[49m\u001b[43m)\u001b[49m\u001b[43m \u001b[49m\u001b[43m)\u001b[49m\n",
      "File \u001b[0;32m~/anaconda3/envs/ML_PROJECTS/lib/python3.10/site-packages/keras/utils/traceback_utils.py:70\u001b[0m, in \u001b[0;36mfilter_traceback.<locals>.error_handler\u001b[0;34m(*args, **kwargs)\u001b[0m\n\u001b[1;32m     67\u001b[0m     filtered_tb \u001b[38;5;241m=\u001b[39m _process_traceback_frames(e\u001b[38;5;241m.\u001b[39m__traceback__)\n\u001b[1;32m     68\u001b[0m     \u001b[38;5;66;03m# To get the full stack trace, call:\u001b[39;00m\n\u001b[1;32m     69\u001b[0m     \u001b[38;5;66;03m# `tf.debugging.disable_traceback_filtering()`\u001b[39;00m\n\u001b[0;32m---> 70\u001b[0m     \u001b[38;5;28;01mraise\u001b[39;00m e\u001b[38;5;241m.\u001b[39mwith_traceback(filtered_tb) \u001b[38;5;28;01mfrom\u001b[39;00m \u001b[38;5;28;01mNone\u001b[39;00m\n\u001b[1;32m     71\u001b[0m \u001b[38;5;28;01mfinally\u001b[39;00m:\n\u001b[1;32m     72\u001b[0m     \u001b[38;5;28;01mdel\u001b[39;00m filtered_tb\n",
      "File \u001b[0;32m~/anaconda3/envs/ML_PROJECTS/lib/python3.10/site-packages/tensorflow/python/eager/execute.py:52\u001b[0m, in \u001b[0;36mquick_execute\u001b[0;34m(op_name, num_outputs, inputs, attrs, ctx, name)\u001b[0m\n\u001b[1;32m     50\u001b[0m \u001b[38;5;28;01mtry\u001b[39;00m:\n\u001b[1;32m     51\u001b[0m   ctx\u001b[38;5;241m.\u001b[39mensure_initialized()\n\u001b[0;32m---> 52\u001b[0m   tensors \u001b[38;5;241m=\u001b[39m pywrap_tfe\u001b[38;5;241m.\u001b[39mTFE_Py_Execute(ctx\u001b[38;5;241m.\u001b[39m_handle, device_name, op_name,\n\u001b[1;32m     53\u001b[0m                                       inputs, attrs, num_outputs)\n\u001b[1;32m     54\u001b[0m \u001b[38;5;28;01mexcept\u001b[39;00m core\u001b[38;5;241m.\u001b[39m_NotOkStatusException \u001b[38;5;28;01mas\u001b[39;00m e:\n\u001b[1;32m     55\u001b[0m   \u001b[38;5;28;01mif\u001b[39;00m name \u001b[38;5;129;01mis\u001b[39;00m \u001b[38;5;129;01mnot\u001b[39;00m \u001b[38;5;28;01mNone\u001b[39;00m:\n",
      "\u001b[0;31mInvalidArgumentError\u001b[0m: Graph execution error:\n\nDetected at node 'sparse_categorical_crossentropy/SparseSoftmaxCrossEntropyWithLogits/SparseSoftmaxCrossEntropyWithLogits' defined at (most recent call last):\n    File \"/Users/amodpathirana/anaconda3/envs/ML_PROJECTS/lib/python3.10/runpy.py\", line 196, in _run_module_as_main\n      return _run_code(code, main_globals, None,\n    File \"/Users/amodpathirana/anaconda3/envs/ML_PROJECTS/lib/python3.10/runpy.py\", line 86, in _run_code\n      exec(code, run_globals)\n    File \"/Users/amodpathirana/anaconda3/envs/ML_PROJECTS/lib/python3.10/site-packages/ipykernel_launcher.py\", line 17, in <module>\n      app.launch_new_instance()\n    File \"/Users/amodpathirana/anaconda3/envs/ML_PROJECTS/lib/python3.10/site-packages/traitlets/config/application.py\", line 1077, in launch_instance\n      app.start()\n    File \"/Users/amodpathirana/anaconda3/envs/ML_PROJECTS/lib/python3.10/site-packages/ipykernel/kernelapp.py\", line 737, in start\n      self.io_loop.start()\n    File \"/Users/amodpathirana/anaconda3/envs/ML_PROJECTS/lib/python3.10/site-packages/tornado/platform/asyncio.py\", line 195, in start\n      self.asyncio_loop.run_forever()\n    File \"/Users/amodpathirana/anaconda3/envs/ML_PROJECTS/lib/python3.10/asyncio/base_events.py\", line 603, in run_forever\n      self._run_once()\n    File \"/Users/amodpathirana/anaconda3/envs/ML_PROJECTS/lib/python3.10/asyncio/base_events.py\", line 1909, in _run_once\n      handle._run()\n    File \"/Users/amodpathirana/anaconda3/envs/ML_PROJECTS/lib/python3.10/asyncio/events.py\", line 80, in _run\n      self._context.run(self._callback, *self._args)\n    File \"/Users/amodpathirana/anaconda3/envs/ML_PROJECTS/lib/python3.10/site-packages/ipykernel/kernelbase.py\", line 524, in dispatch_queue\n      await self.process_one()\n    File \"/Users/amodpathirana/anaconda3/envs/ML_PROJECTS/lib/python3.10/site-packages/ipykernel/kernelbase.py\", line 513, in process_one\n      await dispatch(*args)\n    File \"/Users/amodpathirana/anaconda3/envs/ML_PROJECTS/lib/python3.10/site-packages/ipykernel/kernelbase.py\", line 418, in dispatch_shell\n      await result\n    File \"/Users/amodpathirana/anaconda3/envs/ML_PROJECTS/lib/python3.10/site-packages/ipykernel/kernelbase.py\", line 758, in execute_request\n      reply_content = await reply_content\n    File \"/Users/amodpathirana/anaconda3/envs/ML_PROJECTS/lib/python3.10/site-packages/ipykernel/ipkernel.py\", line 426, in do_execute\n      res = shell.run_cell(\n    File \"/Users/amodpathirana/anaconda3/envs/ML_PROJECTS/lib/python3.10/site-packages/ipykernel/zmqshell.py\", line 549, in run_cell\n      return super().run_cell(*args, **kwargs)\n    File \"/Users/amodpathirana/anaconda3/envs/ML_PROJECTS/lib/python3.10/site-packages/IPython/core/interactiveshell.py\", line 3048, in run_cell\n      result = self._run_cell(\n    File \"/Users/amodpathirana/anaconda3/envs/ML_PROJECTS/lib/python3.10/site-packages/IPython/core/interactiveshell.py\", line 3103, in _run_cell\n      result = runner(coro)\n    File \"/Users/amodpathirana/anaconda3/envs/ML_PROJECTS/lib/python3.10/site-packages/IPython/core/async_helpers.py\", line 129, in _pseudo_sync_runner\n      coro.send(None)\n    File \"/Users/amodpathirana/anaconda3/envs/ML_PROJECTS/lib/python3.10/site-packages/IPython/core/interactiveshell.py\", line 3308, in run_cell_async\n      has_raised = await self.run_ast_nodes(code_ast.body, cell_name,\n    File \"/Users/amodpathirana/anaconda3/envs/ML_PROJECTS/lib/python3.10/site-packages/IPython/core/interactiveshell.py\", line 3490, in run_ast_nodes\n      if await self.run_code(code, result, async_=asy):\n    File \"/Users/amodpathirana/anaconda3/envs/ML_PROJECTS/lib/python3.10/site-packages/IPython/core/interactiveshell.py\", line 3550, in run_code\n      exec(code_obj, self.user_global_ns, self.user_ns)\n    File \"/var/folders/gw/59d_3_md4pz0_dn5bhy5b8cc0000gn/T/ipykernel_81146/2882947598.py\", line 3, in <module>\n      history  = model.fit(x_train, y_train, epochs=50, batch_size=50, verbose=1, validation_data=(x_test, y_test),callbacks=(callbacks) )\n    File \"/Users/amodpathirana/anaconda3/envs/ML_PROJECTS/lib/python3.10/site-packages/keras/utils/traceback_utils.py\", line 65, in error_handler\n      return fn(*args, **kwargs)\n    File \"/Users/amodpathirana/anaconda3/envs/ML_PROJECTS/lib/python3.10/site-packages/keras/engine/training.py\", line 1685, in fit\n      tmp_logs = self.train_function(iterator)\n    File \"/Users/amodpathirana/anaconda3/envs/ML_PROJECTS/lib/python3.10/site-packages/keras/engine/training.py\", line 1284, in train_function\n      return step_function(self, iterator)\n    File \"/Users/amodpathirana/anaconda3/envs/ML_PROJECTS/lib/python3.10/site-packages/keras/engine/training.py\", line 1268, in step_function\n      outputs = model.distribute_strategy.run(run_step, args=(data,))\n    File \"/Users/amodpathirana/anaconda3/envs/ML_PROJECTS/lib/python3.10/site-packages/keras/engine/training.py\", line 1249, in run_step\n      outputs = model.train_step(data)\n    File \"/Users/amodpathirana/anaconda3/envs/ML_PROJECTS/lib/python3.10/site-packages/keras/engine/training.py\", line 1051, in train_step\n      loss = self.compute_loss(x, y, y_pred, sample_weight)\n    File \"/Users/amodpathirana/anaconda3/envs/ML_PROJECTS/lib/python3.10/site-packages/keras/engine/training.py\", line 1109, in compute_loss\n      return self.compiled_loss(\n    File \"/Users/amodpathirana/anaconda3/envs/ML_PROJECTS/lib/python3.10/site-packages/keras/engine/compile_utils.py\", line 265, in __call__\n      loss_value = loss_obj(y_t, y_p, sample_weight=sw)\n    File \"/Users/amodpathirana/anaconda3/envs/ML_PROJECTS/lib/python3.10/site-packages/keras/losses.py\", line 142, in __call__\n      losses = call_fn(y_true, y_pred)\n    File \"/Users/amodpathirana/anaconda3/envs/ML_PROJECTS/lib/python3.10/site-packages/keras/losses.py\", line 268, in call\n      return ag_fn(y_true, y_pred, **self._fn_kwargs)\n    File \"/Users/amodpathirana/anaconda3/envs/ML_PROJECTS/lib/python3.10/site-packages/keras/losses.py\", line 2078, in sparse_categorical_crossentropy\n      return backend.sparse_categorical_crossentropy(\n    File \"/Users/amodpathirana/anaconda3/envs/ML_PROJECTS/lib/python3.10/site-packages/keras/backend.py\", line 5660, in sparse_categorical_crossentropy\n      res = tf.nn.sparse_softmax_cross_entropy_with_logits(\nNode: 'sparse_categorical_crossentropy/SparseSoftmaxCrossEntropyWithLogits/SparseSoftmaxCrossEntropyWithLogits'\nlogits and labels must have the same first dimension, got logits shape [3200,10] and labels shape [50]\n\t [[{{node sparse_categorical_crossentropy/SparseSoftmaxCrossEntropyWithLogits/SparseSoftmaxCrossEntropyWithLogits}}]] [Op:__inference_train_function_27792]"
     ]
    }
   ],
   "source": [
    "from tensorflow.keras.callbacks import EarlyStopping\n",
    "callbacks = EarlyStopping(monitor='val_loss', patience=5, verbose=1)\n",
    "history  = model.fit(x_train, y_train, epochs=50, batch_size=50, verbose=1, validation_data=(x_test, y_test),callbacks=(callbacks) )"
   ]
  },
  {
   "cell_type": "code",
   "execution_count": null,
   "id": "0e9c9538-ef8c-4e3f-866c-0c57ab59f831",
   "metadata": {},
   "outputs": [],
   "source": []
  }
 ],
 "metadata": {
  "kernelspec": {
   "display_name": "ML_PROJECTS_Kernel",
   "language": "python",
   "name": "ml_projects"
  },
  "language_info": {
   "codemirror_mode": {
    "name": "ipython",
    "version": 3
   },
   "file_extension": ".py",
   "mimetype": "text/x-python",
   "name": "python",
   "nbconvert_exporter": "python",
   "pygments_lexer": "ipython3",
   "version": "3.10.13"
  }
 },
 "nbformat": 4,
 "nbformat_minor": 5
}
