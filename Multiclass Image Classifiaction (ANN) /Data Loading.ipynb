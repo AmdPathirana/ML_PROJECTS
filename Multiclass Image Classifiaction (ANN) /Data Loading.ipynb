{
 "cells": [
  {
   "cell_type": "code",
   "execution_count": 1,
   "id": "9189971b-603a-418b-9dee-5acfa01b15aa",
   "metadata": {},
   "outputs": [],
   "source": [
    "import os\n",
    "from PIL import Image\n",
    "import numpy as np\n",
    "\n",
    "# Path to the main directory containing 'train' folder\n",
    "main_directory = 'facialExpressions/train'\n",
    "\n",
    "# Function to load images and create a dataset\n",
    "def create_dataset(main_dir):\n",
    "    images = []\n",
    "    labels = []\n",
    "    label_to_int = {'angry': 0, 'happy': 1, 'sad':2, 'fearful':3, 'neutral':4}  # Mapping labels to integers\n",
    "\n",
    "    for emotion in os.listdir(main_dir):\n",
    "        emotion_folder = os.path.join(main_dir, emotion)\n",
    "        if os.path.isdir(emotion_folder):\n",
    "            label = label_to_int[emotion]  # Assign the label based on folder name (angry or happy)\n",
    "            for image_file in os.listdir(emotion_folder):\n",
    "                image_path = os.path.join(emotion_folder, image_file)\n",
    "                if image_file.endswith('.jpg') or image_file.endswith('.png'):  # Check if the file is an image\n",
    "                    try:\n",
    "                        img = Image.open(image_path)\n",
    "                        # Resize the image if needed\n",
    "                        img = img.resize((64, 64))  # Example: Resize images to 64x64 pixels\n",
    "                        img_array = np.array(img)  # Convert image to numerical array\n",
    "                        images.append(img_array)  # Append image array to the list\n",
    "                        labels.append(label)  # Append label to the list\n",
    "                    except Exception as e:\n",
    "                        print(f\"Error processing {image_file}: {e}\")\n",
    "    \n",
    "    return np.array(images), np.array(labels)\n",
    "\n",
    "# Call the function to create the dataset\n",
    "image_data, labels = create_dataset(main_directory)\n",
    "\n",
    "# Now 'image_data' contains the numerical arrays of images and 'labels' contains their corresponding labels\n",
    "# These arrays can be used directly for training machine learning models\n",
    "# For example, you can use image_data and labels with libraries like TensorFlow, PyTorch, scikit-learn, etc.\n"
   ]
  },
  {
   "cell_type": "code",
   "execution_count": 2,
   "id": "b3e9e116-0fa1-4ecb-844f-8df2f4bf35c2",
   "metadata": {},
   "outputs": [
    {
     "data": {
      "text/plain": [
       "(25102, 64, 64)"
      ]
     },
     "execution_count": 2,
     "metadata": {},
     "output_type": "execute_result"
    }
   ],
   "source": [
    "image_data.shape"
   ]
  },
  {
   "cell_type": "code",
   "execution_count": 3,
   "id": "7005eaba-69e2-4370-b762-e6e389dad55c",
   "metadata": {},
   "outputs": [
    {
     "data": {
      "text/plain": [
       "(25102,)"
      ]
     },
     "execution_count": 3,
     "metadata": {},
     "output_type": "execute_result"
    }
   ],
   "source": [
    "labels.shape"
   ]
  },
  {
   "cell_type": "code",
   "execution_count": 4,
   "id": "1ac095b0-3a8c-4724-878c-4f647cb51540",
   "metadata": {},
   "outputs": [],
   "source": [
    "x_train = image_data\n",
    "y_train = labels"
   ]
  },
  {
   "cell_type": "code",
   "execution_count": 5,
   "id": "026ea356-0469-4e3c-9f29-a19d0acd5032",
   "metadata": {},
   "outputs": [],
   "source": [
    "import os\n",
    "from PIL import Image\n",
    "import numpy as np\n",
    "\n",
    "# Path to the main directory containing 'train' folder\n",
    "main_directory = 'facialExpressions/test'\n",
    "\n",
    "# Function to load images and create a dataset\n",
    "def create_dataset(main_dir):\n",
    "    images = []\n",
    "    labels = []\n",
    "    label_to_int = {'angry': 0, 'happy': 1, 'sad':2, 'fearful':3, 'neutral':4}  # Mapping labels to integers\n",
    "\n",
    "    for emotion in os.listdir(main_dir):\n",
    "        emotion_folder = os.path.join(main_dir, emotion)\n",
    "        if os.path.isdir(emotion_folder):\n",
    "            label = label_to_int[emotion]  # Assign the label based on folder name (angry or happy)\n",
    "            for image_file in os.listdir(emotion_folder):\n",
    "                image_path = os.path.join(emotion_folder, image_file)\n",
    "                if image_file.endswith('.jpg') or image_file.endswith('.png'):  # Check if the file is an image\n",
    "                    try:\n",
    "                        img = Image.open(image_path)\n",
    "                        # Resize the image if needed\n",
    "                        img = img.resize((64, 64))  # Example: Resize images to 64x64 pixels\n",
    "                        img_array = np.array(img)  # Convert image to numerical array\n",
    "                        images.append(img_array)  # Append image array to the list\n",
    "                        labels.append(label)  # Append label to the list\n",
    "                    except Exception as e:\n",
    "                        print(f\"Error processing {image_file}: {e}\")\n",
    "    \n",
    "    return np.array(images), np.array(labels)\n",
    "\n",
    "# Call the function to create the dataset\n",
    "image_data, labels = create_dataset(main_directory)\n",
    "\n",
    "# Now 'image_data' contains the numerical arrays of images and 'labels' contains their corresponding labels\n",
    "# These arrays can be used directly for training machine learning models\n",
    "# For example, you can use image_data and labels with libraries like TensorFlow, PyTorch, scikit-learn, etc.\n"
   ]
  },
  {
   "cell_type": "code",
   "execution_count": 6,
   "id": "0e1e0f91-a69b-42af-b628-895951092254",
   "metadata": {},
   "outputs": [
    {
     "data": {
      "text/plain": [
       "(6236, 64, 64)"
      ]
     },
     "execution_count": 6,
     "metadata": {},
     "output_type": "execute_result"
    }
   ],
   "source": [
    "image_data.shape"
   ]
  },
  {
   "cell_type": "code",
   "execution_count": 7,
   "id": "fe15af99-1854-410e-acd2-3a8942fe5816",
   "metadata": {},
   "outputs": [
    {
     "data": {
      "text/plain": [
       "(6236,)"
      ]
     },
     "execution_count": 7,
     "metadata": {},
     "output_type": "execute_result"
    }
   ],
   "source": [
    "labels.shape"
   ]
  },
  {
   "cell_type": "code",
   "execution_count": 8,
   "id": "99312ace-4c30-4c00-9189-77b42c15fce2",
   "metadata": {},
   "outputs": [],
   "source": [
    "x_test=image_data\n",
    "y_test=labels\n"
   ]
  },
  {
   "cell_type": "code",
   "execution_count": 9,
   "id": "9d218d25-aedf-4f61-8a84-9eab0a1a49d9",
   "metadata": {},
   "outputs": [
    {
     "name": "stdout",
     "output_type": "stream",
     "text": [
      "Files saved successfully.\n"
     ]
    }
   ],
   "source": [
    "import numpy as np\n",
    "\n",
    "# Assuming you already have image_data and labels generated from the previous code\n",
    "\n",
    "# Save image_data and labels as separate files\n",
    "np.save('x_train.npy', x_train)\n",
    "np.save('y_train.npy', y_train)\n",
    "\n",
    "print(\"Files saved successfully.\")"
   ]
  },
  {
   "cell_type": "code",
   "execution_count": 10,
   "id": "7f1a7865-61c7-4856-9b0b-5e4a2c0ebcd0",
   "metadata": {},
   "outputs": [
    {
     "name": "stdout",
     "output_type": "stream",
     "text": [
      "Files saved successfully.\n"
     ]
    }
   ],
   "source": [
    "# Save image_data and labels as separate files\n",
    "np.save('x_test.npy', x_test)\n",
    "np.save('y_test.npy', y_test)\n",
    "\n",
    "print(\"Files saved successfully.\")"
   ]
  },
  {
   "cell_type": "code",
   "execution_count": null,
   "id": "64a5e83c-37ee-41fc-9d72-ee024afb0362",
   "metadata": {},
   "outputs": [],
   "source": []
  }
 ],
 "metadata": {
  "kernelspec": {
   "display_name": "ML_PROJECTS_Kernel",
   "language": "python",
   "name": "ml_projects"
  },
  "language_info": {
   "codemirror_mode": {
    "name": "ipython",
    "version": 3
   },
   "file_extension": ".py",
   "mimetype": "text/x-python",
   "name": "python",
   "nbconvert_exporter": "python",
   "pygments_lexer": "ipython3",
   "version": "3.10.13"
  }
 },
 "nbformat": 4,
 "nbformat_minor": 5
}
