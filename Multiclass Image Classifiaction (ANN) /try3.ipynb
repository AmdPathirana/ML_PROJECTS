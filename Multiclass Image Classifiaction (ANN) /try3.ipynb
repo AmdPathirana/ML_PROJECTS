{
 "cells": [
  {
   "cell_type": "code",
   "execution_count": 1,
   "id": "2954c7ea-8079-4b7f-96be-cc9b388d72c9",
   "metadata": {},
   "outputs": [],
   "source": [
    "#import tensorflow\n",
    "import tensorflow "
   ]
  },
  {
   "cell_type": "code",
   "execution_count": 2,
   "id": "fc5149aa-0535-4ca3-b2b5-cc99b726b8bc",
   "metadata": {},
   "outputs": [],
   "source": [
    "#import tensorflow inbuilt data set \n",
    "from tensorflow.keras.datasets import fashion_mnist"
   ]
  },
  {
   "cell_type": "code",
   "execution_count": 3,
   "id": "4d032ff4-8810-4cdb-8eee-38866f7ef0fc",
   "metadata": {},
   "outputs": [],
   "source": [
    "#create object and load the dataset \n",
    "data = fashion_mnist.load_data()"
   ]
  },
  {
   "cell_type": "code",
   "execution_count": 4,
   "id": "b983d039-8eb9-46bb-9c71-18b937e744db",
   "metadata": {},
   "outputs": [],
   "source": [
    "#split data to train and test (orignally it has done we are only asign here)\n",
    "(train), (test) = data"
   ]
  },
  {
   "cell_type": "code",
   "execution_count": 5,
   "id": "493e4ba7-c3d7-481a-a8b2-db30d52702f9",
   "metadata": {},
   "outputs": [],
   "source": [
    "x_train, y_train = train\n",
    "x_test, y_test = test"
   ]
  },
  {
   "cell_type": "code",
   "execution_count": 6,
   "id": "d9ea5f05-9d4d-4b37-ac56-61d75e20a40d",
   "metadata": {},
   "outputs": [
    {
     "name": "stdout",
     "output_type": "stream",
     "text": [
      "x_train: (60000, 28, 28)\n",
      "y_train: (60000,)\n",
      "x_test: (10000, 28, 28)\n",
      "y_test: (10000,)\n"
     ]
    }
   ],
   "source": [
    "print(\"x_train: {}\".format(x_train.shape))\n",
    "print(\"y_train: {}\".format(y_train.shape))\n",
    "print(\"x_test: {}\".format(x_test.shape))\n",
    "print(\"y_test: {}\".format(y_test.shape))"
   ]
  },
  {
   "cell_type": "code",
   "execution_count": 7,
   "id": "0709d28e-cb5e-4afe-821f-e373032b8972",
   "metadata": {},
   "outputs": [],
   "source": [
    "#get name function to get the name of the cloths \n",
    "class_names=['0 T-shirt/top', '1 Trouser', '2 Pullover', '3 Dress', '4 Coat',\n",
    "    '5 Sandal', '6 Shirt', '7 Sneaker', '8 Bag', '9 Ankle boot']\n",
    "def get_name(n):\n",
    "    name = class_names[n]\n",
    "    return name"
   ]
  },
  {
   "cell_type": "code",
   "execution_count": 8,
   "id": "0f310c27-3199-4a8a-a968-8806dc8a11ca",
   "metadata": {},
   "outputs": [
    {
     "name": "stdout",
     "output_type": "stream",
     "text": [
      "9 Ankle boot\n"
     ]
    },
    {
     "data": {
      "image/png": "[encoded data removed]",
      "text/plain": [
       "<Figure size 640x480 with 1 Axes>"
      ]
     },
     "metadata": {},
     "output_type": "display_data"
    }
   ],
   "source": [
    "import matplotlib.pyplot as plt \n",
    "plt.imshow(x_test[0])\n",
    "print(get_name(y_test[0]))"
   ]
  },
  {
   "cell_type": "code",
   "execution_count": 9,
   "id": "bcb2d13e-b372-4f19-b277-ebfa069f3300",
   "metadata": {},
   "outputs": [
    {
     "data": {
      "text/plain": [
       "array([[  0,   0,   0,   0,   0,   0,   0,   0,  24, 173, 222, 224, 206,\n",
       "        180, 235, 175, 185, 233, 233, 149,   0,   0,   0,   0,   0,   0,\n",
       "          0,   0],\n",
       "       [  0,   0,   0,   1,   0,   0,  22, 139, 242, 215, 252, 229, 211,\n",
       "        112,   0,  52, 139, 228, 248, 202, 211, 158,  17,   0,   0,   0,\n",
       "          0,   0],\n",
       "       [  0,   0,   1,   0,   0, 143, 230, 229, 208, 197, 242, 224, 214,\n",
       "        234, 186, 255, 234, 223, 235, 199, 211, 237, 219,  48,   0,   0,\n",
       "          0,   0],\n",
       "       [  0,   0,   0,   0, 133, 216, 219, 205, 205, 185, 216, 202, 186,\n",
       "        180, 199, 192, 225, 238, 182, 197, 222, 220, 208, 194,  29,   0,\n",
       "          1,   0],\n",
       "       [  0,   3,   0,  26, 214, 186, 208, 206, 209, 202, 194, 206, 195,\n",
       "        173, 185, 181, 224, 177, 199, 195, 199, 215, 182, 208, 186,   0,\n",
       "          0,   0],\n",
       "       [  0,   7,   0, 126, 211, 185, 214, 215, 211, 213, 209, 197, 196,\n",
       "        224, 200, 211, 194, 210, 222, 227, 232, 218, 185, 191, 199,   7,\n",
       "          0,   0],\n",
       "       [  0,   0,   0, 183, 205, 182, 201, 190, 211, 204, 209, 214, 202,\n",
       "        209, 196, 192, 194, 195, 192, 189, 219, 227, 180, 178, 210, 121,\n",
       "          0,   0],\n",
       "       [  0,   0,  48, 191, 189, 178, 235, 195, 192, 196, 183, 187, 189,\n",
       "        189, 187, 187, 187, 189, 183, 182, 191, 187, 175, 186, 190, 182,\n",
       "          0,   0],\n",
       "       [  0,   0, 130, 182, 176, 183, 205, 185, 191, 190, 180, 187, 185,\n",
       "        200, 189, 190, 195, 196, 200, 195, 199, 196, 191, 173, 180, 185,\n",
       "          0,   0],\n",
       "       [  0,   0, 158, 189, 173, 197, 172, 200, 201, 187, 205, 194, 180,\n",
       "        182, 182, 173, 191, 194, 182, 192, 192, 195, 194, 181, 194, 210,\n",
       "         13,   0],\n",
       "       [  0,   0, 157, 185, 191, 180, 186, 185, 187, 185, 195, 201, 199,\n",
       "        190, 187, 187, 204, 182, 200, 185, 206, 202, 177, 186, 166, 183,\n",
       "         52,   0],\n",
       "       [  0,   0, 195, 173, 180, 205, 186, 192, 201, 200, 192, 189, 197,\n",
       "        204, 200, 191, 173, 180, 195, 205, 205, 200, 202, 163, 143, 197,\n",
       "         72,   0],\n",
       "       [  0,   0, 210, 170, 167, 178, 196, 215, 204, 204, 206, 205, 200,\n",
       "        192, 181, 190, 175, 190, 199, 196, 195, 181, 158, 177, 152, 190,\n",
       "         87,   0],\n",
       "       [  0,   0, 197, 171, 178, 147, 114, 215, 177, 145, 156, 168, 161,\n",
       "        157, 170, 164, 175, 154, 150, 162, 192, 129, 107, 190, 158, 197,\n",
       "        120,   0],\n",
       "       [  0,   5, 192, 166, 186, 164,  81, 210, 173, 150, 172, 162, 178,\n",
       "        157, 166, 176, 176, 166, 171, 167, 196, 139,  90, 185, 157, 187,\n",
       "        111,   0],\n",
       "       [  0,  25, 177, 159, 180, 142,  64, 204, 178, 168, 180, 158, 164,\n",
       "        166, 162, 178, 163, 156, 177, 164, 211, 140,  85, 210, 153, 170,\n",
       "        129,   0],\n",
       "       [  0,  36, 182, 164, 197, 142,  86, 215, 167, 158, 154, 163, 181,\n",
       "        175, 164, 159, 167, 159, 177, 162, 200, 144,  95, 199, 145, 190,\n",
       "        140,   0],\n",
       "       [  0,  38, 173, 153, 172, 121,  72, 215, 154, 166, 161, 163, 181,\n",
       "        172, 170, 171, 168, 164, 175, 168, 187, 140,  65, 164, 143, 170,\n",
       "        123,   0],\n",
       "       [  0,  29, 173, 144, 162, 112,  64, 219, 167, 176, 181, 167, 180,\n",
       "        178, 166, 171, 171, 167, 183, 182, 204, 150,  43, 171, 134, 162,\n",
       "        119,   0],\n",
       "       [  0,  24, 164, 139, 175, 111,  59, 200, 163, 153, 150, 137, 144,\n",
       "        142, 145, 147, 156, 138, 138, 137, 163, 138,  36, 186, 139, 154,\n",
       "        124,   0],\n",
       "       [  0,  25, 181, 138, 167, 109,  55, 178, 142, 140, 143, 145, 135,\n",
       "        143, 145, 150, 137, 138, 161, 152, 159, 131,  40, 201, 123, 164,\n",
       "        129,   0],\n",
       "       [  0,   0, 161, 143, 163, 133,  39, 185, 153, 152, 145, 154, 147,\n",
       "        152, 140, 133, 153, 148, 152, 139, 156, 166,  31, 168, 126, 159,\n",
       "        110,   0],\n",
       "       [  0,   0, 173, 138, 154, 126,  32, 194, 140, 149, 139, 138, 139,\n",
       "        138, 154, 135, 158, 149, 162, 152, 168, 133,  15, 183, 138, 163,\n",
       "        116,   0],\n",
       "       [  0,   0, 166, 145, 149, 126,   0, 204, 164, 133, 159, 154, 156,\n",
       "        152, 149, 167, 156, 143, 150, 129, 194, 129,  16, 199, 137, 159,\n",
       "        117,   0],\n",
       "       [  0,   0, 137, 163, 143, 139,   0, 180, 159, 139, 150, 147, 138,\n",
       "        153, 140, 154, 156, 148, 154, 142, 181, 107,   0, 196, 145, 161,\n",
       "         68,   0],\n",
       "       [  0,   0,  64, 162, 143, 120,   0, 153, 158, 152, 156, 163, 154,\n",
       "        148, 148, 144, 140, 142, 142, 149, 196,  58,   0, 167, 138, 159,\n",
       "         26,   0],\n",
       "       [  0,   0,  19, 159, 161, 131,   0, 106, 183, 157, 157, 152, 167,\n",
       "        173, 162, 177, 181, 161, 154, 157, 211,  30,   0, 159, 145, 163,\n",
       "         10,   0],\n",
       "       [  0,   0,   2, 119, 137,  82,   0,  43, 162, 168, 150, 148, 144,\n",
       "        138, 140, 152, 153, 134, 156, 152, 167,   7,   0, 107, 130, 126,\n",
       "          0,   0]], dtype=uint8)"
      ]
     },
     "execution_count": 9,
     "metadata": {},
     "output_type": "execute_result"
    }
   ],
   "source": [
    "x_test[20]"
   ]
  },
  {
   "cell_type": "code",
   "execution_count": 10,
   "id": "c3906aca-00aa-4fec-871a-d078cbd78942",
   "metadata": {},
   "outputs": [],
   "source": [
    "#normalized data \n",
    "x_train = x_train/255\n",
    "x_test = x_test/255"
   ]
  },
  {
   "cell_type": "code",
   "execution_count": 11,
   "id": "b18ca471-b5e9-4659-a4a2-7241e0df9157",
   "metadata": {},
   "outputs": [
    {
     "data": {
      "text/plain": [
       "0.0"
      ]
     },
     "execution_count": 11,
     "metadata": {},
     "output_type": "execute_result"
    }
   ],
   "source": [
    "#check the new min and max of the normalized data set\n",
    "import numpy as np \n",
    "np.min(x_test[20])"
   ]
  },
  {
   "cell_type": "code",
   "execution_count": 12,
   "id": "68d1501d-ca9c-4145-a933-e8afa3d79ff3",
   "metadata": {},
   "outputs": [],
   "source": [
    "#reshape to vectors \n",
    "x_train = x_train.reshape(-1, 28*28)\n",
    "x_test = x_test.reshape(-1, 28*28)"
   ]
  },
  {
   "cell_type": "code",
   "execution_count": 13,
   "id": "38b469df-33f5-4b10-a395-062e9cbd8d77",
   "metadata": {},
   "outputs": [
    {
     "data": {
      "text/plain": [
       "(60000, 784)"
      ]
     },
     "execution_count": 13,
     "metadata": {},
     "output_type": "execute_result"
    }
   ],
   "source": [
    "x_train.shape"
   ]
  },
  {
   "cell_type": "code",
   "execution_count": 14,
   "id": "a2e29e06-8672-496f-8434-52a99ecee1ed",
   "metadata": {},
   "outputs": [
    {
     "data": {
      "text/plain": [
       "(10000, 784)"
      ]
     },
     "execution_count": 14,
     "metadata": {},
     "output_type": "execute_result"
    }
   ],
   "source": [
    "x_test.shape"
   ]
  },
  {
   "cell_type": "code",
   "execution_count": 15,
   "id": "88e1797b-9897-4927-b9bf-300c98c9b2f6",
   "metadata": {},
   "outputs": [],
   "source": [
    "#load the model\n",
    "from tensorflow.keras.models import Sequential\n",
    "model = Sequential()"
   ]
  },
  {
   "cell_type": "code",
   "execution_count": 16,
   "id": "a5b912e9-7702-44db-98df-aea6eeee30d6",
   "metadata": {},
   "outputs": [
    {
     "data": {
      "text/plain": [
       "(784,)"
      ]
     },
     "execution_count": 16,
     "metadata": {},
     "output_type": "execute_result"
    }
   ],
   "source": [
    "x_train[1].shape"
   ]
  },
  {
   "cell_type": "code",
   "execution_count": 17,
   "id": "a57d3545-9b0e-45a2-aaa7-f06c4b3ecfd1",
   "metadata": {},
   "outputs": [],
   "source": [
    "#import layers (Dense)  and Droupout Regularization\" \n",
    "from tensorflow.keras.layers import Dense\n",
    "from tensorflow.keras.layers import Dropout\n",
    "\n",
    "#kernal regularization\n",
    "from tensorflow.keras.regularizers import l1_l2\n",
    "#l1 regularization parameter \n",
    "l1_reg=0.001\n",
    "\n",
    "#l2 regularization parameter \n",
    "l2_reg= 0.001\n",
    "\n",
    "\n",
    "model.add(Dense(units=256, activation='relu', input_shape=(784, ), kernel_regularizer=l1_l2(l1=l1_reg, l2=l2_reg)))\n",
    "model.add(Dropout(0.4))\n",
    "model.add(Dense(units=512, activation='relu', kernel_regularizer=l1_l2(l1=l1_reg, l2=l2_reg)))\n",
    "model.add(Dropout(0.5))\n",
    "model.add(Dense(units=256, activation='relu', kernel_regularizer=l1_l2(l1=l1_reg, l2=l2_reg)))\n",
    "model.add(Dropout(0.4))\n",
    "model.add(Dense(units=128, activation='relu', kernel_regularizer=l1_l2(l1=l1_reg, l2=l2_reg)))\n",
    "model.add(Dropout(0.2))\n",
    "model.add(Dense(units=68, activation='relu', kernel_regularizer=l1_l2(l1=l1_reg, l2=l2_reg)))\n",
    "model.add(Dropout(0.1))\n",
    "\n",
    "model.add(Dense(units=10, activation='softmax'))"
   ]
  },
  {
   "cell_type": "code",
   "execution_count": 18,
   "id": "7435eae9-ac2f-445e-87aa-681eb854feea",
   "metadata": {},
   "outputs": [
    {
     "name": "stdout",
     "output_type": "stream",
     "text": [
      "Model: \"sequential\"\n",
      "_________________________________________________________________\n",
      " Layer (type)                Output Shape              Param #   \n",
      "=================================================================\n",
      " dense (Dense)               (None, 256)               200960    \n",
      "                                                                 \n",
      " dropout (Dropout)           (None, 256)               0         \n",
      "                                                                 \n",
      " dense_1 (Dense)             (None, 512)               131584    \n",
      "                                                                 \n",
      " dropout_1 (Dropout)         (None, 512)               0         \n",
      "                                                                 \n",
      " dense_2 (Dense)             (None, 256)               131328    \n",
      "                                                                 \n",
      " dropout_2 (Dropout)         (None, 256)               0         \n",
      "                                                                 \n",
      " dense_3 (Dense)             (None, 128)               32896     \n",
      "                                                                 \n",
      " dropout_3 (Dropout)         (None, 128)               0         \n",
      "                                                                 \n",
      " dense_4 (Dense)             (None, 68)                8772      \n",
      "                                                                 \n",
      " dropout_4 (Dropout)         (None, 68)                0         \n",
      "                                                                 \n",
      " dense_5 (Dense)             (None, 10)                690       \n",
      "                                                                 \n",
      "=================================================================\n",
      "Total params: 506,230\n",
      "Trainable params: 506,230\n",
      "Non-trainable params: 0\n",
      "_________________________________________________________________\n"
     ]
    }
   ],
   "source": [
    "model.summary()"
   ]
  },
  {
   "cell_type": "code",
   "execution_count": 19,
   "id": "fd0ab97e-d160-4a3c-9c03-51b79c6ac547",
   "metadata": {},
   "outputs": [],
   "source": [
    "#compile model \n",
    "model.compile(loss='sparse_categorical_crossentropy', optimizer='adam', metrics=['sparse_categorical_accuracy'])"
   ]
  },
  {
   "cell_type": "code",
   "execution_count": null,
   "id": "4355e95f-cf40-4ea3-b1c6-c49057042cdd",
   "metadata": {},
   "outputs": [
    {
     "name": "stdout",
     "output_type": "stream",
     "text": [
      "Epoch 1/50\n"
     ]
    },
    {
     "name": "stderr",
     "output_type": "stream",
     "text": [
      "2023-12-10 12:44:28.937722: W tensorflow/tsl/platform/profile_utils/cpu_utils.cc:128] Failed to get CPU frequency: 0 Hz\n"
     ]
    },
    {
     "name": "stdout",
     "output_type": "stream",
     "text": [
      "1199/1200 [============================>.] - ETA: 0s - loss: 3.1595 - sparse_categorical_accuracy: 0.5506"
     ]
    }
   ],
   "source": [
    "#early stoping\n",
    "from tensorflow.keras.callbacks import EarlyStopping\n",
    "early_stoping_callbacks = EarlyStopping(monitor='val_loss', patience=10, verbose=1)\n",
    "\n",
    "#model fit\n",
    "history = model.fit(x_train, y_train, epochs=50, validation_data=(x_test, y_test), batch_size=50, verbose=1, callbacks=[early_stoping_callbacks])"
   ]
  },
  {
   "cell_type": "code",
   "execution_count": null,
   "id": "479ecd3b-4687-46a6-858e-b647961bc270",
   "metadata": {},
   "outputs": [],
   "source": [
    "#extract accuray and the loss from the history object \n",
    "train_accuracy = history.history['sparse_categorical_accuracy']\n",
    "test_accuracy = history.history['val_sparse_categorical_accuracy']\n",
    "\n",
    "train_loss = history.history['loss']\n",
    "test_loss = history.history['val_loss']\n",
    "\n",
    "#create the range base on number od executed epochs \n",
    "epochs = range(1, len(train_accuracy)+1)\n",
    "\n"
   ]
  },
  {
   "cell_type": "code",
   "execution_count": null,
   "id": "4abc559b-4d61-46b2-bbdb-1f40426a217f",
   "metadata": {},
   "outputs": [],
   "source": [
    "\n",
    "#plot the accuray curve\n",
    "plt.figure(figsize=(5,5))\n",
    "plt.plot(epochs, train_accuracy, 'b', label='Train Accuracy')\n",
    "plt.plot(epochs, test_accuracy, 'r', label='Test Accuracy')\n",
    "plt.title(\"Accuracy Curve\")\n",
    "plt.xlabel(\"Epochs\")\n",
    "plt.ylabel(\"Accuracy\")\n",
    "plt.legend()\n",
    "plt.show()\n"
   ]
  },
  {
   "cell_type": "code",
   "execution_count": null,
   "id": "87d6fb89-a2ac-4d47-8cc3-89c93e06427a",
   "metadata": {},
   "outputs": [],
   "source": [
    "\n",
    "#plot the loss curve \n",
    "plt.figure(figsize=(5,5))\n",
    "plt.plot(epochs, train_loss, 'b', label='Train Loss')\n",
    "plt.plot(epochs, test_loss, 'r', label='Test Loss')\n",
    "plt.title(\"Loss Curve\")\n",
    "plt.xlabel(\"Epochs\")\n",
    "plt.ylabel(\"Loss\")\n",
    "plt.legend()\n",
    "plt.show()\n"
   ]
  },
  {
   "cell_type": "code",
   "execution_count": null,
   "id": "9b4dbbbb-96cb-4be3-b329-54555df1ae2a",
   "metadata": {},
   "outputs": [],
   "source": [
    "loss, accuracy = model.evaluate(x_test, y_test)\n",
    "print(\"loss: {}\".format(loss))\n",
    "print(\"accuracy: {}\".format(accuracy))"
   ]
  },
  {
   "cell_type": "code",
   "execution_count": null,
   "id": "44b91827-cba0-460e-b283-3399bdd19f7f",
   "metadata": {},
   "outputs": [],
   "source": [
    "#model predictions \n",
    "\n",
    "predicttion = model.predict(x_test)"
   ]
  },
  {
   "cell_type": "code",
   "execution_count": null,
   "id": "2dd0f2ea-0584-45b6-b269-1bee65902c3c",
   "metadata": {},
   "outputs": [],
   "source": [
    "predicttion_values = np.argmax(predicttion, axis=1)\n",
    "predicttion_values"
   ]
  },
  {
   "cell_type": "code",
   "execution_count": null,
   "id": "04674912-d1af-4b18-b21b-432bcb440b6d",
   "metadata": {},
   "outputs": [],
   "source": [
    "from sklearn.metrics import accuracy_score, f1_score, recall_score, precision_score, confusion_matrix\n",
    "\n",
    "print(\"accuracy: {}\".format(accuracy_score(predicttion_values, y_test)))\n",
    "\n",
    "print(\"precision: {}\".format(precision_score(y_test, predicttion_values, average=None)))\n",
    "print(\"recall: {}\".format(recall_score(predicttion_values, y_test, average=None)))\n"
   ]
  },
  {
   "cell_type": "code",
   "execution_count": null,
   "id": "32f20533-0c9f-457f-9745-083ef8d34630",
   "metadata": {},
   "outputs": [],
   "source": [
    "cm = confusion_matrix(predicttion_values, y_test)\n",
    "import seaborn as sns\n",
    "\n",
    "plt.title(\"Confusion Matrix\")\n",
    "plt.xlabel(\"Prediction\")\n",
    "plt.ylabel(\"Y_test\")\n",
    "sns.heatmap(cm, annot=True, fmt='d', xticklabels=class_names, yticklabels=class_names)\n",
    "plt.show()"
   ]
  },
  {
   "cell_type": "code",
   "execution_count": null,
   "id": "2263a303-5fad-493b-805e-ca0f98172c42",
   "metadata": {},
   "outputs": [],
   "source": []
  }
 ],
 "metadata": {
  "kernelspec": {
   "display_name": "ML_PROJECTS_Kernel",
   "language": "python",
   "name": "ml_projects"
  },
  "language_info": {
   "codemirror_mode": {
    "name": "ipython",
    "version": 3
   },
   "file_extension": ".py",
   "mimetype": "text/x-python",
   "name": "python",
   "nbconvert_exporter": "python",
   "pygments_lexer": "ipython3",
   "version": "3.10.13"
  }
 },
 "nbformat": 4,
 "nbformat_minor": 5
}
