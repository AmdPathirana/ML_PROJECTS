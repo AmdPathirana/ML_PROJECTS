{
 "cells": [
  {
   "cell_type": "code",
   "execution_count": 1,
   "id": "2954c7ea-8079-4b7f-96be-cc9b388d72c9",
   "metadata": {},
   "outputs": [],
   "source": [
    "#import tensorflow\n",
    "import tensorflow "
   ]
  },
  {
   "cell_type": "code",
   "execution_count": 2,
   "id": "fc5149aa-0535-4ca3-b2b5-cc99b726b8bc",
   "metadata": {},
   "outputs": [],
   "source": [
    "#import tensorflow inbuilt data set \n",
    "from tensorflow.keras.datasets import fashion_mnist"
   ]
  },
  {
   "cell_type": "code",
   "execution_count": 3,
   "id": "4d032ff4-8810-4cdb-8eee-38866f7ef0fc",
   "metadata": {},
   "outputs": [],
   "source": [
    "#create object and load the dataset \n",
    "data = fashion_mnist.load_data()"
   ]
  },
  {
   "cell_type": "code",
   "execution_count": 4,
   "id": "b983d039-8eb9-46bb-9c71-18b937e744db",
   "metadata": {},
   "outputs": [],
   "source": [
    "#split data to train and test (orignally it has done we are only asign here)\n",
    "(train), (test) = data"
   ]
  },
  {
   "cell_type": "code",
   "execution_count": 5,
   "id": "493e4ba7-c3d7-481a-a8b2-db30d52702f9",
   "metadata": {},
   "outputs": [],
   "source": [
    "x_train, y_train = train\n",
    "x_test, y_test = test"
   ]
  },
  {
   "cell_type": "code",
   "execution_count": 6,
   "id": "d9ea5f05-9d4d-4b37-ac56-61d75e20a40d",
   "metadata": {},
   "outputs": [
    {
     "name": "stdout",
     "output_type": "stream",
     "text": [
      "x_train: (60000, 28, 28)\n",
      "y_train: (60000,)\n",
      "x_test: (10000, 28, 28)\n",
      "y_test: (10000,)\n"
     ]
    }
   ],
   "source": [
    "print(\"x_train: {}\".format(x_train.shape))\n",
    "print(\"y_train: {}\".format(y_train.shape))\n",
    "print(\"x_test: {}\".format(x_test.shape))\n",
    "print(\"y_test: {}\".format(y_test.shape))"
   ]
  },
  {
   "cell_type": "code",
   "execution_count": 7,
   "id": "0709d28e-cb5e-4afe-821f-e373032b8972",
   "metadata": {},
   "outputs": [],
   "source": [
    "#get name function to get the name of the cloths \n",
    "class_names=['0 T-shirt/top', '1 Trouser', '2 Pullover', '3 Dress', '4 Coat',\n",
    "    '5 Sandal', '6 Shirt', '7 Sneaker', '8 Bag', '9 Ankle boot']\n",
    "def get_name(n):\n",
    "    name = class_names[n]\n",
    "    return name"
   ]
  },
  {
   "cell_type": "code",
   "execution_count": 8,
   "id": "0f310c27-3199-4a8a-a968-8806dc8a11ca",
   "metadata": {},
   "outputs": [
    {
     "name": "stdout",
     "output_type": "stream",
     "text": [
      "9 Ankle boot\n"
     ]
    },
    {
     "data": {
      "image/png": "[encoded data removed]",
      "text/plain": [
       "<Figure size 640x480 with 1 Axes>"
      ]
     },
     "metadata": {},
     "output_type": "display_data"
    }
   ],
   "source": [
    "import matplotlib.pyplot as plt \n",
    "plt.imshow(x_test[0])\n",
    "print(get_name(y_test[0]))"
   ]
  },
  {
   "cell_type": "code",
   "execution_count": 9,
   "id": "bcb2d13e-b372-4f19-b277-ebfa069f3300",
   "metadata": {},
   "outputs": [
    {
     "data": {
      "text/plain": [
       "array([[  0,   0,   0,   0,   0,   0,   0,   0,  24, 173, 222, 224, 206,\n",
       "        180, 235, 175, 185, 233, 233, 149,   0,   0,   0,   0,   0,   0,\n",
       "          0,   0],\n",
       "       [  0,   0,   0,   1,   0,   0,  22, 139, 242, 215, 252, 229, 211,\n",
       "        112,   0,  52, 139, 228, 248, 202, 211, 158,  17,   0,   0,   0,\n",
       "          0,   0],\n",
       "       [  0,   0,   1,   0,   0, 143, 230, 229, 208, 197, 242, 224, 214,\n",
       "        234, 186, 255, 234, 223, 235, 199, 211, 237, 219,  48,   0,   0,\n",
       "          0,   0],\n",
       "       [  0,   0,   0,   0, 133, 216, 219, 205, 205, 185, 216, 202, 186,\n",
       "        180, 199, 192, 225, 238, 182, 197, 222, 220, 208, 194,  29,   0,\n",
       "          1,   0],\n",
       "       [  0,   3,   0,  26, 214, 186, 208, 206, 209, 202, 194, 206, 195,\n",
       "        173, 185, 181, 224, 177, 199, 195, 199, 215, 182, 208, 186,   0,\n",
       "          0,   0],\n",
       "       [  0,   7,   0, 126, 211, 185, 214, 215, 211, 213, 209, 197, 196,\n",
       "        224, 200, 211, 194, 210, 222, 227, 232, 218, 185, 191, 199,   7,\n",
       "          0,   0],\n",
       "       [  0,   0,   0, 183, 205, 182, 201, 190, 211, 204, 209, 214, 202,\n",
       "        209, 196, 192, 194, 195, 192, 189, 219, 227, 180, 178, 210, 121,\n",
       "          0,   0],\n",
       "       [  0,   0,  48, 191, 189, 178, 235, 195, 192, 196, 183, 187, 189,\n",
       "        189, 187, 187, 187, 189, 183, 182, 191, 187, 175, 186, 190, 182,\n",
       "          0,   0],\n",
       "       [  0,   0, 130, 182, 176, 183, 205, 185, 191, 190, 180, 187, 185,\n",
       "        200, 189, 190, 195, 196, 200, 195, 199, 196, 191, 173, 180, 185,\n",
       "          0,   0],\n",
       "       [  0,   0, 158, 189, 173, 197, 172, 200, 201, 187, 205, 194, 180,\n",
       "        182, 182, 173, 191, 194, 182, 192, 192, 195, 194, 181, 194, 210,\n",
       "         13,   0],\n",
       "       [  0,   0, 157, 185, 191, 180, 186, 185, 187, 185, 195, 201, 199,\n",
       "        190, 187, 187, 204, 182, 200, 185, 206, 202, 177, 186, 166, 183,\n",
       "         52,   0],\n",
       "       [  0,   0, 195, 173, 180, 205, 186, 192, 201, 200, 192, 189, 197,\n",
       "        204, 200, 191, 173, 180, 195, 205, 205, 200, 202, 163, 143, 197,\n",
       "         72,   0],\n",
       "       [  0,   0, 210, 170, 167, 178, 196, 215, 204, 204, 206, 205, 200,\n",
       "        192, 181, 190, 175, 190, 199, 196, 195, 181, 158, 177, 152, 190,\n",
       "         87,   0],\n",
       "       [  0,   0, 197, 171, 178, 147, 114, 215, 177, 145, 156, 168, 161,\n",
       "        157, 170, 164, 175, 154, 150, 162, 192, 129, 107, 190, 158, 197,\n",
       "        120,   0],\n",
       "       [  0,   5, 192, 166, 186, 164,  81, 210, 173, 150, 172, 162, 178,\n",
       "        157, 166, 176, 176, 166, 171, 167, 196, 139,  90, 185, 157, 187,\n",
       "        111,   0],\n",
       "       [  0,  25, 177, 159, 180, 142,  64, 204, 178, 168, 180, 158, 164,\n",
       "        166, 162, 178, 163, 156, 177, 164, 211, 140,  85, 210, 153, 170,\n",
       "        129,   0],\n",
       "       [  0,  36, 182, 164, 197, 142,  86, 215, 167, 158, 154, 163, 181,\n",
       "        175, 164, 159, 167, 159, 177, 162, 200, 144,  95, 199, 145, 190,\n",
       "        140,   0],\n",
       "       [  0,  38, 173, 153, 172, 121,  72, 215, 154, 166, 161, 163, 181,\n",
       "        172, 170, 171, 168, 164, 175, 168, 187, 140,  65, 164, 143, 170,\n",
       "        123,   0],\n",
       "       [  0,  29, 173, 144, 162, 112,  64, 219, 167, 176, 181, 167, 180,\n",
       "        178, 166, 171, 171, 167, 183, 182, 204, 150,  43, 171, 134, 162,\n",
       "        119,   0],\n",
       "       [  0,  24, 164, 139, 175, 111,  59, 200, 163, 153, 150, 137, 144,\n",
       "        142, 145, 147, 156, 138, 138, 137, 163, 138,  36, 186, 139, 154,\n",
       "        124,   0],\n",
       "       [  0,  25, 181, 138, 167, 109,  55, 178, 142, 140, 143, 145, 135,\n",
       "        143, 145, 150, 137, 138, 161, 152, 159, 131,  40, 201, 123, 164,\n",
       "        129,   0],\n",
       "       [  0,   0, 161, 143, 163, 133,  39, 185, 153, 152, 145, 154, 147,\n",
       "        152, 140, 133, 153, 148, 152, 139, 156, 166,  31, 168, 126, 159,\n",
       "        110,   0],\n",
       "       [  0,   0, 173, 138, 154, 126,  32, 194, 140, 149, 139, 138, 139,\n",
       "        138, 154, 135, 158, 149, 162, 152, 168, 133,  15, 183, 138, 163,\n",
       "        116,   0],\n",
       "       [  0,   0, 166, 145, 149, 126,   0, 204, 164, 133, 159, 154, 156,\n",
       "        152, 149, 167, 156, 143, 150, 129, 194, 129,  16, 199, 137, 159,\n",
       "        117,   0],\n",
       "       [  0,   0, 137, 163, 143, 139,   0, 180, 159, 139, 150, 147, 138,\n",
       "        153, 140, 154, 156, 148, 154, 142, 181, 107,   0, 196, 145, 161,\n",
       "         68,   0],\n",
       "       [  0,   0,  64, 162, 143, 120,   0, 153, 158, 152, 156, 163, 154,\n",
       "        148, 148, 144, 140, 142, 142, 149, 196,  58,   0, 167, 138, 159,\n",
       "         26,   0],\n",
       "       [  0,   0,  19, 159, 161, 131,   0, 106, 183, 157, 157, 152, 167,\n",
       "        173, 162, 177, 181, 161, 154, 157, 211,  30,   0, 159, 145, 163,\n",
       "         10,   0],\n",
       "       [  0,   0,   2, 119, 137,  82,   0,  43, 162, 168, 150, 148, 144,\n",
       "        138, 140, 152, 153, 134, 156, 152, 167,   7,   0, 107, 130, 126,\n",
       "          0,   0]], dtype=uint8)"
      ]
     },
     "execution_count": 9,
     "metadata": {},
     "output_type": "execute_result"
    }
   ],
   "source": [
    "x_test[20]"
   ]
  },
  {
   "cell_type": "code",
   "execution_count": 10,
   "id": "c3906aca-00aa-4fec-871a-d078cbd78942",
   "metadata": {},
   "outputs": [],
   "source": [
    "#normalized data \n",
    "x_train = x_train/255\n",
    "x_test = x_test/255"
   ]
  },
  {
   "cell_type": "code",
   "execution_count": 11,
   "id": "b18ca471-b5e9-4659-a4a2-7241e0df9157",
   "metadata": {},
   "outputs": [
    {
     "data": {
      "text/plain": [
       "0.0"
      ]
     },
     "execution_count": 11,
     "metadata": {},
     "output_type": "execute_result"
    }
   ],
   "source": [
    "#check the new min and max of the normalized data set\n",
    "import numpy as np \n",
    "np.min(x_test[20])"
   ]
  },
  {
   "cell_type": "code",
   "execution_count": 12,
   "id": "68d1501d-ca9c-4145-a933-e8afa3d79ff3",
   "metadata": {},
   "outputs": [],
   "source": [
    "#reshape to vectors \n",
    "x_train = x_train.reshape(-1, 28*28)\n",
    "x_test = x_test.reshape(-1, 28*28)"
   ]
  },
  {
   "cell_type": "code",
   "execution_count": 13,
   "id": "38b469df-33f5-4b10-a395-062e9cbd8d77",
   "metadata": {},
   "outputs": [
    {
     "data": {
      "text/plain": [
       "(60000, 784)"
      ]
     },
     "execution_count": 13,
     "metadata": {},
     "output_type": "execute_result"
    }
   ],
   "source": [
    "x_train.shape"
   ]
  },
  {
   "cell_type": "code",
   "execution_count": 14,
   "id": "a2e29e06-8672-496f-8434-52a99ecee1ed",
   "metadata": {},
   "outputs": [
    {
     "data": {
      "text/plain": [
       "(10000, 784)"
      ]
     },
     "execution_count": 14,
     "metadata": {},
     "output_type": "execute_result"
    }
   ],
   "source": [
    "x_test.shape"
   ]
  },
  {
   "cell_type": "code",
   "execution_count": 15,
   "id": "88e1797b-9897-4927-b9bf-300c98c9b2f6",
   "metadata": {},
   "outputs": [],
   "source": [
    "#load the model\n",
    "from tensorflow.keras.models import Sequential\n",
    "model = Sequential()"
   ]
  },
  {
   "cell_type": "code",
   "execution_count": 16,
   "id": "a5b912e9-7702-44db-98df-aea6eeee30d6",
   "metadata": {},
   "outputs": [
    {
     "data": {
      "text/plain": [
       "(784,)"
      ]
     },
     "execution_count": 16,
     "metadata": {},
     "output_type": "execute_result"
    }
   ],
   "source": [
    "x_train[1].shape"
   ]
  },
  {
   "cell_type": "code",
   "execution_count": 17,
   "id": "a57d3545-9b0e-45a2-aaa7-f06c4b3ecfd1",
   "metadata": {},
   "outputs": [],
   "source": [
    "#import layers (Dense)  and Droupout Regularization\" \n",
    "from tensorflow.keras.layers import Dense\n",
    "from tensorflow.keras.layers import Dropout\n",
    "\n",
    "model.add(Dense(units=256, activation='relu', input_shape=(784, )))\n",
    "model.add(Dropout(0.4))\n",
    "# model.add(Dense(units=512, activation='relu'))\n",
    "# model.add(Dropout(0.5))\n",
    "# model.add(Dense(units=256, activation='relu' ))\n",
    "# model.add(Dropout(0.4))\n",
    "model.add(Dense(units=128, activation='relu'))\n",
    "model.add(Dropout(0.2))\n",
    "model.add(Dense(units=68, activation='relu'))\n",
    "model.add(Dropout(0.1))\n",
    "\n",
    "model.add(Dense(units=10, activation='softmax'))"
   ]
  },
  {
   "cell_type": "code",
   "execution_count": 18,
   "id": "7435eae9-ac2f-445e-87aa-681eb854feea",
   "metadata": {},
   "outputs": [
    {
     "name": "stdout",
     "output_type": "stream",
     "text": [
      "Model: \"sequential\"\n",
      "_________________________________________________________________\n",
      " Layer (type)                Output Shape              Param #   \n",
      "=================================================================\n",
      " dense (Dense)               (None, 256)               200960    \n",
      "                                                                 \n",
      " dropout (Dropout)           (None, 256)               0         \n",
      "                                                                 \n",
      " dense_1 (Dense)             (None, 512)               131584    \n",
      "                                                                 \n",
      " dropout_1 (Dropout)         (None, 512)               0         \n",
      "                                                                 \n",
      " dense_2 (Dense)             (None, 256)               131328    \n",
      "                                                                 \n",
      " dropout_2 (Dropout)         (None, 256)               0         \n",
      "                                                                 \n",
      " dense_3 (Dense)             (None, 128)               32896     \n",
      "                                                                 \n",
      " dropout_3 (Dropout)         (None, 128)               0         \n",
      "                                                                 \n",
      " dense_4 (Dense)             (None, 68)                8772      \n",
      "                                                                 \n",
      " dropout_4 (Dropout)         (None, 68)                0         \n",
      "                                                                 \n",
      " dense_5 (Dense)             (None, 10)                690       \n",
      "                                                                 \n",
      "=================================================================\n",
      "Total params: 506,230\n",
      "Trainable params: 506,230\n",
      "Non-trainable params: 0\n",
      "_________________________________________________________________\n"
     ]
    }
   ],
   "source": [
    "model.summary()"
   ]
  },
  {
   "cell_type": "code",
   "execution_count": 19,
   "id": "fd0ab97e-d160-4a3c-9c03-51b79c6ac547",
   "metadata": {},
   "outputs": [],
   "source": [
    "#compile model \n",
    "model.compile(loss='sparse_categorical_crossentropy', optimizer='adam', metrics=['sparse_categorical_accuracy'])"
   ]
  },
  {
   "cell_type": "code",
   "execution_count": 54,
   "id": "4355e95f-cf40-4ea3-b1c6-c49057042cdd",
   "metadata": {},
   "outputs": [
    {
     "name": "stdout",
     "output_type": "stream",
     "text": [
      "Epoch 1/50\n",
      "1200/1200 [==============================] - 13s 11ms/step - loss: 0.4222 - sparse_categorical_accuracy: 0.8529 - val_loss: 0.4015 - val_sparse_categorical_accuracy: 0.8564\n",
      "Epoch 2/50\n",
      "1200/1200 [==============================] - 13s 11ms/step - loss: 0.4149 - sparse_categorical_accuracy: 0.8545 - val_loss: 0.3817 - val_sparse_categorical_accuracy: 0.8633\n",
      "Epoch 3/50\n",
      "1200/1200 [==============================] - 13s 11ms/step - loss: 0.4131 - sparse_categorical_accuracy: 0.8548 - val_loss: 0.3835 - val_sparse_categorical_accuracy: 0.8660\n",
      "Epoch 4/50\n",
      "1200/1200 [==============================] - 14s 12ms/step - loss: 0.4034 - sparse_categorical_accuracy: 0.8589 - val_loss: 0.3844 - val_sparse_categorical_accuracy: 0.8647\n",
      "Epoch 5/50\n",
      "1200/1200 [==============================] - 13s 11ms/step - loss: 0.3967 - sparse_categorical_accuracy: 0.8597 - val_loss: 0.3773 - val_sparse_categorical_accuracy: 0.8693\n",
      "Epoch 6/50\n",
      "1200/1200 [==============================] - 12s 10ms/step - loss: 0.3890 - sparse_categorical_accuracy: 0.8620 - val_loss: 0.3732 - val_sparse_categorical_accuracy: 0.8689\n",
      "Epoch 7/50\n",
      "1200/1200 [==============================] - 13s 11ms/step - loss: 0.3881 - sparse_categorical_accuracy: 0.8647 - val_loss: 0.3746 - val_sparse_categorical_accuracy: 0.8706\n",
      "Epoch 8/50\n",
      "1200/1200 [==============================] - 12s 10ms/step - loss: 0.3808 - sparse_categorical_accuracy: 0.8674 - val_loss: 0.3745 - val_sparse_categorical_accuracy: 0.8668\n",
      "Epoch 9/50\n",
      "1200/1200 [==============================] - 12s 10ms/step - loss: 0.3741 - sparse_categorical_accuracy: 0.8691 - val_loss: 0.3664 - val_sparse_categorical_accuracy: 0.8753\n",
      "Epoch 10/50\n",
      "1200/1200 [==============================] - 13s 11ms/step - loss: 0.3771 - sparse_categorical_accuracy: 0.8676 - val_loss: 0.3708 - val_sparse_categorical_accuracy: 0.8671\n",
      "Epoch 11/50\n",
      "1200/1200 [==============================] - 12s 10ms/step - loss: 0.3698 - sparse_categorical_accuracy: 0.8695 - val_loss: 0.3564 - val_sparse_categorical_accuracy: 0.8702\n",
      "Epoch 12/50\n",
      "1200/1200 [==============================] - 13s 11ms/step - loss: 0.3679 - sparse_categorical_accuracy: 0.8685 - val_loss: 0.3659 - val_sparse_categorical_accuracy: 0.8723\n",
      "Epoch 13/50\n",
      "1200/1200 [==============================] - 13s 11ms/step - loss: 0.3673 - sparse_categorical_accuracy: 0.8716 - val_loss: 0.3643 - val_sparse_categorical_accuracy: 0.8714\n",
      "Epoch 14/50\n",
      "1200/1200 [==============================] - 13s 10ms/step - loss: 0.3622 - sparse_categorical_accuracy: 0.8727 - val_loss: 0.3710 - val_sparse_categorical_accuracy: 0.8700\n",
      "Epoch 15/50\n",
      "1200/1200 [==============================] - 12s 10ms/step - loss: 0.3603 - sparse_categorical_accuracy: 0.8735 - val_loss: 0.3679 - val_sparse_categorical_accuracy: 0.8738\n",
      "Epoch 16/50\n",
      "1200/1200 [==============================] - 12s 10ms/step - loss: 0.3597 - sparse_categorical_accuracy: 0.8755 - val_loss: 0.3662 - val_sparse_categorical_accuracy: 0.8752\n",
      "Epoch 17/50\n",
      "1200/1200 [==============================] - 12s 10ms/step - loss: 0.3538 - sparse_categorical_accuracy: 0.8745 - val_loss: 0.3632 - val_sparse_categorical_accuracy: 0.8747\n",
      "Epoch 18/50\n",
      "1200/1200 [==============================] - 12s 10ms/step - loss: 0.3525 - sparse_categorical_accuracy: 0.8760 - val_loss: 0.3548 - val_sparse_categorical_accuracy: 0.8782\n",
      "Epoch 19/50\n",
      "1200/1200 [==============================] - 12s 10ms/step - loss: 0.3496 - sparse_categorical_accuracy: 0.8755 - val_loss: 0.3646 - val_sparse_categorical_accuracy: 0.8766\n",
      "Epoch 20/50\n",
      "1200/1200 [==============================] - 12s 10ms/step - loss: 0.3535 - sparse_categorical_accuracy: 0.8741 - val_loss: 0.3705 - val_sparse_categorical_accuracy: 0.8759\n",
      "Epoch 21/50\n",
      "1200/1200 [==============================] - 12s 10ms/step - loss: 0.3470 - sparse_categorical_accuracy: 0.8773 - val_loss: 0.3566 - val_sparse_categorical_accuracy: 0.8758\n",
      "Epoch 22/50\n",
      "1200/1200 [==============================] - 12s 10ms/step - loss: 0.3446 - sparse_categorical_accuracy: 0.8792 - val_loss: 0.3482 - val_sparse_categorical_accuracy: 0.8816\n",
      "Epoch 23/50\n",
      "1200/1200 [==============================] - 11s 9ms/step - loss: 0.3410 - sparse_categorical_accuracy: 0.8790 - val_loss: 0.3503 - val_sparse_categorical_accuracy: 0.8761\n",
      "Epoch 24/50\n",
      "1200/1200 [==============================] - 11s 10ms/step - loss: 0.3376 - sparse_categorical_accuracy: 0.8814 - val_loss: 0.3518 - val_sparse_categorical_accuracy: 0.8797\n",
      "Epoch 25/50\n",
      "1200/1200 [==============================] - 12s 10ms/step - loss: 0.3447 - sparse_categorical_accuracy: 0.8787 - val_loss: 0.3589 - val_sparse_categorical_accuracy: 0.8766\n",
      "Epoch 26/50\n",
      "1200/1200 [==============================] - 12s 10ms/step - loss: 0.3375 - sparse_categorical_accuracy: 0.8802 - val_loss: 0.3592 - val_sparse_categorical_accuracy: 0.8806\n",
      "Epoch 27/50\n",
      "1200/1200 [==============================] - 12s 10ms/step - loss: 0.3418 - sparse_categorical_accuracy: 0.8782 - val_loss: 0.3564 - val_sparse_categorical_accuracy: 0.8775\n",
      "Epoch 28/50\n",
      "1200/1200 [==============================] - 12s 10ms/step - loss: 0.3364 - sparse_categorical_accuracy: 0.8814 - val_loss: 0.3626 - val_sparse_categorical_accuracy: 0.8776\n",
      "Epoch 29/50\n",
      "1200/1200 [==============================] - 11s 9ms/step - loss: 0.3362 - sparse_categorical_accuracy: 0.8814 - val_loss: 0.3555 - val_sparse_categorical_accuracy: 0.8746\n",
      "Epoch 30/50\n",
      "1200/1200 [==============================] - 12s 10ms/step - loss: 0.3352 - sparse_categorical_accuracy: 0.8802 - val_loss: 0.3568 - val_sparse_categorical_accuracy: 0.8797\n",
      "Epoch 31/50\n",
      "1200/1200 [==============================] - 12s 10ms/step - loss: 0.3385 - sparse_categorical_accuracy: 0.8788 - val_loss: 0.3439 - val_sparse_categorical_accuracy: 0.8806\n",
      "Epoch 32/50\n",
      "1200/1200 [==============================] - 13s 11ms/step - loss: 0.3328 - sparse_categorical_accuracy: 0.8823 - val_loss: 0.3516 - val_sparse_categorical_accuracy: 0.8796\n",
      "Epoch 33/50\n",
      "1200/1200 [==============================] - 14s 12ms/step - loss: 0.3275 - sparse_categorical_accuracy: 0.8847 - val_loss: 0.3517 - val_sparse_categorical_accuracy: 0.8777\n",
      "Epoch 34/50\n",
      "1200/1200 [==============================] - 12s 10ms/step - loss: 0.3266 - sparse_categorical_accuracy: 0.8852 - val_loss: 0.3497 - val_sparse_categorical_accuracy: 0.8816\n",
      "Epoch 35/50\n",
      "1200/1200 [==============================] - 12s 10ms/step - loss: 0.3309 - sparse_categorical_accuracy: 0.8825 - val_loss: 0.3567 - val_sparse_categorical_accuracy: 0.8755\n",
      "Epoch 36/50\n",
      "1200/1200 [==============================] - 14s 11ms/step - loss: 0.3271 - sparse_categorical_accuracy: 0.8850 - val_loss: 0.3572 - val_sparse_categorical_accuracy: 0.8722\n",
      "Epoch 37/50\n",
      "1200/1200 [==============================] - 15s 13ms/step - loss: 0.3246 - sparse_categorical_accuracy: 0.8858 - val_loss: 0.3608 - val_sparse_categorical_accuracy: 0.8730\n",
      "Epoch 38/50\n",
      "1200/1200 [==============================] - 13s 11ms/step - loss: 0.3264 - sparse_categorical_accuracy: 0.8849 - val_loss: 0.3546 - val_sparse_categorical_accuracy: 0.8781\n",
      "Epoch 39/50\n",
      "1200/1200 [==============================] - 15s 12ms/step - loss: 0.3280 - sparse_categorical_accuracy: 0.8838 - val_loss: 0.3502 - val_sparse_categorical_accuracy: 0.8774\n",
      "Epoch 40/50\n",
      "1200/1200 [==============================] - 13s 11ms/step - loss: 0.3252 - sparse_categorical_accuracy: 0.8855 - val_loss: 0.3481 - val_sparse_categorical_accuracy: 0.8803\n",
      "Epoch 41/50\n",
      "1200/1200 [==============================] - 14s 11ms/step - loss: 0.3256 - sparse_categorical_accuracy: 0.8847 - val_loss: 0.3639 - val_sparse_categorical_accuracy: 0.8767\n",
      "Epoch 41: early stopping\n"
     ]
    }
   ],
   "source": [
    "#early stoping\n",
    "from tensorflow.keras.callbacks import EarlyStopping\n",
    "early_stoping_callbacks = EarlyStopping(monitor='val_loss', patience=10, verbose=1)\n",
    "\n",
    "#model fit\n",
    "history = model.fit(x_train, y_train, epochs=50, validation_data=(x_test, y_test), batch_size=50, verbose=1, callbacks=[early_stoping_callbacks])"
   ]
  },
  {
   "cell_type": "code",
   "execution_count": 59,
   "id": "479ecd3b-4687-46a6-858e-b647961bc270",
   "metadata": {},
   "outputs": [],
   "source": [
    "#extract accuray and the loss from the history object \n",
    "train_accuracy = history.history['sparse_categorical_accuracy']\n",
    "test_accuracy = history.history['val_sparse_categorical_accuracy']\n",
    "\n",
    "train_loss = history.history['loss']\n",
    "test_loss = history.history['val_loss']\n",
    "\n",
    "#create the range base on number od executed epochs \n",
    "epochs = range(1, len(train_accuracy)+1)\n",
    "\n"
   ]
  },
  {
   "cell_type": "code",
   "execution_count": 60,
   "id": "4abc559b-4d61-46b2-bbdb-1f40426a217f",
   "metadata": {},
   "outputs": [
    {
     "data": {
      "image/png": "[encoded data removed]",
      "text/plain": [
       "<Figure size 500x500 with 1 Axes>"
      ]
     },
     "metadata": {},
     "output_type": "display_data"
    }
   ],
   "source": [
    "\n",
    "#plot the accuray curve\n",
    "plt.figure(figsize=(5,5))\n",
    "plt.plot(epochs, train_accuracy, 'b', label='Train Accuracy')\n",
    "plt.plot(epochs, test_accuracy, 'r', label='Test Accuracy')\n",
    "plt.title(\"Accuracy Curve\")\n",
    "plt.xlabel(\"Epochs\")\n",
    "plt.ylabel(\"Accuracy\")\n",
    "plt.legend()\n",
    "plt.show()\n"
   ]
  },
  {
   "cell_type": "code",
   "execution_count": 61,
   "id": "87d6fb89-a2ac-4d47-8cc3-89c93e06427a",
   "metadata": {},
   "outputs": [
    {
     "data": {
      "image/png": "[encoded data removed]",
      "text/plain": [
       "<Figure size 500x500 with 1 Axes>"
      ]
     },
     "metadata": {},
     "output_type": "display_data"
    }
   ],
   "source": [
    "\n",
    "#plot the loss curve \n",
    "plt.figure(figsize=(5,5))\n",
    "plt.plot(epochs, train_loss, 'b', label='Train Loss')\n",
    "plt.plot(epochs, test_loss, 'r', label='Test Loss')\n",
    "plt.title(\"Loss Curve\")\n",
    "plt.xlabel(\"Epochs\")\n",
    "plt.ylabel(\"Loss\")\n",
    "plt.legend()\n",
    "plt.show()\n"
   ]
  },
  {
   "cell_type": "code",
   "execution_count": 58,
   "id": "9b4dbbbb-96cb-4be3-b329-54555df1ae2a",
   "metadata": {},
   "outputs": [
    {
     "name": "stdout",
     "output_type": "stream",
     "text": [
      "313/313 [==============================] - 1s 2ms/step - loss: 0.3639 - sparse_categorical_accuracy: 0.8767\n",
      "loss: 0.36391201615333557\n",
      "accuracy: 0.8766999840736389\n"
     ]
    }
   ],
   "source": [
    "loss, accuracy = model.evaluate(x_test, y_test)\n",
    "print(\"loss: {}\".format(loss))\n",
    "print(\"accuracy: {}\".format(accuracy))"
   ]
  },
  {
   "cell_type": "code",
   "execution_count": 63,
   "id": "44b91827-cba0-460e-b283-3399bdd19f7f",
   "metadata": {},
   "outputs": [
    {
     "name": "stdout",
     "output_type": "stream",
     "text": [
      "313/313 [==============================] - 1s 2ms/step\n"
     ]
    },
    {
     "data": {
      "text/plain": [
       "array([[1.4972508e-16, 3.9545262e-15, 1.1392292e-19, ..., 1.5122988e-03,\n",
       "        1.8367630e-09, 9.9837816e-01],\n",
       "       [9.1551291e-04, 1.5495989e-07, 9.8165566e-01, ..., 1.3051753e-13,\n",
       "        1.7864578e-07, 2.7724622e-14],\n",
       "       [1.1022010e-15, 1.0000000e+00, 9.4808017e-20, ..., 0.0000000e+00,\n",
       "        1.9515885e-38, 0.0000000e+00],\n",
       "       ...,\n",
       "       [1.4630920e-04, 2.5320376e-10, 6.3808400e-08, ..., 8.7588496e-08,\n",
       "        9.9983394e-01, 9.0214503e-09],\n",
       "       [1.8303472e-11, 1.0000000e+00, 2.3744121e-15, ..., 0.0000000e+00,\n",
       "        4.1519329e-27, 0.0000000e+00],\n",
       "       [9.0015681e-23, 9.9296754e-31, 2.8344261e-30, ..., 1.1996021e-07,\n",
       "        6.9614487e-15, 3.2205918e-11]], dtype=float32)"
      ]
     },
     "execution_count": 63,
     "metadata": {},
     "output_type": "execute_result"
    }
   ],
   "source": [
    "#model predictions \n",
    "\n",
    "predicttion = model.predict(x_test)"
   ]
  },
  {
   "cell_type": "code",
   "execution_count": 71,
   "id": "2dd0f2ea-0584-45b6-b269-1bee65902c3c",
   "metadata": {},
   "outputs": [
    {
     "data": {
      "text/plain": [
       "array([9, 2, 1, ..., 8, 1, 5])"
      ]
     },
     "execution_count": 71,
     "metadata": {},
     "output_type": "execute_result"
    }
   ],
   "source": [
    "predicttion_values = np.argmax(predicttion, axis=1)\n",
    "predicttion_values"
   ]
  },
  {
   "cell_type": "code",
   "execution_count": 80,
   "id": "04674912-d1af-4b18-b21b-432bcb440b6d",
   "metadata": {},
   "outputs": [
    {
     "name": "stdout",
     "output_type": "stream",
     "text": [
      "accuracy: 0.8767\n",
      "precision: [0.87144482 0.995842   0.74358974 0.83963134 0.81682028 0.97479839\n",
      " 0.66666667 0.93582375 0.98382204 0.9742268 ]\n",
      "recall: [0.87144482 0.995842   0.74358974 0.83963134 0.81682028 0.97479839\n",
      " 0.66666667 0.93582375 0.98382204 0.9742268 ]\n"
     ]
    }
   ],
   "source": [
    "from sklearn.metrics import accuracy_score, f1_score, recall_score, precision_score, confusion_matrix\n",
    "\n",
    "print(\"accuracy: {}\".format(accuracy_score(predicttion_values, y_test)))\n",
    "\n",
    "print(\"precision: {}\".format(precision_score(y_test, predicttion_values, average=None)))\n",
    "print(\"recall: {}\".format(recall_score(predicttion_values, y_test, average=None)))\n"
   ]
  },
  {
   "cell_type": "code",
   "execution_count": null,
   "id": "32f20533-0c9f-457f-9745-083ef8d34630",
   "metadata": {},
   "outputs": [],
   "source": [
    "cm = confusion_matrix(predicttion_values, )"
   ]
  }
 ],
 "metadata": {
  "kernelspec": {
   "display_name": "ML_PROJECTS_Kernel",
   "language": "python",
   "name": "ml_projects"
  },
  "language_info": {
   "codemirror_mode": {
    "name": "ipython",
    "version": 3
   },
   "file_extension": ".py",
   "mimetype": "text/x-python",
   "name": "python",
   "nbconvert_exporter": "python",
   "pygments_lexer": "ipython3",
   "version": "3.10.13"
  }
 },
 "nbformat": 4,
 "nbformat_minor": 5
}
