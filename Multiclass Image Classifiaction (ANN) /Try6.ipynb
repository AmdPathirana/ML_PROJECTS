{
 "cells": [
  {
   "cell_type": "code",
   "execution_count": 15,
   "id": "1d30ecb3-1d9b-4fb6-b5ee-13a67dc08f3e",
   "metadata": {},
   "outputs": [],
   "source": [
    "import tensorflow "
   ]
  },
  {
   "cell_type": "code",
   "execution_count": 16,
   "id": "3aa00b72-a466-4190-a3f6-c3601a009518",
   "metadata": {},
   "outputs": [],
   "source": [
    "from tensorflow.keras.datasets import fashion_mnist\n",
    "data  = fashion_mnist.load_data()"
   ]
  },
  {
   "cell_type": "code",
   "execution_count": 17,
   "id": "a76ee573-1d28-45ee-aacc-e3a910a6f7d2",
   "metadata": {},
   "outputs": [],
   "source": [
    "train, test = data\n",
    "(x_train, y_train) = train\n",
    "(x_test, y_test)= test"
   ]
  },
  {
   "cell_type": "code",
   "execution_count": 18,
   "id": "5fff9fed-03c2-44a5-aed0-2b61cf0044c0",
   "metadata": {},
   "outputs": [
    {
     "name": "stdout",
     "output_type": "stream",
     "text": [
      "(60000, 28, 28)\n",
      "(60000,)\n",
      "(10000, 28, 28)\n",
      "(10000,)\n"
     ]
    }
   ],
   "source": [
    "print(x_train.shape)\n",
    "print(y_train.shape)\n",
    "print(x_test.shape)\n",
    "print(y_test.shape)"
   ]
  },
  {
   "cell_type": "code",
   "execution_count": 19,
   "id": "40ca9648-2089-4c7a-88a3-a19874e1e8db",
   "metadata": {},
   "outputs": [
    {
     "data": {
      "text/plain": [
       "(28, 28)"
      ]
     },
     "execution_count": 19,
     "metadata": {},
     "output_type": "execute_result"
    }
   ],
   "source": [
    "x_train[30].shape"
   ]
  },
  {
   "cell_type": "code",
   "execution_count": 20,
   "id": "94aca8c2-2b23-4fd4-9269-d3a464e50d8f",
   "metadata": {},
   "outputs": [],
   "source": [
    "class_names=['0 T-shirt/top', '1 Trouser', '2 Pullover', '3 Dress', '4 Coat',\n",
    "    '5 Sandal', '6 Shirt', '7 Sneaker', '8 Bag', '9 Ankle boot']\n",
    "\n",
    "def get_name(n):\n",
    "    return class_names[n]"
   ]
  },
  {
   "cell_type": "code",
   "execution_count": 21,
   "id": "d8e2d9ff-f1e1-4d64-8aeb-7cb67e27cbec",
   "metadata": {},
   "outputs": [
    {
     "name": "stdout",
     "output_type": "stream",
     "text": [
      "5 Sandal\n"
     ]
    },
    {
     "data": {
      "image/png": "[encoded data removed]",
      "text/plain": [
       "<Figure size 640x480 with 1 Axes>"
      ]
     },
     "metadata": {},
     "output_type": "display_data"
    }
   ],
   "source": [
    "import matplotlib.pyplot as plt \n",
    "plt.imshow(x_train[30])\n",
    "print(get_name(y_train[30]))"
   ]
  },
  {
   "cell_type": "code",
   "execution_count": 22,
   "id": "7661cf8c-ff01-4162-935b-77e68c515c38",
   "metadata": {},
   "outputs": [
    {
     "data": {
      "text/plain": [
       "array([[  0,   0,   0,   0,   0,   0,   0,   0,   0,   0,   0,   0,   0,\n",
       "          0,   0,   0,   0,   0,   0,   0,   0,   0,   0,   0,   0,   0,\n",
       "          0,   0],\n",
       "       [  0,   0,   0,   0,   0,   0,   0,   0,   0,   0,   0,   0,   0,\n",
       "          0,   0,   0,   0,   0,   0,   0,   0,   0,   0,   0,   0,   0,\n",
       "          0,   0],\n",
       "       [  0,   0,   0,   0,   0,   0,   0,   0,   0,   0,   0,   0,   0,\n",
       "          0,   0,   0,   0,   0,   0,   0,   0,   0,   0,   0,   0,   0,\n",
       "          0,   0],\n",
       "       [  0,   0,   0,   0,   0,   0,   0,   0,   0,   0,   0,   0,   0,\n",
       "          0,   0,   0,   0,   0,   0,   0,   0,   0,   0,   0,   0,   0,\n",
       "          0,   0],\n",
       "       [  0,   0,   0,   0,   0,   0,   0,   0,   0,   0,   0,   0,   0,\n",
       "          0,   0,   0,   0,   0,   0,   0,   0,   0,   0,   0,   0,   0,\n",
       "          0,   0],\n",
       "       [  0,   0,   0,   0,   0,   0,   0,   0,   0,   0,   0,   0,   0,\n",
       "          0,   0,   0,   0,   0,   0,   0,   0,   0,   0,   0,   0,   0,\n",
       "          0,   0],\n",
       "       [  0,   0,   0,   0,   0,   0,   0,   0,   0,   0,   0,   0,   0,\n",
       "          0,   0,   0,   0,   0,   0,   0,   0,   0,   0,   0,   0,   0,\n",
       "          0,   0],\n",
       "       [  0,   0,   0,   0,   0,   0,   0,   0,   0,   0,   0,   0,   0,\n",
       "          0,   0,   0,   0,   0,   0,   0,   0,   0,   0,   0,   0,   0,\n",
       "          0,   0],\n",
       "       [  0,   0,   0,   0,   0,   0,   0,   0,   0,   0,   0,   0,   0,\n",
       "          0,   0,   0,   0,   0,   0,   0,   0,   0,   0,   0,   0,   0,\n",
       "          0,   0],\n",
       "       [  0,   0,   0,   0,   0,   0,   0,   0,   0,   0,   0,   0,   0,\n",
       "          0,   0,   0,   0,   0,   0,   0,   0,   0,   0,   0,   0,   0,\n",
       "          0,   0],\n",
       "       [  0,   0,   0,   0,   0,   0,   0,   0,   0,   0,   0,   0,   0,\n",
       "          0,   0,   0,   0,   0,   0,   0,   0,   0,   0,   0,   0,   0,\n",
       "          0,   0],\n",
       "       [  0,   0,   0,   0,   0,   0,   0,   0,  48,  88,  54,  25,  19,\n",
       "          0,   0,   0,   0,   1,   0,   0,   0,   0,   0,   0,   0,   0,\n",
       "          0,   0],\n",
       "       [  4,   1,   1,   1,   0,   0, 206, 204, 106, 163, 178, 157, 163,\n",
       "        171, 119,  39,   0,   0,   2,   1,   1,   1,   1,   1,   1,   1,\n",
       "          0,   0],\n",
       "       [  0,   0,   0,   0,   0,  84, 204,   0,   0,   0,   1,  57,  91,\n",
       "         77,  99, 138,  94,   7,   0,   0,   0,   0,   0,   0,   0,   0,\n",
       "          1,   3],\n",
       "       [ 51,  43,  27,  27,  28, 254,  31,   0,   4,   0,   0,   0,  16,\n",
       "        121,  84,  19,  63, 110,  31,   0,   0,   0,   0,   0,   0,   0,\n",
       "          0,   0],\n",
       "       [137, 202, 133, 108,  97, 146,  71,  78,  82,  86,  85, 105, 118,\n",
       "        139, 143, 126, 162, 176, 135,  69,  76,  71,  91,  99, 103,  94,\n",
       "         99,  54],\n",
       "       [  0, 110, 186, 205, 203, 193, 191, 178, 204, 172, 175, 175, 177,\n",
       "        183, 189, 190, 197, 196, 192, 182, 186, 185, 184, 182, 178, 168,\n",
       "        159,  77],\n",
       "       [  0,   0,   0,   4,  51,  69,  92, 108, 112, 115, 112, 111, 112,\n",
       "         90,  77,  62,  44,  36,  32,  35,  27,  25,  19,  14,   5,   0,\n",
       "          0,   0],\n",
       "       [  0,   0,   0,   0,   0,   0,   0,   0,   0,   0,   0,   0,   0,\n",
       "          0,   0,   0,   0,   0,   0,   0,   0,   0,   0,   0,   0,   0,\n",
       "          0,   0],\n",
       "       [  0,   0,   0,   0,   0,   0,   0,   0,   0,   0,   0,   0,   0,\n",
       "          0,   0,   0,   0,   0,   0,   0,   0,   0,   0,   0,   0,   0,\n",
       "          0,   0],\n",
       "       [  0,   0,   0,   0,   0,   0,   0,   0,   0,   0,   0,   0,   0,\n",
       "          0,   0,   0,   0,   0,   0,   0,   0,   0,   0,   0,   0,   0,\n",
       "          0,   0],\n",
       "       [  0,   0,   0,   0,   0,   0,   0,   0,   0,   0,   0,   0,   0,\n",
       "          0,   0,   0,   0,   0,   0,   0,   0,   0,   0,   0,   0,   0,\n",
       "          0,   0],\n",
       "       [  0,   0,   0,   0,   0,   0,   0,   0,   0,   0,   0,   0,   0,\n",
       "          0,   0,   0,   0,   0,   0,   0,   0,   0,   0,   0,   0,   0,\n",
       "          0,   0],\n",
       "       [  0,   0,   0,   0,   0,   0,   0,   0,   0,   0,   0,   0,   0,\n",
       "          0,   0,   0,   0,   0,   0,   0,   0,   0,   0,   0,   0,   0,\n",
       "          0,   0],\n",
       "       [  0,   0,   0,   0,   0,   0,   0,   0,   0,   0,   0,   0,   0,\n",
       "          0,   0,   0,   0,   0,   0,   0,   0,   0,   0,   0,   0,   0,\n",
       "          0,   0],\n",
       "       [  0,   0,   0,   0,   0,   0,   0,   0,   0,   0,   0,   0,   0,\n",
       "          0,   0,   0,   0,   0,   0,   0,   0,   0,   0,   0,   0,   0,\n",
       "          0,   0],\n",
       "       [  0,   0,   0,   0,   0,   0,   0,   0,   0,   0,   0,   0,   0,\n",
       "          0,   0,   0,   0,   0,   0,   0,   0,   0,   0,   0,   0,   0,\n",
       "          0,   0],\n",
       "       [  0,   0,   0,   0,   0,   0,   0,   0,   0,   0,   0,   0,   0,\n",
       "          0,   0,   0,   0,   0,   0,   0,   0,   0,   0,   0,   0,   0,\n",
       "          0,   0]], dtype=uint8)"
      ]
     },
     "execution_count": 22,
     "metadata": {},
     "output_type": "execute_result"
    }
   ],
   "source": [
    "x_train[30]"
   ]
  },
  {
   "cell_type": "code",
   "execution_count": 23,
   "id": "adf27372-1849-499e-b188-b3e2959d1987",
   "metadata": {},
   "outputs": [],
   "source": [
    "x_train = x_train.reshape(-1, 28*28)\n",
    "x_test = x_test.reshape(-1, 28*28)"
   ]
  },
  {
   "cell_type": "code",
   "execution_count": 24,
   "id": "11735161-4f5b-424e-8b0e-d657e64ddc33",
   "metadata": {},
   "outputs": [
    {
     "data": {
      "text/plain": [
       "(60000, 784)"
      ]
     },
     "execution_count": 24,
     "metadata": {},
     "output_type": "execute_result"
    }
   ],
   "source": [
    "x_train.shape"
   ]
  },
  {
   "cell_type": "code",
   "execution_count": 25,
   "id": "52d8c9b6-6b09-419a-af14-ceffdf756744",
   "metadata": {},
   "outputs": [
    {
     "data": {
      "text/plain": [
       "(10000, 784)"
      ]
     },
     "execution_count": 25,
     "metadata": {},
     "output_type": "execute_result"
    }
   ],
   "source": [
    "x_test.shape"
   ]
  },
  {
   "cell_type": "code",
   "execution_count": 26,
   "id": "01b10d28-fc96-4f21-aeb0-021347fd1860",
   "metadata": {},
   "outputs": [],
   "source": [
    "x_train = x_train/255\n",
    "x_test = x_test/255"
   ]
  },
  {
   "cell_type": "code",
   "execution_count": 28,
   "id": "710f7e28-bbc4-45f0-9b75-45755dd23c55",
   "metadata": {},
   "outputs": [],
   "source": [
    "from tensorflow.keras.models import Sequential\n",
    "model = Sequential()"
   ]
  },
  {
   "cell_type": "code",
   "execution_count": 31,
   "id": "df1f0b14-0f26-4761-9486-0e62041d1fc9",
   "metadata": {},
   "outputs": [
    {
     "name": "stdout",
     "output_type": "stream",
     "text": [
      "Model: \"sequential_1\"\n",
      "_________________________________________________________________\n",
      " Layer (type)                Output Shape              Param #   \n",
      "=================================================================\n",
      " dense (Dense)               (None, 512)               401920    \n",
      "                                                                 \n",
      " dense_1 (Dense)             (None, 512)               262656    \n",
      "                                                                 \n",
      " dense_2 (Dense)             (None, 256)               131328    \n",
      "                                                                 \n",
      " dropout (Dropout)           (None, 256)               0         \n",
      "                                                                 \n",
      " dense_3 (Dense)             (None, 128)               32896     \n",
      "                                                                 \n",
      " dropout_1 (Dropout)         (None, 128)               0         \n",
      "                                                                 \n",
      " dense_4 (Dense)             (None, 56)                7224      \n",
      "                                                                 \n",
      " dropout_2 (Dropout)         (None, 56)                0         \n",
      "                                                                 \n",
      " dense_5 (Dense)             (None, 10)                570       \n",
      "                                                                 \n",
      "=================================================================\n",
      "Total params: 836,594\n",
      "Trainable params: 836,594\n",
      "Non-trainable params: 0\n",
      "_________________________________________________________________\n"
     ]
    }
   ],
   "source": [
    "from tensorflow.keras.layers import Dense, Dropout\n",
    "from tensorflow.keras.regularizers import l1_l2\n",
    "\n",
    "l1_reg = 0.001\n",
    "l2_reg = 0.001\n",
    "\n",
    "model.add(Dense(units=512, input_shape=(784, )))\n",
    "model.add(Dense(units=256, activation='relu', kernel_regularizer=l1_l2(l1=l1_reg, l2=l2_reg)))\n",
    "model.add(Dropout(0.4))\n",
    "model.add(Dense(units=128, activation='relu', kernel_regularizer=l1_l2(l1=l1_reg, l2=l2_reg)))\n",
    "model.add(Dropout(0.2))\n",
    "model.add(Dense(units=56, activation='relu', kernel_regularizer=l1_l2(l1=l1_reg, l2=l2_reg)))\n",
    "model.add(Dropout(0.2))\n",
    "model.add(Dense(units=10, activation='softmax'))\n",
    "\n",
    "model.summary()"
   ]
  },
  {
   "cell_type": "code",
   "execution_count": 32,
   "id": "99648ffa-b49f-4a7f-8c87-93af8a143e58",
   "metadata": {},
   "outputs": [],
   "source": [
    "model.compile(loss='sparse_categorical_crossentropy', optimizer='adam', metrics=['sparse_categorical_accuracy'])"
   ]
  },
  {
   "cell_type": "code",
   "execution_count": 43,
   "id": "bf5bd9b7-857b-4f07-8689-6b10b6ffad93",
   "metadata": {},
   "outputs": [
    {
     "name": "stdout",
     "output_type": "stream",
     "text": [
      "Epoch 1/80\n"
     ]
    },
    {
     "name": "stderr",
     "output_type": "stream",
     "text": [
      "2023-12-13 08:02:30.567885: W tensorflow/tsl/platform/profile_utils/cpu_utils.cc:128] Failed to get CPU frequency: 0 Hz\n"
     ]
    },
    {
     "name": "stdout",
     "output_type": "stream",
     "text": [
      "2000/2000 [==============================] - 15s 7ms/step - loss: 1.9130 - sparse_categorical_accuracy: 0.7506 - val_loss: 0.8275 - val_sparse_categorical_accuracy: 0.8174\n",
      "Epoch 2/80\n",
      "2000/2000 [==============================] - 16s 8ms/step - loss: 0.8159 - sparse_categorical_accuracy: 0.8065 - val_loss: 0.7101 - val_sparse_categorical_accuracy: 0.8286\n",
      "Epoch 3/80\n",
      "2000/2000 [==============================] - 16s 8ms/step - loss: 0.7605 - sparse_categorical_accuracy: 0.8173 - val_loss: 0.7026 - val_sparse_categorical_accuracy: 0.8276\n",
      "Epoch 4/80\n",
      "2000/2000 [==============================] - 18s 9ms/step - loss: 0.7385 - sparse_categorical_accuracy: 0.8256 - val_loss: 0.6861 - val_sparse_categorical_accuracy: 0.8354\n",
      "Epoch 5/80\n",
      "2000/2000 [==============================] - 18s 9ms/step - loss: 0.7390 - sparse_categorical_accuracy: 0.8275 - val_loss: 0.7135 - val_sparse_categorical_accuracy: 0.8249\n",
      "Epoch 6/80\n",
      "2000/2000 [==============================] - 17s 9ms/step - loss: 0.7147 - sparse_categorical_accuracy: 0.8313 - val_loss: 0.7215 - val_sparse_categorical_accuracy: 0.8247\n",
      "Epoch 7/80\n",
      "2000/2000 [==============================] - 17s 8ms/step - loss: 0.7076 - sparse_categorical_accuracy: 0.8339 - val_loss: 0.6637 - val_sparse_categorical_accuracy: 0.8409\n",
      "Epoch 8/80\n",
      "2000/2000 [==============================] - 17s 8ms/step - loss: 0.7020 - sparse_categorical_accuracy: 0.8349 - val_loss: 0.7061 - val_sparse_categorical_accuracy: 0.8336\n",
      "Epoch 9/80\n",
      "2000/2000 [==============================] - 16s 8ms/step - loss: 0.6981 - sparse_categorical_accuracy: 0.8353 - val_loss: 0.6961 - val_sparse_categorical_accuracy: 0.8303\n",
      "Epoch 10/80\n",
      "2000/2000 [==============================] - 15s 8ms/step - loss: 0.6959 - sparse_categorical_accuracy: 0.8362 - val_loss: 0.6917 - val_sparse_categorical_accuracy: 0.8386\n",
      "Epoch 11/80\n",
      "2000/2000 [==============================] - 15s 8ms/step - loss: 0.6797 - sparse_categorical_accuracy: 0.8390 - val_loss: 0.6569 - val_sparse_categorical_accuracy: 0.8420\n",
      "Epoch 12/80\n",
      "2000/2000 [==============================] - 15s 8ms/step - loss: 0.6830 - sparse_categorical_accuracy: 0.8390 - val_loss: 0.7094 - val_sparse_categorical_accuracy: 0.8319\n",
      "Epoch 13/80\n",
      "2000/2000 [==============================] - 16s 8ms/step - loss: 0.6884 - sparse_categorical_accuracy: 0.8402 - val_loss: 0.7296 - val_sparse_categorical_accuracy: 0.8226\n",
      "Epoch 14/80\n",
      "2000/2000 [==============================] - 16s 8ms/step - loss: 0.6769 - sparse_categorical_accuracy: 0.8404 - val_loss: 0.7167 - val_sparse_categorical_accuracy: 0.8371\n",
      "Epoch 15/80\n",
      "2000/2000 [==============================] - 15s 8ms/step - loss: 0.6732 - sparse_categorical_accuracy: 0.8427 - val_loss: 0.6980 - val_sparse_categorical_accuracy: 0.8367\n",
      "Epoch 16/80\n",
      "2000/2000 [==============================] - 16s 8ms/step - loss: 0.6738 - sparse_categorical_accuracy: 0.8408 - val_loss: 0.6473 - val_sparse_categorical_accuracy: 0.8399\n",
      "Epoch 17/80\n",
      "2000/2000 [==============================] - 15s 8ms/step - loss: 0.6663 - sparse_categorical_accuracy: 0.8434 - val_loss: 0.7198 - val_sparse_categorical_accuracy: 0.8309\n",
      "Epoch 18/80\n",
      "2000/2000 [==============================] - 15s 8ms/step - loss: 0.6647 - sparse_categorical_accuracy: 0.8457 - val_loss: 0.6276 - val_sparse_categorical_accuracy: 0.8481\n",
      "Epoch 19/80\n",
      "2000/2000 [==============================] - 16s 8ms/step - loss: 0.6647 - sparse_categorical_accuracy: 0.8433 - val_loss: 0.6317 - val_sparse_categorical_accuracy: 0.8464\n",
      "Epoch 20/80\n",
      "2000/2000 [==============================] - 16s 8ms/step - loss: 0.6590 - sparse_categorical_accuracy: 0.8454 - val_loss: 0.6388 - val_sparse_categorical_accuracy: 0.8469\n",
      "Epoch 21/80\n",
      "2000/2000 [==============================] - 16s 8ms/step - loss: 0.6650 - sparse_categorical_accuracy: 0.8460 - val_loss: 0.6786 - val_sparse_categorical_accuracy: 0.8398\n",
      "Epoch 22/80\n",
      "2000/2000 [==============================] - 16s 8ms/step - loss: 0.6586 - sparse_categorical_accuracy: 0.8446 - val_loss: 0.6765 - val_sparse_categorical_accuracy: 0.8438\n",
      "Epoch 23/80\n",
      "2000/2000 [==============================] - 16s 8ms/step - loss: 0.6608 - sparse_categorical_accuracy: 0.8473 - val_loss: 0.6493 - val_sparse_categorical_accuracy: 0.8438\n",
      "Epoch 23: early stopping\n"
     ]
    }
   ],
   "source": [
    "from tensorflow.keras.callbacks import EarlyStopping \n",
    "callbacks  = EarlyStopping(monitor='val_loss', patience=5, verbose=1 )\n",
    "history = model.fit(x_train, y_train, epochs=80, batch_size=30, verbose=1, validation_data=(x_test, y_test),callbacks=(callbacks))"
   ]
  },
  {
   "cell_type": "code",
   "execution_count": 49,
   "id": "c58eac67-a156-485c-8104-b3138d2e280a",
   "metadata": {},
   "outputs": [
    {
     "data": {
      "image/png": "[encoded data removed]",
      "text/plain": [
       "<Figure size 1000x300 with 1 Axes>"
      ]
     },
     "metadata": {},
     "output_type": "display_data"
    },
    {
     "data": {
      "image/png": "[encoded data removed]",
      "text/plain": [
       "<Figure size 1000x400 with 1 Axes>"
      ]
     },
     "metadata": {},
     "output_type": "display_data"
    }
   ],
   "source": [
    "train_accuracy = history.history['sparse_categorical_accuracy']\n",
    "test_accuracy = history.history['val_sparse_categorical_accuracy']\n",
    "\n",
    "train_loss = history.history['loss']\n",
    "test_loss = history.history['val_loss']\n",
    "\n",
    "epoch  = range(1, len(train_accuracy)+1)\n",
    "\n",
    "plt.figure(figsize=(10,3))\n",
    "plt.plot(epoch, train_accuracy, 'b', label='Train_Accuracy')\n",
    "plt.plot(epoch, test_accuracy, 'r', label='Test_Accuracy')\n",
    "plt.title(\"Accuracy Cruve\")\n",
    "plt.show()\n",
    "\n",
    "plt.figure(figsize=(10, 4))\n",
    "plt.plot(epoch, train_accuracy, 'b', label='Train Accuracy')\n",
    "plt.plot(epoch, test_accuracy, 'r', label=\"Test Accuracy\")\n",
    "plt.title(\"Loss Curve\")\n",
    "plt.show()"
   ]
  },
  {
   "cell_type": "code",
   "execution_count": null,
   "id": "1fd5ff52-a18b-4634-b5ca-d36762cbb4e6",
   "metadata": {},
   "outputs": [],
   "source": []
  }
 ],
 "metadata": {
  "kernelspec": {
   "display_name": "ML_PROJECTS_Kernel",
   "language": "python",
   "name": "ml_projects"
  },
  "language_info": {
   "codemirror_mode": {
    "name": "ipython",
    "version": 3
   },
   "file_extension": ".py",
   "mimetype": "text/x-python",
   "name": "python",
   "nbconvert_exporter": "python",
   "pygments_lexer": "ipython3",
   "version": "3.10.13"
  }
 },
 "nbformat": 4,
 "nbformat_minor": 5
}
