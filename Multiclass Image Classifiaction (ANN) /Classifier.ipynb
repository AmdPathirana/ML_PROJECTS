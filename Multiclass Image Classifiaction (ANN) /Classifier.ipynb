{
 "cells": [
  {
   "cell_type": "markdown",
   "id": "c2e6aa49-1eb2-4745-b9de-f28f6e3ad54c",
   "metadata": {},
   "source": [
    "## Installation "
   ]
  },
  {
   "cell_type": "code",
   "execution_count": 1,
   "id": "95f6584d-f4d7-40de-908f-1c43896dd7eb",
   "metadata": {
    "tags": []
   },
   "outputs": [],
   "source": [
    "#import the tensorflow\n",
    "# import tensorflow as tf"
   ]
  },
  {
   "cell_type": "code",
   "execution_count": 2,
   "id": "bf92fe6c-a13d-4667-aa1a-a3c90614a430",
   "metadata": {},
   "outputs": [],
   "source": [
    "#import other packages \n",
    "import numpy as np \n",
    "import pandas as pd \n",
    "import matplotlib.pyplot as plt "
   ]
  },
  {
   "cell_type": "markdown",
   "id": "7a35e43e-fd52-4561-9322-3f38aa59f3e2",
   "metadata": {},
   "source": [
    "## Data Preprocessig "
   ]
  },
  {
   "cell_type": "code",
   "execution_count": 3,
   "id": "910cc4f9-90d0-4545-8466-97a63e6ec059",
   "metadata": {},
   "outputs": [],
   "source": [
    "#import the data set \n",
    "from tensorflow.keras.datasets import fashion_mnist"
   ]
  },
  {
   "cell_type": "code",
   "execution_count": 4,
   "id": "8123662c-8fab-4735-8cd6-340e13296dd6",
   "metadata": {},
   "outputs": [],
   "source": [
    "#load the data set \n",
    "data = fashion_mnist.load_data()\n",
    "(x_train, y_train), (x_test, y_test) = data"
   ]
  },
  {
   "cell_type": "code",
   "execution_count": 5,
   "id": "33dfddec-2e06-4eb8-82c6-d7b25f38109c",
   "metadata": {},
   "outputs": [
    {
     "name": "stdout",
     "output_type": "stream",
     "text": [
      "x_train: (60000, 28, 28)\n",
      "y_train: (60000,)\n",
      "x_test: (10000, 28, 28)\n",
      "y_test: (10000,)\n"
     ]
    }
   ],
   "source": [
    "#Check the shape of the data set \n",
    "print(\"x_train: {}\".format(x_train.shape))\n",
    "print(\"y_train: {}\".format(y_train.shape))\n",
    "print(\"x_test: {}\".format(x_test.shape))\n",
    "print(\"y_test: {}\".format(y_test.shape))"
   ]
  },
  {
   "cell_type": "code",
   "execution_count": 6,
   "id": "9e8791f6-d944-49d0-a59b-9fe190bd07e8",
   "metadata": {},
   "outputs": [
    {
     "data": {
      "text/plain": [
       "<matplotlib.colorbar.Colorbar at 0x16d07b670>"
      ]
     },
     "execution_count": 6,
     "metadata": {},
     "output_type": "execute_result"
    },
    {
     "data": {
      "image/png": "[encoded data removed]",
      "text/plain": [
       "<Figure size 640x480 with 2 Axes>"
      ]
     },
     "metadata": {},
     "output_type": "display_data"
    }
   ],
   "source": [
    "#check images \n",
    "plt.imshow(x_train[1])\n",
    "plt.colorbar()"
   ]
  },
  {
   "cell_type": "code",
   "execution_count": 7,
   "id": "c386fcb4-3e76-4da2-9380-ab6a43e8b2a2",
   "metadata": {},
   "outputs": [
    {
     "data": {
      "text/plain": [
       "array([[  0,   0,   0,   0,   0,   1,   0,   0,   0,   0,  41, 188, 103,\n",
       "         54,  48,  43,  87, 168, 133,  16,   0,   0,   0,   0,   0,   0,\n",
       "          0,   0],\n",
       "       [  0,   0,   0,   1,   0,   0,   0,  49, 136, 219, 216, 228, 236,\n",
       "        255, 255, 255, 255, 217, 215, 254, 231, 160,  45,   0,   0,   0,\n",
       "          0,   0],\n",
       "       [  0,   0,   0,   0,   0,  14, 176, 222, 224, 212, 203, 198, 196,\n",
       "        200, 215, 204, 202, 201, 201, 201, 209, 218, 224, 164,   0,   0,\n",
       "          0,   0],\n",
       "       [  0,   0,   0,   0,   0, 188, 219, 200, 198, 202, 198, 199, 199,\n",
       "        201, 196, 198, 198, 200, 200, 200, 200, 201, 200, 225,  41,   0,\n",
       "          0,   0],\n",
       "       [  0,   0,   0,   0,  51, 219, 199, 203, 203, 212, 238, 248, 250,\n",
       "        245, 249, 246, 247, 252, 248, 235, 207, 203, 203, 222, 140,   0,\n",
       "          0,   0],\n",
       "       [  0,   0,   0,   0, 116, 226, 206, 204, 207, 204, 101,  75,  47,\n",
       "         73,  48,  50,  45,  51,  63, 113, 222, 202, 206, 220, 224,   0,\n",
       "          0,   0],\n",
       "       [  0,   0,   0,   0, 200, 222, 209, 203, 215, 200,   0,  70,  98,\n",
       "          0, 103,  59,  68,  71,  49,   0, 219, 206, 214, 210, 250,  38,\n",
       "          0,   0],\n",
       "       [  0,   0,   0,   0, 247, 218, 212, 210, 215, 214,   0, 254, 243,\n",
       "        139, 255, 174, 251, 255, 205,   0, 215, 217, 214, 208, 220,  95,\n",
       "          0,   0],\n",
       "       [  0,   0,   0,  45, 226, 214, 214, 215, 224, 205,   0,  42,  35,\n",
       "         60,  16,  17,  12,  13,  70,   0, 189, 216, 212, 206, 212, 156,\n",
       "          0,   0],\n",
       "       [  0,   0,   0, 164, 235, 214, 211, 220, 216, 201,  52,  71,  89,\n",
       "         94,  83,  78,  70,  76,  92,  87, 206, 207, 222, 213, 219, 208,\n",
       "          0,   0],\n",
       "       [  0,   0,   0, 106, 187, 223, 237, 248, 211, 198, 252, 250, 248,\n",
       "        245, 248, 252, 253, 250, 252, 239, 201, 212, 225, 215, 193, 113,\n",
       "          0,   0],\n",
       "       [  0,   0,   0,   0,   0,  17,  54, 159, 222, 193, 208, 192, 197,\n",
       "        200, 200, 200, 200, 201, 203, 195, 210, 165,   0,   0,   0,   0,\n",
       "          0,   0],\n",
       "       [  0,   0,   0,   0,   0,   0,   0,  47, 225, 192, 214, 203, 206,\n",
       "        204, 204, 205, 206, 204, 212, 197, 218, 107,   0,   0,   0,   0,\n",
       "          0,   0],\n",
       "       [  0,   0,   0,   0,   1,   6,   0,  46, 212, 195, 212, 202, 206,\n",
       "        205, 204, 205, 206, 204, 212, 200, 218,  91,   0,   3,   1,   0,\n",
       "          0,   0],\n",
       "       [  0,   0,   0,   0,   0,   1,   0,  11, 197, 199, 205, 202, 205,\n",
       "        206, 204, 205, 207, 204, 205, 205, 218,  77,   0,   5,   0,   0,\n",
       "          0,   0],\n",
       "       [  0,   0,   0,   0,   0,   3,   0,   2, 191, 198, 201, 205, 206,\n",
       "        205, 205, 206, 209, 206, 199, 209, 219,  74,   0,   5,   0,   0,\n",
       "          0,   0],\n",
       "       [  0,   0,   0,   0,   0,   2,   0,   0, 188, 197, 200, 207, 207,\n",
       "        204, 207, 207, 210, 208, 198, 207, 221,  72,   0,   4,   0,   0,\n",
       "          0,   0],\n",
       "       [  0,   0,   0,   0,   0,   2,   0,   0, 215, 198, 203, 206, 208,\n",
       "        205, 207, 207, 210, 208, 200, 202, 222,  75,   0,   4,   0,   0,\n",
       "          0,   0],\n",
       "       [  0,   0,   0,   0,   0,   1,   0,   0, 212, 198, 209, 206, 209,\n",
       "        206, 208, 207, 211, 206, 205, 198, 221,  80,   0,   3,   0,   0,\n",
       "          0,   0],\n",
       "       [  0,   0,   0,   0,   0,   1,   0,   0, 204, 201, 205, 208, 207,\n",
       "        205, 211, 205, 210, 210, 209, 195, 221,  96,   0,   3,   0,   0,\n",
       "          0,   0],\n",
       "       [  0,   0,   0,   0,   0,   1,   0,   0, 202, 201, 205, 209, 207,\n",
       "        205, 213, 206, 210, 209, 210, 194, 217, 105,   0,   2,   0,   0,\n",
       "          0,   0],\n",
       "       [  0,   0,   0,   0,   0,   1,   0,   0, 204, 204, 205, 208, 207,\n",
       "        205, 215, 207, 210, 208, 211, 193, 213, 115,   0,   2,   0,   0,\n",
       "          0,   0],\n",
       "       [  0,   0,   0,   0,   0,   0,   0,   0, 204, 207, 207, 208, 206,\n",
       "        206, 215, 210, 210, 207, 212, 195, 210, 118,   0,   2,   0,   0,\n",
       "          0,   0],\n",
       "       [  0,   0,   0,   0,   0,   1,   0,   0, 198, 208, 208, 208, 204,\n",
       "        207, 212, 212, 210, 207, 211, 196, 207, 121,   0,   1,   0,   0,\n",
       "          0,   0],\n",
       "       [  0,   0,   0,   0,   0,   1,   0,   0, 198, 210, 207, 208, 206,\n",
       "        209, 213, 212, 211, 207, 210, 197, 207, 124,   0,   1,   0,   0,\n",
       "          0,   0],\n",
       "       [  0,   0,   0,   0,   0,   0,   0,   0, 172, 210, 203, 201, 199,\n",
       "        204, 207, 205, 204, 201, 205, 197, 206, 127,   0,   0,   0,   0,\n",
       "          0,   0],\n",
       "       [  0,   0,   0,   0,   0,   0,   0,   0, 188, 221, 214, 234, 236,\n",
       "        238, 244, 244, 244, 240, 243, 214, 224, 162,   0,   2,   0,   0,\n",
       "          0,   0],\n",
       "       [  0,   0,   0,   0,   0,   1,   0,   0, 139, 146, 130, 135, 135,\n",
       "        137, 125, 124, 125, 121, 119, 114, 130,  76,   0,   0,   0,   0,\n",
       "          0,   0]], dtype=uint8)"
      ]
     },
     "execution_count": 7,
     "metadata": {},
     "output_type": "execute_result"
    }
   ],
   "source": [
    "#check a single photo \n",
    "x_train[1]"
   ]
  },
  {
   "cell_type": "code",
   "execution_count": 8,
   "id": "217ff190-a327-4027-b484-2047884575de",
   "metadata": {},
   "outputs": [
    {
     "data": {
      "text/plain": [
       "(0, 255, 72.94035223214286)"
      ]
     },
     "execution_count": 8,
     "metadata": {},
     "output_type": "execute_result"
    }
   ],
   "source": [
    "#values the range in between 0-255 in a single photo \n",
    "np.min(x_train), np.max(x_train), np.average(x_train)"
   ]
  },
  {
   "cell_type": "code",
   "execution_count": 9,
   "id": "d0c19318-34da-4c16-9bb4-53c8f8129560",
   "metadata": {},
   "outputs": [
    {
     "data": {
      "text/plain": [
       "(0, 9)"
      ]
     },
     "execution_count": 9,
     "metadata": {},
     "output_type": "execute_result"
    }
   ],
   "source": [
    "#check the numbr of clases \n",
    "np.min(y_train), np.max(y_train)"
   ]
  },
  {
   "cell_type": "markdown",
   "id": "8e3d1793-7e37-40b3-9aa3-69b0adf4d423",
   "metadata": {},
   "source": [
    "Consits with 10 clasess "
   ]
  },
  {
   "cell_type": "code",
   "execution_count": 10,
   "id": "cd5cd42f-e9c1-413d-ab48-5241bee79482",
   "metadata": {},
   "outputs": [],
   "source": [
    "#create class labels \n",
    "class_names = [\n",
    "    '0 T-shirt/top', '1 Trouser', '2 Pullover', '3 Dress', '4 Coat',\n",
    "    '5 Sandal', '6 Shirt', '7 Sneaker', '8 Bag', '9 Ankle boot'\n",
    "]"
   ]
  },
  {
   "cell_type": "code",
   "execution_count": 11,
   "id": "a44d1388-a868-4bdd-ac99-b665beae2091",
   "metadata": {},
   "outputs": [
    {
     "name": "stdout",
     "output_type": "stream",
     "text": [
      "9 Ankle boot\n"
     ]
    },
    {
     "data": {
      "image/png": "[encoded data removed]",
      "text/plain": [
       "<Figure size 640x480 with 1 Axes>"
      ]
     },
     "metadata": {},
     "output_type": "display_data"
    }
   ],
   "source": [
    "#create function to get the name \n",
    "def get_name(x):\n",
    "    name=\"none\"\n",
    "    for i in range(x+1):\n",
    "        name=class_names[i]\n",
    "    return name \n",
    "        \n",
    "    \n",
    "\n",
    "#check the labels and their corrosponding names \n",
    "z=0\n",
    "plt.imshow(x_train[z])\n",
    "name=get_name(y_train[z])\n",
    "print(name)"
   ]
  },
  {
   "cell_type": "markdown",
   "id": "70d87211-d8df-41d8-9d85-3f537e249e8c",
   "metadata": {},
   "source": [
    "## Normalization \n"
   ]
  },
  {
   "cell_type": "code",
   "execution_count": 12,
   "id": "7916a381-2179-496f-9bee-6ecc7b96549b",
   "metadata": {},
   "outputs": [],
   "source": [
    "x_train = x_train/255\n",
    "x_test = x_test/255"
   ]
  },
  {
   "cell_type": "code",
   "execution_count": 13,
   "id": "e6f99c20-aaee-43ac-9110-36157278e5f7",
   "metadata": {},
   "outputs": [
    {
     "data": {
      "text/plain": [
       "array([[0.        , 0.        , 0.        , 0.        , 0.        ,\n",
       "        0.00392157, 0.        , 0.        , 0.        , 0.        ,\n",
       "        0.16078431, 0.7372549 , 0.40392157, 0.21176471, 0.18823529,\n",
       "        0.16862745, 0.34117647, 0.65882353, 0.52156863, 0.0627451 ,\n",
       "        0.        , 0.        , 0.        , 0.        , 0.        ,\n",
       "        0.        , 0.        , 0.        ],\n",
       "       [0.        , 0.        , 0.        , 0.00392157, 0.        ,\n",
       "        0.        , 0.        , 0.19215686, 0.53333333, 0.85882353,\n",
       "        0.84705882, 0.89411765, 0.9254902 , 1.        , 1.        ,\n",
       "        1.        , 1.        , 0.85098039, 0.84313725, 0.99607843,\n",
       "        0.90588235, 0.62745098, 0.17647059, 0.        , 0.        ,\n",
       "        0.        , 0.        , 0.        ],\n",
       "       [0.        , 0.        , 0.        , 0.        , 0.        ,\n",
       "        0.05490196, 0.69019608, 0.87058824, 0.87843137, 0.83137255,\n",
       "        0.79607843, 0.77647059, 0.76862745, 0.78431373, 0.84313725,\n",
       "        0.8       , 0.79215686, 0.78823529, 0.78823529, 0.78823529,\n",
       "        0.81960784, 0.85490196, 0.87843137, 0.64313725, 0.        ,\n",
       "        0.        , 0.        , 0.        ],\n",
       "       [0.        , 0.        , 0.        , 0.        , 0.        ,\n",
       "        0.7372549 , 0.85882353, 0.78431373, 0.77647059, 0.79215686,\n",
       "        0.77647059, 0.78039216, 0.78039216, 0.78823529, 0.76862745,\n",
       "        0.77647059, 0.77647059, 0.78431373, 0.78431373, 0.78431373,\n",
       "        0.78431373, 0.78823529, 0.78431373, 0.88235294, 0.16078431,\n",
       "        0.        , 0.        , 0.        ],\n",
       "       [0.        , 0.        , 0.        , 0.        , 0.2       ,\n",
       "        0.85882353, 0.78039216, 0.79607843, 0.79607843, 0.83137255,\n",
       "        0.93333333, 0.97254902, 0.98039216, 0.96078431, 0.97647059,\n",
       "        0.96470588, 0.96862745, 0.98823529, 0.97254902, 0.92156863,\n",
       "        0.81176471, 0.79607843, 0.79607843, 0.87058824, 0.54901961,\n",
       "        0.        , 0.        , 0.        ],\n",
       "       [0.        , 0.        , 0.        , 0.        , 0.45490196,\n",
       "        0.88627451, 0.80784314, 0.8       , 0.81176471, 0.8       ,\n",
       "        0.39607843, 0.29411765, 0.18431373, 0.28627451, 0.18823529,\n",
       "        0.19607843, 0.17647059, 0.2       , 0.24705882, 0.44313725,\n",
       "        0.87058824, 0.79215686, 0.80784314, 0.8627451 , 0.87843137,\n",
       "        0.        , 0.        , 0.        ],\n",
       "       [0.        , 0.        , 0.        , 0.        , 0.78431373,\n",
       "        0.87058824, 0.81960784, 0.79607843, 0.84313725, 0.78431373,\n",
       "        0.        , 0.2745098 , 0.38431373, 0.        , 0.40392157,\n",
       "        0.23137255, 0.26666667, 0.27843137, 0.19215686, 0.        ,\n",
       "        0.85882353, 0.80784314, 0.83921569, 0.82352941, 0.98039216,\n",
       "        0.14901961, 0.        , 0.        ],\n",
       "       [0.        , 0.        , 0.        , 0.        , 0.96862745,\n",
       "        0.85490196, 0.83137255, 0.82352941, 0.84313725, 0.83921569,\n",
       "        0.        , 0.99607843, 0.95294118, 0.54509804, 1.        ,\n",
       "        0.68235294, 0.98431373, 1.        , 0.80392157, 0.        ,\n",
       "        0.84313725, 0.85098039, 0.83921569, 0.81568627, 0.8627451 ,\n",
       "        0.37254902, 0.        , 0.        ],\n",
       "       [0.        , 0.        , 0.        , 0.17647059, 0.88627451,\n",
       "        0.83921569, 0.83921569, 0.84313725, 0.87843137, 0.80392157,\n",
       "        0.        , 0.16470588, 0.1372549 , 0.23529412, 0.0627451 ,\n",
       "        0.06666667, 0.04705882, 0.05098039, 0.2745098 , 0.        ,\n",
       "        0.74117647, 0.84705882, 0.83137255, 0.80784314, 0.83137255,\n",
       "        0.61176471, 0.        , 0.        ],\n",
       "       [0.        , 0.        , 0.        , 0.64313725, 0.92156863,\n",
       "        0.83921569, 0.82745098, 0.8627451 , 0.84705882, 0.78823529,\n",
       "        0.20392157, 0.27843137, 0.34901961, 0.36862745, 0.3254902 ,\n",
       "        0.30588235, 0.2745098 , 0.29803922, 0.36078431, 0.34117647,\n",
       "        0.80784314, 0.81176471, 0.87058824, 0.83529412, 0.85882353,\n",
       "        0.81568627, 0.        , 0.        ],\n",
       "       [0.        , 0.        , 0.        , 0.41568627, 0.73333333,\n",
       "        0.8745098 , 0.92941176, 0.97254902, 0.82745098, 0.77647059,\n",
       "        0.98823529, 0.98039216, 0.97254902, 0.96078431, 0.97254902,\n",
       "        0.98823529, 0.99215686, 0.98039216, 0.98823529, 0.9372549 ,\n",
       "        0.78823529, 0.83137255, 0.88235294, 0.84313725, 0.75686275,\n",
       "        0.44313725, 0.        , 0.        ],\n",
       "       [0.        , 0.        , 0.        , 0.        , 0.        ,\n",
       "        0.06666667, 0.21176471, 0.62352941, 0.87058824, 0.75686275,\n",
       "        0.81568627, 0.75294118, 0.77254902, 0.78431373, 0.78431373,\n",
       "        0.78431373, 0.78431373, 0.78823529, 0.79607843, 0.76470588,\n",
       "        0.82352941, 0.64705882, 0.        , 0.        , 0.        ,\n",
       "        0.        , 0.        , 0.        ],\n",
       "       [0.        , 0.        , 0.        , 0.        , 0.        ,\n",
       "        0.        , 0.        , 0.18431373, 0.88235294, 0.75294118,\n",
       "        0.83921569, 0.79607843, 0.80784314, 0.8       , 0.8       ,\n",
       "        0.80392157, 0.80784314, 0.8       , 0.83137255, 0.77254902,\n",
       "        0.85490196, 0.41960784, 0.        , 0.        , 0.        ,\n",
       "        0.        , 0.        , 0.        ],\n",
       "       [0.        , 0.        , 0.        , 0.        , 0.00392157,\n",
       "        0.02352941, 0.        , 0.18039216, 0.83137255, 0.76470588,\n",
       "        0.83137255, 0.79215686, 0.80784314, 0.80392157, 0.8       ,\n",
       "        0.80392157, 0.80784314, 0.8       , 0.83137255, 0.78431373,\n",
       "        0.85490196, 0.35686275, 0.        , 0.01176471, 0.00392157,\n",
       "        0.        , 0.        , 0.        ],\n",
       "       [0.        , 0.        , 0.        , 0.        , 0.        ,\n",
       "        0.00392157, 0.        , 0.04313725, 0.77254902, 0.78039216,\n",
       "        0.80392157, 0.79215686, 0.80392157, 0.80784314, 0.8       ,\n",
       "        0.80392157, 0.81176471, 0.8       , 0.80392157, 0.80392157,\n",
       "        0.85490196, 0.30196078, 0.        , 0.01960784, 0.        ,\n",
       "        0.        , 0.        , 0.        ],\n",
       "       [0.        , 0.        , 0.        , 0.        , 0.        ,\n",
       "        0.01176471, 0.        , 0.00784314, 0.74901961, 0.77647059,\n",
       "        0.78823529, 0.80392157, 0.80784314, 0.80392157, 0.80392157,\n",
       "        0.80784314, 0.81960784, 0.80784314, 0.78039216, 0.81960784,\n",
       "        0.85882353, 0.29019608, 0.        , 0.01960784, 0.        ,\n",
       "        0.        , 0.        , 0.        ],\n",
       "       [0.        , 0.        , 0.        , 0.        , 0.        ,\n",
       "        0.00784314, 0.        , 0.        , 0.7372549 , 0.77254902,\n",
       "        0.78431373, 0.81176471, 0.81176471, 0.8       , 0.81176471,\n",
       "        0.81176471, 0.82352941, 0.81568627, 0.77647059, 0.81176471,\n",
       "        0.86666667, 0.28235294, 0.        , 0.01568627, 0.        ,\n",
       "        0.        , 0.        , 0.        ],\n",
       "       [0.        , 0.        , 0.        , 0.        , 0.        ,\n",
       "        0.00784314, 0.        , 0.        , 0.84313725, 0.77647059,\n",
       "        0.79607843, 0.80784314, 0.81568627, 0.80392157, 0.81176471,\n",
       "        0.81176471, 0.82352941, 0.81568627, 0.78431373, 0.79215686,\n",
       "        0.87058824, 0.29411765, 0.        , 0.01568627, 0.        ,\n",
       "        0.        , 0.        , 0.        ],\n",
       "       [0.        , 0.        , 0.        , 0.        , 0.        ,\n",
       "        0.00392157, 0.        , 0.        , 0.83137255, 0.77647059,\n",
       "        0.81960784, 0.80784314, 0.81960784, 0.80784314, 0.81568627,\n",
       "        0.81176471, 0.82745098, 0.80784314, 0.80392157, 0.77647059,\n",
       "        0.86666667, 0.31372549, 0.        , 0.01176471, 0.        ,\n",
       "        0.        , 0.        , 0.        ],\n",
       "       [0.        , 0.        , 0.        , 0.        , 0.        ,\n",
       "        0.00392157, 0.        , 0.        , 0.8       , 0.78823529,\n",
       "        0.80392157, 0.81568627, 0.81176471, 0.80392157, 0.82745098,\n",
       "        0.80392157, 0.82352941, 0.82352941, 0.81960784, 0.76470588,\n",
       "        0.86666667, 0.37647059, 0.        , 0.01176471, 0.        ,\n",
       "        0.        , 0.        , 0.        ],\n",
       "       [0.        , 0.        , 0.        , 0.        , 0.        ,\n",
       "        0.00392157, 0.        , 0.        , 0.79215686, 0.78823529,\n",
       "        0.80392157, 0.81960784, 0.81176471, 0.80392157, 0.83529412,\n",
       "        0.80784314, 0.82352941, 0.81960784, 0.82352941, 0.76078431,\n",
       "        0.85098039, 0.41176471, 0.        , 0.00784314, 0.        ,\n",
       "        0.        , 0.        , 0.        ],\n",
       "       [0.        , 0.        , 0.        , 0.        , 0.        ,\n",
       "        0.00392157, 0.        , 0.        , 0.8       , 0.8       ,\n",
       "        0.80392157, 0.81568627, 0.81176471, 0.80392157, 0.84313725,\n",
       "        0.81176471, 0.82352941, 0.81568627, 0.82745098, 0.75686275,\n",
       "        0.83529412, 0.45098039, 0.        , 0.00784314, 0.        ,\n",
       "        0.        , 0.        , 0.        ],\n",
       "       [0.        , 0.        , 0.        , 0.        , 0.        ,\n",
       "        0.        , 0.        , 0.        , 0.8       , 0.81176471,\n",
       "        0.81176471, 0.81568627, 0.80784314, 0.80784314, 0.84313725,\n",
       "        0.82352941, 0.82352941, 0.81176471, 0.83137255, 0.76470588,\n",
       "        0.82352941, 0.4627451 , 0.        , 0.00784314, 0.        ,\n",
       "        0.        , 0.        , 0.        ],\n",
       "       [0.        , 0.        , 0.        , 0.        , 0.        ,\n",
       "        0.00392157, 0.        , 0.        , 0.77647059, 0.81568627,\n",
       "        0.81568627, 0.81568627, 0.8       , 0.81176471, 0.83137255,\n",
       "        0.83137255, 0.82352941, 0.81176471, 0.82745098, 0.76862745,\n",
       "        0.81176471, 0.4745098 , 0.        , 0.00392157, 0.        ,\n",
       "        0.        , 0.        , 0.        ],\n",
       "       [0.        , 0.        , 0.        , 0.        , 0.        ,\n",
       "        0.00392157, 0.        , 0.        , 0.77647059, 0.82352941,\n",
       "        0.81176471, 0.81568627, 0.80784314, 0.81960784, 0.83529412,\n",
       "        0.83137255, 0.82745098, 0.81176471, 0.82352941, 0.77254902,\n",
       "        0.81176471, 0.48627451, 0.        , 0.00392157, 0.        ,\n",
       "        0.        , 0.        , 0.        ],\n",
       "       [0.        , 0.        , 0.        , 0.        , 0.        ,\n",
       "        0.        , 0.        , 0.        , 0.6745098 , 0.82352941,\n",
       "        0.79607843, 0.78823529, 0.78039216, 0.8       , 0.81176471,\n",
       "        0.80392157, 0.8       , 0.78823529, 0.80392157, 0.77254902,\n",
       "        0.80784314, 0.49803922, 0.        , 0.        , 0.        ,\n",
       "        0.        , 0.        , 0.        ],\n",
       "       [0.        , 0.        , 0.        , 0.        , 0.        ,\n",
       "        0.        , 0.        , 0.        , 0.7372549 , 0.86666667,\n",
       "        0.83921569, 0.91764706, 0.9254902 , 0.93333333, 0.95686275,\n",
       "        0.95686275, 0.95686275, 0.94117647, 0.95294118, 0.83921569,\n",
       "        0.87843137, 0.63529412, 0.        , 0.00784314, 0.        ,\n",
       "        0.        , 0.        , 0.        ],\n",
       "       [0.        , 0.        , 0.        , 0.        , 0.        ,\n",
       "        0.00392157, 0.        , 0.        , 0.54509804, 0.57254902,\n",
       "        0.50980392, 0.52941176, 0.52941176, 0.5372549 , 0.49019608,\n",
       "        0.48627451, 0.49019608, 0.4745098 , 0.46666667, 0.44705882,\n",
       "        0.50980392, 0.29803922, 0.        , 0.        , 0.        ,\n",
       "        0.        , 0.        , 0.        ]])"
      ]
     },
     "execution_count": 13,
     "metadata": {},
     "output_type": "execute_result"
    }
   ],
   "source": [
    "#check the normalized values of a particualr image \n",
    "x_train[1]"
   ]
  },
  {
   "cell_type": "markdown",
   "id": "0d561f37-56d5-49da-9cc5-5eb41a7d5abf",
   "metadata": {},
   "source": [
    "#### Since we use ANN we need to faltten the data (convert 2 dimention arrays in to 1D vector)\n",
    "\n",
    "Vector:\n",
    " \n",
    "A vector is a one-dimensional array that stores a sequence of elements.\n",
    "It is a collection of numbers (or other data types) arranged in a single row or column.\n",
    "In programming, a vector is often represented as a list or an array with a single index, containing elements arranged in a linear sequence.\n",
    "For example, [1, 2, 3, 4, 5] or (1, 2, 3, 4, 5) could represent a vector of five elements.\n",
    "\n",
    "2D Array (Matrix):\n",
    "\n",
    "A 2D array, also known as a matrix, organizes elements in rows and columns.\n",
    "It consists of multiple rows and columns, forming a grid-like structure.\n",
    "In programming, a 2D array is typically represented as a nested array or list where each row contains elements.\n",
    "For example, [[1, 2, 3], [4, 5, 6], [7, 8, 9]] represents a 3x3 matrix with three rows and three columns.\n",
    "\n",
    "\n",
    "Differences:\n",
    "\n",
    "Dimensionality: Vectors are one-dimensional structures, while 2D arrays (matrices) are two-dimensional.\n",
    "Representation: Vectors are typically represented as a single row or column of elements, while matrices are represented as a grid with rows and columns."
   ]
  },
  {
   "cell_type": "code",
   "execution_count": 14,
   "id": "3dcac5d6-be78-4bf2-b73c-e5d653ba9657",
   "metadata": {},
   "outputs": [],
   "source": [
    "x_train = x_train.reshape(-1, 28*28)\n",
    "x_test = x_test.reshape(-1, 28*28)"
   ]
  },
  {
   "cell_type": "markdown",
   "id": "c399e5b2-9741-4273-be3c-204b81054a7f",
   "metadata": {},
   "source": [
    "In NumPy, the -1 argument in the reshape() function is a placeholder that instructs NumPy to automatically infer or calculate the size of that particular dimension based on the total number of elements in the array and the known size of the other dimensions."
   ]
  },
  {
   "cell_type": "code",
   "execution_count": 15,
   "id": "d2803f05-94fa-417b-8984-d257208bf886",
   "metadata": {},
   "outputs": [
    {
     "data": {
      "text/plain": [
       "array([[0., 0., 0., ..., 0., 0., 0.],\n",
       "       [0., 0., 0., ..., 0., 0., 0.],\n",
       "       [0., 0., 0., ..., 0., 0., 0.],\n",
       "       ...,\n",
       "       [0., 0., 0., ..., 0., 0., 0.],\n",
       "       [0., 0., 0., ..., 0., 0., 0.],\n",
       "       [0., 0., 0., ..., 0., 0., 0.]])"
      ]
     },
     "execution_count": 15,
     "metadata": {},
     "output_type": "execute_result"
    }
   ],
   "source": [
    "x_train"
   ]
  },
  {
   "cell_type": "code",
   "execution_count": 16,
   "id": "e7d8f081-da6b-45c3-b063-cefc5ffb962b",
   "metadata": {},
   "outputs": [
    {
     "data": {
      "text/plain": [
       "array([0.        , 0.        , 0.        , 0.        , 0.        ,\n",
       "       0.00392157, 0.        , 0.        , 0.        , 0.        ,\n",
       "       0.16078431, 0.7372549 , 0.40392157, 0.21176471, 0.18823529,\n",
       "       0.16862745, 0.34117647, 0.65882353, 0.52156863, 0.0627451 ,\n",
       "       0.        , 0.        , 0.        , 0.        , 0.        ,\n",
       "       0.        , 0.        , 0.        , 0.        , 0.        ,\n",
       "       0.        , 0.00392157, 0.        , 0.        , 0.        ,\n",
       "       0.19215686, 0.53333333, 0.85882353, 0.84705882, 0.89411765,\n",
       "       0.9254902 , 1.        , 1.        , 1.        , 1.        ,\n",
       "       0.85098039, 0.84313725, 0.99607843, 0.90588235, 0.62745098,\n",
       "       0.17647059, 0.        , 0.        , 0.        , 0.        ,\n",
       "       0.        , 0.        , 0.        , 0.        , 0.        ,\n",
       "       0.        , 0.05490196, 0.69019608, 0.87058824, 0.87843137,\n",
       "       0.83137255, 0.79607843, 0.77647059, 0.76862745, 0.78431373,\n",
       "       0.84313725, 0.8       , 0.79215686, 0.78823529, 0.78823529,\n",
       "       0.78823529, 0.81960784, 0.85490196, 0.87843137, 0.64313725,\n",
       "       0.        , 0.        , 0.        , 0.        , 0.        ,\n",
       "       0.        , 0.        , 0.        , 0.        , 0.7372549 ,\n",
       "       0.85882353, 0.78431373, 0.77647059, 0.79215686, 0.77647059,\n",
       "       0.78039216, 0.78039216, 0.78823529, 0.76862745, 0.77647059,\n",
       "       0.77647059, 0.78431373, 0.78431373, 0.78431373, 0.78431373,\n",
       "       0.78823529, 0.78431373, 0.88235294, 0.16078431, 0.        ,\n",
       "       0.        , 0.        , 0.        , 0.        , 0.        ,\n",
       "       0.        , 0.2       , 0.85882353, 0.78039216, 0.79607843,\n",
       "       0.79607843, 0.83137255, 0.93333333, 0.97254902, 0.98039216,\n",
       "       0.96078431, 0.97647059, 0.96470588, 0.96862745, 0.98823529,\n",
       "       0.97254902, 0.92156863, 0.81176471, 0.79607843, 0.79607843,\n",
       "       0.87058824, 0.54901961, 0.        , 0.        , 0.        ,\n",
       "       0.        , 0.        , 0.        , 0.        , 0.45490196,\n",
       "       0.88627451, 0.80784314, 0.8       , 0.81176471, 0.8       ,\n",
       "       0.39607843, 0.29411765, 0.18431373, 0.28627451, 0.18823529,\n",
       "       0.19607843, 0.17647059, 0.2       , 0.24705882, 0.44313725,\n",
       "       0.87058824, 0.79215686, 0.80784314, 0.8627451 , 0.87843137,\n",
       "       0.        , 0.        , 0.        , 0.        , 0.        ,\n",
       "       0.        , 0.        , 0.78431373, 0.87058824, 0.81960784,\n",
       "       0.79607843, 0.84313725, 0.78431373, 0.        , 0.2745098 ,\n",
       "       0.38431373, 0.        , 0.40392157, 0.23137255, 0.26666667,\n",
       "       0.27843137, 0.19215686, 0.        , 0.85882353, 0.80784314,\n",
       "       0.83921569, 0.82352941, 0.98039216, 0.14901961, 0.        ,\n",
       "       0.        , 0.        , 0.        , 0.        , 0.        ,\n",
       "       0.96862745, 0.85490196, 0.83137255, 0.82352941, 0.84313725,\n",
       "       0.83921569, 0.        , 0.99607843, 0.95294118, 0.54509804,\n",
       "       1.        , 0.68235294, 0.98431373, 1.        , 0.80392157,\n",
       "       0.        , 0.84313725, 0.85098039, 0.83921569, 0.81568627,\n",
       "       0.8627451 , 0.37254902, 0.        , 0.        , 0.        ,\n",
       "       0.        , 0.        , 0.17647059, 0.88627451, 0.83921569,\n",
       "       0.83921569, 0.84313725, 0.87843137, 0.80392157, 0.        ,\n",
       "       0.16470588, 0.1372549 , 0.23529412, 0.0627451 , 0.06666667,\n",
       "       0.04705882, 0.05098039, 0.2745098 , 0.        , 0.74117647,\n",
       "       0.84705882, 0.83137255, 0.80784314, 0.83137255, 0.61176471,\n",
       "       0.        , 0.        , 0.        , 0.        , 0.        ,\n",
       "       0.64313725, 0.92156863, 0.83921569, 0.82745098, 0.8627451 ,\n",
       "       0.84705882, 0.78823529, 0.20392157, 0.27843137, 0.34901961,\n",
       "       0.36862745, 0.3254902 , 0.30588235, 0.2745098 , 0.29803922,\n",
       "       0.36078431, 0.34117647, 0.80784314, 0.81176471, 0.87058824,\n",
       "       0.83529412, 0.85882353, 0.81568627, 0.        , 0.        ,\n",
       "       0.        , 0.        , 0.        , 0.41568627, 0.73333333,\n",
       "       0.8745098 , 0.92941176, 0.97254902, 0.82745098, 0.77647059,\n",
       "       0.98823529, 0.98039216, 0.97254902, 0.96078431, 0.97254902,\n",
       "       0.98823529, 0.99215686, 0.98039216, 0.98823529, 0.9372549 ,\n",
       "       0.78823529, 0.83137255, 0.88235294, 0.84313725, 0.75686275,\n",
       "       0.44313725, 0.        , 0.        , 0.        , 0.        ,\n",
       "       0.        , 0.        , 0.        , 0.06666667, 0.21176471,\n",
       "       0.62352941, 0.87058824, 0.75686275, 0.81568627, 0.75294118,\n",
       "       0.77254902, 0.78431373, 0.78431373, 0.78431373, 0.78431373,\n",
       "       0.78823529, 0.79607843, 0.76470588, 0.82352941, 0.64705882,\n",
       "       0.        , 0.        , 0.        , 0.        , 0.        ,\n",
       "       0.        , 0.        , 0.        , 0.        , 0.        ,\n",
       "       0.        , 0.        , 0.        , 0.18431373, 0.88235294,\n",
       "       0.75294118, 0.83921569, 0.79607843, 0.80784314, 0.8       ,\n",
       "       0.8       , 0.80392157, 0.80784314, 0.8       , 0.83137255,\n",
       "       0.77254902, 0.85490196, 0.41960784, 0.        , 0.        ,\n",
       "       0.        , 0.        , 0.        , 0.        , 0.        ,\n",
       "       0.        , 0.        , 0.        , 0.00392157, 0.02352941,\n",
       "       0.        , 0.18039216, 0.83137255, 0.76470588, 0.83137255,\n",
       "       0.79215686, 0.80784314, 0.80392157, 0.8       , 0.80392157,\n",
       "       0.80784314, 0.8       , 0.83137255, 0.78431373, 0.85490196,\n",
       "       0.35686275, 0.        , 0.01176471, 0.00392157, 0.        ,\n",
       "       0.        , 0.        , 0.        , 0.        , 0.        ,\n",
       "       0.        , 0.        , 0.00392157, 0.        , 0.04313725,\n",
       "       0.77254902, 0.78039216, 0.80392157, 0.79215686, 0.80392157,\n",
       "       0.80784314, 0.8       , 0.80392157, 0.81176471, 0.8       ,\n",
       "       0.80392157, 0.80392157, 0.85490196, 0.30196078, 0.        ,\n",
       "       0.01960784, 0.        , 0.        , 0.        , 0.        ,\n",
       "       0.        , 0.        , 0.        , 0.        , 0.        ,\n",
       "       0.01176471, 0.        , 0.00784314, 0.74901961, 0.77647059,\n",
       "       0.78823529, 0.80392157, 0.80784314, 0.80392157, 0.80392157,\n",
       "       0.80784314, 0.81960784, 0.80784314, 0.78039216, 0.81960784,\n",
       "       0.85882353, 0.29019608, 0.        , 0.01960784, 0.        ,\n",
       "       0.        , 0.        , 0.        , 0.        , 0.        ,\n",
       "       0.        , 0.        , 0.        , 0.00784314, 0.        ,\n",
       "       0.        , 0.7372549 , 0.77254902, 0.78431373, 0.81176471,\n",
       "       0.81176471, 0.8       , 0.81176471, 0.81176471, 0.82352941,\n",
       "       0.81568627, 0.77647059, 0.81176471, 0.86666667, 0.28235294,\n",
       "       0.        , 0.01568627, 0.        , 0.        , 0.        ,\n",
       "       0.        , 0.        , 0.        , 0.        , 0.        ,\n",
       "       0.        , 0.00784314, 0.        , 0.        , 0.84313725,\n",
       "       0.77647059, 0.79607843, 0.80784314, 0.81568627, 0.80392157,\n",
       "       0.81176471, 0.81176471, 0.82352941, 0.81568627, 0.78431373,\n",
       "       0.79215686, 0.87058824, 0.29411765, 0.        , 0.01568627,\n",
       "       0.        , 0.        , 0.        , 0.        , 0.        ,\n",
       "       0.        , 0.        , 0.        , 0.        , 0.00392157,\n",
       "       0.        , 0.        , 0.83137255, 0.77647059, 0.81960784,\n",
       "       0.80784314, 0.81960784, 0.80784314, 0.81568627, 0.81176471,\n",
       "       0.82745098, 0.80784314, 0.80392157, 0.77647059, 0.86666667,\n",
       "       0.31372549, 0.        , 0.01176471, 0.        , 0.        ,\n",
       "       0.        , 0.        , 0.        , 0.        , 0.        ,\n",
       "       0.        , 0.        , 0.00392157, 0.        , 0.        ,\n",
       "       0.8       , 0.78823529, 0.80392157, 0.81568627, 0.81176471,\n",
       "       0.80392157, 0.82745098, 0.80392157, 0.82352941, 0.82352941,\n",
       "       0.81960784, 0.76470588, 0.86666667, 0.37647059, 0.        ,\n",
       "       0.01176471, 0.        , 0.        , 0.        , 0.        ,\n",
       "       0.        , 0.        , 0.        , 0.        , 0.        ,\n",
       "       0.00392157, 0.        , 0.        , 0.79215686, 0.78823529,\n",
       "       0.80392157, 0.81960784, 0.81176471, 0.80392157, 0.83529412,\n",
       "       0.80784314, 0.82352941, 0.81960784, 0.82352941, 0.76078431,\n",
       "       0.85098039, 0.41176471, 0.        , 0.00784314, 0.        ,\n",
       "       0.        , 0.        , 0.        , 0.        , 0.        ,\n",
       "       0.        , 0.        , 0.        , 0.00392157, 0.        ,\n",
       "       0.        , 0.8       , 0.8       , 0.80392157, 0.81568627,\n",
       "       0.81176471, 0.80392157, 0.84313725, 0.81176471, 0.82352941,\n",
       "       0.81568627, 0.82745098, 0.75686275, 0.83529412, 0.45098039,\n",
       "       0.        , 0.00784314, 0.        , 0.        , 0.        ,\n",
       "       0.        , 0.        , 0.        , 0.        , 0.        ,\n",
       "       0.        , 0.        , 0.        , 0.        , 0.8       ,\n",
       "       0.81176471, 0.81176471, 0.81568627, 0.80784314, 0.80784314,\n",
       "       0.84313725, 0.82352941, 0.82352941, 0.81176471, 0.83137255,\n",
       "       0.76470588, 0.82352941, 0.4627451 , 0.        , 0.00784314,\n",
       "       0.        , 0.        , 0.        , 0.        , 0.        ,\n",
       "       0.        , 0.        , 0.        , 0.        , 0.00392157,\n",
       "       0.        , 0.        , 0.77647059, 0.81568627, 0.81568627,\n",
       "       0.81568627, 0.8       , 0.81176471, 0.83137255, 0.83137255,\n",
       "       0.82352941, 0.81176471, 0.82745098, 0.76862745, 0.81176471,\n",
       "       0.4745098 , 0.        , 0.00392157, 0.        , 0.        ,\n",
       "       0.        , 0.        , 0.        , 0.        , 0.        ,\n",
       "       0.        , 0.        , 0.00392157, 0.        , 0.        ,\n",
       "       0.77647059, 0.82352941, 0.81176471, 0.81568627, 0.80784314,\n",
       "       0.81960784, 0.83529412, 0.83137255, 0.82745098, 0.81176471,\n",
       "       0.82352941, 0.77254902, 0.81176471, 0.48627451, 0.        ,\n",
       "       0.00392157, 0.        , 0.        , 0.        , 0.        ,\n",
       "       0.        , 0.        , 0.        , 0.        , 0.        ,\n",
       "       0.        , 0.        , 0.        , 0.6745098 , 0.82352941,\n",
       "       0.79607843, 0.78823529, 0.78039216, 0.8       , 0.81176471,\n",
       "       0.80392157, 0.8       , 0.78823529, 0.80392157, 0.77254902,\n",
       "       0.80784314, 0.49803922, 0.        , 0.        , 0.        ,\n",
       "       0.        , 0.        , 0.        , 0.        , 0.        ,\n",
       "       0.        , 0.        , 0.        , 0.        , 0.        ,\n",
       "       0.        , 0.7372549 , 0.86666667, 0.83921569, 0.91764706,\n",
       "       0.9254902 , 0.93333333, 0.95686275, 0.95686275, 0.95686275,\n",
       "       0.94117647, 0.95294118, 0.83921569, 0.87843137, 0.63529412,\n",
       "       0.        , 0.00784314, 0.        , 0.        , 0.        ,\n",
       "       0.        , 0.        , 0.        , 0.        , 0.        ,\n",
       "       0.        , 0.00392157, 0.        , 0.        , 0.54509804,\n",
       "       0.57254902, 0.50980392, 0.52941176, 0.52941176, 0.5372549 ,\n",
       "       0.49019608, 0.48627451, 0.49019608, 0.4745098 , 0.46666667,\n",
       "       0.44705882, 0.50980392, 0.29803922, 0.        , 0.        ,\n",
       "       0.        , 0.        , 0.        , 0.        ])"
      ]
     },
     "execution_count": 16,
     "metadata": {},
     "output_type": "execute_result"
    }
   ],
   "source": [
    "x_train[1]"
   ]
  },
  {
   "cell_type": "markdown",
   "id": "a9555a6c-a306-43fb-b6a8-14ddb49bb5f5",
   "metadata": {},
   "source": [
    "## Building the Model\n",
    "\n",
    "we have taken below values to add the first fully connected hidden layer,\n",
    "\n",
    "#### units=128,  activation='relu',  input_shape=(784,)\n",
    "\n",
    "\n",
    "\n",
    "Let us understand why we have these values,\n",
    "\n",
    "#### 1) units (No of neurons) = 128\n",
    "\n",
    "The artificial neuron receives one or more inputs and sums them to produce an output, then this output is passed throught the activation function\n",
    "\n",
    "Now there are some rules to select the number of neurons but every dataset is different, every problem is different, So a set of rules may not work properly\n",
    "\n",
    "To select an appropriate number of units (neurons), we have to try different number of neurons and select number of neurons that works better for the model performance\n",
    "\n",
    "We have to use systematic experimentation to discover what works best for a specific dataset\n",
    "\n",
    "Here i have selected number on neurons=128 because it works better, and this is on the basis of various experiments\n",
    "\n",
    "\n",
    "\n",
    "\n",
    "\n",
    "#### 2) activation='relu'\n",
    "\n",
    "The activation function calculates the weighted sum of its input, adds a bias and then decides wheather a neuron should be activated or not\n",
    "\n",
    "In simple word we can say that, 'An activation function decides a signal should be passed forward or not'\n",
    "\n",
    "The activation function adds non linearity to the output of a neuron\n",
    "\n",
    "With the non linear transformation a neural network is capable of learning and performing more complex tasks.\n",
    "\n",
    "We are using 'relu' function in first layer because,\n",
    "\n",
    "It is Non-linear, easily backpropagates the errors and multiple layers of neuron being activated by ReLU function\n",
    "\n",
    "As well as, it is computationally less expensive than tanh and sigmoid functions, RELU learns much faster than sigmoid and Tanh function\n",
    "\n",
    "\n",
    "\n",
    "#### 3) input_shape=(784,)\n",
    "\n",
    "In previous we flattened the dataset, before flattening the dataset shape for x_train is (60000, 28, 28) and shape for x_text is (10000, 28, 28)\n",
    "\n",
    "60000 and 1000 are the number of images (batch size)\n",
    "\n",
    "\n",
    "\n",
    "After flattening the dataset shape for x_train is (60000, 784) and shape for x_text is (10000, 784)\n",
    "\n",
    "60000 and 1000 are the number of images (batch size)\n",
    "\n",
    "\n",
    "\n",
    "The first dimension is the batch size, it's None because it can vary depending on how many examples we give for training\n",
    "\n",
    "hence input shape is (784,)"
   ]
  },
  {
   "cell_type": "code",
   "execution_count": 17,
   "id": "4298087b-2f99-4210-8051-6f41d0a6ce3e",
   "metadata": {},
   "outputs": [],
   "source": [
    "#import sequential model from the keras \n",
    "from tensorflow.keras.models import Sequential\n",
    "model = Sequential()"
   ]
  },
  {
   "cell_type": "code",
   "execution_count": 18,
   "id": "e082f4ea-f0b7-47d0-9e77-421d6934c699",
   "metadata": {},
   "outputs": [],
   "source": [
    "#import layers \n",
    "from tensorflow.keras.layers import Dense"
   ]
  },
  {
   "cell_type": "code",
   "execution_count": 19,
   "id": "0ae89bca-28f0-4228-81a0-049c678499de",
   "metadata": {},
   "outputs": [],
   "source": [
    "model.add(Dense(128, activation='relu', input_shape=(784,)))"
   ]
  },
  {
   "cell_type": "markdown",
   "id": "f4a988ca-d5a3-467b-a754-af88998d9fb3",
   "metadata": {},
   "source": [
    "The comma after 784 in input_shape=(784,) serves as a notation in Python to create a tuple with a single element."
   ]
  },
  {
   "cell_type": "code",
   "execution_count": 20,
   "id": "d5ced738-44a3-4fed-87a5-26d116f87a64",
   "metadata": {},
   "outputs": [
    {
     "name": "stdout",
     "output_type": "stream",
     "text": [
      "<class 'tuple'>\n",
      "<class 'int'>\n"
     ]
    }
   ],
   "source": [
    "# Creating a tuple with a single element: (784,)\n",
    "input_shape_tuple = (784,)\n",
    "print(type(input_shape_tuple))  # Output: <class 'tuple'>\n",
    "\n",
    "# Without the trailing comma, it's considered an integer expression inside parentheses\n",
    "not_a_tuple = (784)\n",
    "print(type(not_a_tuple))  # Output: <class 'int'>\n"
   ]
  },
  {
   "cell_type": "markdown",
   "id": "c8958dd0-b51f-4605-affd-e9f214207b48",
   "metadata": {},
   "source": [
    "In the context of defining the input_shape parameter in Keras (or other libraries like TensorFlow), it expects a tuple to represent the shape of the input data. Therefore, when specifying input_shape=(784,), the trailing comma ensures that it creates a tuple with a single element"
   ]
  },
  {
   "cell_type": "code",
   "execution_count": 21,
   "id": "6cb180a1-d84d-4d99-b65c-d0eef8df9596",
   "metadata": {},
   "outputs": [],
   "source": [
    "#add dropout layer \n",
    "from tensorflow.keras.layers import Dropout\n",
    "\n",
    "model.add(Dropout(0.3))"
   ]
  },
  {
   "cell_type": "markdown",
   "id": "d599a792-d532-4956-876a-0eb9572b402a",
   "metadata": {},
   "source": [
    "Dropout is indeed a regularization technique used in neural networks to mitigate overfitting. Overfitting occurs when a model learns the training data too well, to the extent that it negatively impacts its ability to generalize to new, unseen data.\n",
    "\n",
    "Dropout helps prevent overfitting by randomly \"dropping out\" (deactivating) a certain percentage of neurons during training\n",
    "\n",
    "During forward propagation (when input passes through the network), the Dropout layer randomly sets a fraction of its neuron outputs to zero. This introduces noise and prevents the network from becoming overly reliant on specific neurons.\n",
    "During backward propagation (during training and parameter updates), only the active neurons (those not dropped out) are considered, and the gradients are back-propagated only through these active neurons."
   ]
  },
  {
   "cell_type": "code",
   "execution_count": 22,
   "id": "2755bbaf-79ae-441d-a329-79e8847ff0c5",
   "metadata": {},
   "outputs": [],
   "source": [
    "model.add(Dense(64, activation='relu'))\n",
    "model.add(Dropout(0.2))"
   ]
  },
  {
   "cell_type": "code",
   "execution_count": 23,
   "id": "8cd7963b-1f84-4fee-9929-3566fd80ea8e",
   "metadata": {},
   "outputs": [],
   "source": [
    "model.add(Dense(10, activation=\"softmax\"))"
   ]
  },
  {
   "cell_type": "markdown",
   "id": "d459ec94-bc0e-4765-a4da-639f52fa2183",
   "metadata": {},
   "source": [
    "The softmax activation function is specifically used in neural network models, particularly in the output layer, when dealing with multiclass classification problems. Its primary purpose is to convert raw scores (logits) into probabilities for multiple classes.\n",
    "\n",
    "Purpose of Softmax in Multiclass Classification:\n",
    "\n",
    "Softmax is used to generate a probability distribution across multiple classes.\n",
    "It ensures that the output values represent probabilities that sum up to 1, making it useful for selecting the most likely class prediction among multiple class\n"
   ]
  },
  {
   "cell_type": "code",
   "execution_count": 24,
   "id": "b2300dfb-ca50-4cb2-92a5-a8d8748260ab",
   "metadata": {},
   "outputs": [
    {
     "name": "stdout",
     "output_type": "stream",
     "text": [
      "Model: \"sequential\"\n",
      "_________________________________________________________________\n",
      " Layer (type)                Output Shape              Param #   \n",
      "=================================================================\n",
      " dense (Dense)               (None, 128)               100480    \n",
      "                                                                 \n",
      " dropout (Dropout)           (None, 128)               0         \n",
      "                                                                 \n",
      " dense_1 (Dense)             (None, 64)                8256      \n",
      "                                                                 \n",
      " dropout_1 (Dropout)         (None, 64)                0         \n",
      "                                                                 \n",
      " dense_2 (Dense)             (None, 10)                650       \n",
      "                                                                 \n",
      "=================================================================\n",
      "Total params: 109,386\n",
      "Trainable params: 109,386\n",
      "Non-trainable params: 0\n",
      "_________________________________________________________________\n"
     ]
    }
   ],
   "source": [
    "model.summary()"
   ]
  },
  {
   "cell_type": "code",
   "execution_count": 25,
   "id": "7f2c6719-2798-4f3d-a4a4-b6ff078e46e9",
   "metadata": {},
   "outputs": [],
   "source": [
    "#compile the model (config the model)\n",
    "\n",
    "model.compile(optimizer='adam', loss='sparse_categorical_crossentropy', metrics=['sparse_categorical_accuracy'])\n"
   ]
  },
  {
   "cell_type": "markdown",
   "id": "cb528fa2-a0e0-4015-9a9d-c864278131b1",
   "metadata": {},
   "source": [
    "optimizer='adam':\n",
    "\n",
    "The optimizer argument specifies the optimization algorithm used during training. In this case, 'adam' refers to the Adam optimizer, which is an adaptive learning rate optimization algorithm widely used in deep learning. It helps adjust the learning rate dynamically for each parameter during training.\n",
    "\n",
    "\n",
    "loss='sparse_categorical_crossentropy':\n",
    "\n",
    "The loss argument specifies the loss function used to measure how well the model performs during training.\n",
    "'sparse_categorical_crossentropy' is a specific type of loss function suitable for multiclass classification problems where the labels are integers (not one-hot encoded)\n",
    "\n",
    "\n",
    "metrics='sparse_categorical_accuracy':\n",
    "\n",
    "The metrics argument specifies the evaluation metric used to monitor the model's performance during training and testing."
   ]
  },
  {
   "cell_type": "markdown",
   "id": "5caa9a8f-6cda-44c5-98d7-fc368cb00a05",
   "metadata": {},
   "source": [
    "### Train the model"
   ]
  },
  {
   "cell_type": "code",
   "execution_count": 26,
   "id": "89421e69-0384-41cc-9cc1-70074488f8e6",
   "metadata": {
    "scrolled": true
   },
   "outputs": [
    {
     "name": "stdout",
     "output_type": "stream",
     "text": [
      "Epoch 1/100\n"
     ]
    },
    {
     "name": "stderr",
     "output_type": "stream",
     "text": [
      "2023-12-09 12:36:41.878133: W tensorflow/tsl/platform/profile_utils/cpu_utils.cc:128] Failed to get CPU frequency: 0 Hz\n"
     ]
    },
    {
     "name": "stdout",
     "output_type": "stream",
     "text": [
      "600/600 [==============================] - 4s 5ms/step - loss: 0.6686 - sparse_categorical_accuracy: 0.7617 - val_loss: 0.4621 - val_sparse_categorical_accuracy: 0.8317\n",
      "Epoch 2/100\n",
      "600/600 [==============================] - 2s 4ms/step - loss: 0.4633 - sparse_categorical_accuracy: 0.8353 - val_loss: 0.4209 - val_sparse_categorical_accuracy: 0.8463\n",
      "Epoch 3/100\n",
      "600/600 [==============================] - 2s 4ms/step - loss: 0.4193 - sparse_categorical_accuracy: 0.8495 - val_loss: 0.3880 - val_sparse_categorical_accuracy: 0.8573\n",
      "Epoch 4/100\n",
      "600/600 [==============================] - 2s 4ms/step - loss: 0.3923 - sparse_categorical_accuracy: 0.8584 - val_loss: 0.3816 - val_sparse_categorical_accuracy: 0.8612\n",
      "Epoch 5/100\n",
      "600/600 [==============================] - 3s 5ms/step - loss: 0.3778 - sparse_categorical_accuracy: 0.8642 - val_loss: 0.3683 - val_sparse_categorical_accuracy: 0.8659\n",
      "Epoch 6/100\n",
      "600/600 [==============================] - 4s 6ms/step - loss: 0.3639 - sparse_categorical_accuracy: 0.8681 - val_loss: 0.3528 - val_sparse_categorical_accuracy: 0.8721\n",
      "Epoch 7/100\n",
      "600/600 [==============================] - 3s 4ms/step - loss: 0.3541 - sparse_categorical_accuracy: 0.8703 - val_loss: 0.3587 - val_sparse_categorical_accuracy: 0.8717\n",
      "Epoch 8/100\n",
      "600/600 [==============================] - 2s 4ms/step - loss: 0.3413 - sparse_categorical_accuracy: 0.8749 - val_loss: 0.3571 - val_sparse_categorical_accuracy: 0.8722\n",
      "Epoch 9/100\n",
      "600/600 [==============================] - 2s 4ms/step - loss: 0.3373 - sparse_categorical_accuracy: 0.8770 - val_loss: 0.3469 - val_sparse_categorical_accuracy: 0.8791\n",
      "Epoch 10/100\n",
      "600/600 [==============================] - 2s 3ms/step - loss: 0.3271 - sparse_categorical_accuracy: 0.8791 - val_loss: 0.3441 - val_sparse_categorical_accuracy: 0.8745\n",
      "Epoch 11/100\n",
      "600/600 [==============================] - 2s 4ms/step - loss: 0.3209 - sparse_categorical_accuracy: 0.8831 - val_loss: 0.3457 - val_sparse_categorical_accuracy: 0.8761\n",
      "Epoch 12/100\n",
      "600/600 [==============================] - 2s 4ms/step - loss: 0.3158 - sparse_categorical_accuracy: 0.8839 - val_loss: 0.3354 - val_sparse_categorical_accuracy: 0.8796\n",
      "Epoch 13/100\n",
      "600/600 [==============================] - 2s 4ms/step - loss: 0.3108 - sparse_categorical_accuracy: 0.8862 - val_loss: 0.3304 - val_sparse_categorical_accuracy: 0.8809\n",
      "Epoch 14/100\n",
      "600/600 [==============================] - 2s 4ms/step - loss: 0.3051 - sparse_categorical_accuracy: 0.8864 - val_loss: 0.3389 - val_sparse_categorical_accuracy: 0.8793\n",
      "Epoch 15/100\n",
      "600/600 [==============================] - 2s 4ms/step - loss: 0.3010 - sparse_categorical_accuracy: 0.8879 - val_loss: 0.3340 - val_sparse_categorical_accuracy: 0.8799\n",
      "Epoch 16/100\n",
      "600/600 [==============================] - 2s 4ms/step - loss: 0.2968 - sparse_categorical_accuracy: 0.8901 - val_loss: 0.3333 - val_sparse_categorical_accuracy: 0.8806\n",
      "Epoch 17/100\n",
      "600/600 [==============================] - 2s 4ms/step - loss: 0.2944 - sparse_categorical_accuracy: 0.8918 - val_loss: 0.3346 - val_sparse_categorical_accuracy: 0.8789\n",
      "Epoch 18/100\n",
      "600/600 [==============================] - 2s 4ms/step - loss: 0.2890 - sparse_categorical_accuracy: 0.8926 - val_loss: 0.3207 - val_sparse_categorical_accuracy: 0.8860\n",
      "Epoch 19/100\n",
      "600/600 [==============================] - 2s 4ms/step - loss: 0.2882 - sparse_categorical_accuracy: 0.8927 - val_loss: 0.3331 - val_sparse_categorical_accuracy: 0.8826\n",
      "Epoch 20/100\n",
      "600/600 [==============================] - 2s 4ms/step - loss: 0.2838 - sparse_categorical_accuracy: 0.8950 - val_loss: 0.3275 - val_sparse_categorical_accuracy: 0.8809\n",
      "Epoch 21/100\n",
      "600/600 [==============================] - 2s 4ms/step - loss: 0.2794 - sparse_categorical_accuracy: 0.8960 - val_loss: 0.3327 - val_sparse_categorical_accuracy: 0.8851\n",
      "Epoch 22/100\n",
      "600/600 [==============================] - 2s 4ms/step - loss: 0.2802 - sparse_categorical_accuracy: 0.8957 - val_loss: 0.3313 - val_sparse_categorical_accuracy: 0.8829\n",
      "Epoch 23/100\n",
      "600/600 [==============================] - 2s 4ms/step - loss: 0.2740 - sparse_categorical_accuracy: 0.8971 - val_loss: 0.3334 - val_sparse_categorical_accuracy: 0.8853\n",
      "Epoch 24/100\n",
      "600/600 [==============================] - 2s 4ms/step - loss: 0.2740 - sparse_categorical_accuracy: 0.8980 - val_loss: 0.3249 - val_sparse_categorical_accuracy: 0.8855\n",
      "Epoch 25/100\n",
      "600/600 [==============================] - 2s 4ms/step - loss: 0.2695 - sparse_categorical_accuracy: 0.8977 - val_loss: 0.3251 - val_sparse_categorical_accuracy: 0.8857\n",
      "Epoch 26/100\n",
      "600/600 [==============================] - 2s 4ms/step - loss: 0.2667 - sparse_categorical_accuracy: 0.8994 - val_loss: 0.3262 - val_sparse_categorical_accuracy: 0.8849\n",
      "Epoch 27/100\n",
      "600/600 [==============================] - 2s 4ms/step - loss: 0.2665 - sparse_categorical_accuracy: 0.9005 - val_loss: 0.3272 - val_sparse_categorical_accuracy: 0.8873\n",
      "Epoch 28/100\n",
      "600/600 [==============================] - 2s 4ms/step - loss: 0.2631 - sparse_categorical_accuracy: 0.9005 - val_loss: 0.3298 - val_sparse_categorical_accuracy: 0.8826\n",
      "Epoch 29/100\n",
      "600/600 [==============================] - 2s 4ms/step - loss: 0.2591 - sparse_categorical_accuracy: 0.9031 - val_loss: 0.3257 - val_sparse_categorical_accuracy: 0.8849\n",
      "Epoch 30/100\n",
      "600/600 [==============================] - 2s 4ms/step - loss: 0.2572 - sparse_categorical_accuracy: 0.9037 - val_loss: 0.3430 - val_sparse_categorical_accuracy: 0.8832\n",
      "Epoch 31/100\n",
      "600/600 [==============================] - 2s 4ms/step - loss: 0.2543 - sparse_categorical_accuracy: 0.9050 - val_loss: 0.3222 - val_sparse_categorical_accuracy: 0.8884\n",
      "Epoch 32/100\n",
      "600/600 [==============================] - 2s 4ms/step - loss: 0.2557 - sparse_categorical_accuracy: 0.9037 - val_loss: 0.3291 - val_sparse_categorical_accuracy: 0.8863\n",
      "Epoch 33/100\n",
      "600/600 [==============================] - 2s 4ms/step - loss: 0.2542 - sparse_categorical_accuracy: 0.9049 - val_loss: 0.3225 - val_sparse_categorical_accuracy: 0.8873\n",
      "Epoch 34/100\n",
      "600/600 [==============================] - 3s 5ms/step - loss: 0.2500 - sparse_categorical_accuracy: 0.9050 - val_loss: 0.3412 - val_sparse_categorical_accuracy: 0.8844\n",
      "Epoch 35/100\n",
      "600/600 [==============================] - 2s 4ms/step - loss: 0.2488 - sparse_categorical_accuracy: 0.9067 - val_loss: 0.3232 - val_sparse_categorical_accuracy: 0.8873\n",
      "Epoch 36/100\n",
      "600/600 [==============================] - 2s 4ms/step - loss: 0.2461 - sparse_categorical_accuracy: 0.9070 - val_loss: 0.3152 - val_sparse_categorical_accuracy: 0.8917\n",
      "Epoch 37/100\n",
      "600/600 [==============================] - 2s 4ms/step - loss: 0.2451 - sparse_categorical_accuracy: 0.9083 - val_loss: 0.3315 - val_sparse_categorical_accuracy: 0.8891\n",
      "Epoch 38/100\n",
      "600/600 [==============================] - 2s 4ms/step - loss: 0.2452 - sparse_categorical_accuracy: 0.9085 - val_loss: 0.3186 - val_sparse_categorical_accuracy: 0.8897\n",
      "Epoch 39/100\n",
      "600/600 [==============================] - 2s 4ms/step - loss: 0.2440 - sparse_categorical_accuracy: 0.9075 - val_loss: 0.3223 - val_sparse_categorical_accuracy: 0.8895\n",
      "Epoch 40/100\n",
      "600/600 [==============================] - 2s 4ms/step - loss: 0.2418 - sparse_categorical_accuracy: 0.9081 - val_loss: 0.3217 - val_sparse_categorical_accuracy: 0.8898\n",
      "Epoch 41/100\n",
      "600/600 [==============================] - 2s 4ms/step - loss: 0.2402 - sparse_categorical_accuracy: 0.9090 - val_loss: 0.3245 - val_sparse_categorical_accuracy: 0.8887\n",
      "Epoch 42/100\n",
      "600/600 [==============================] - 2s 4ms/step - loss: 0.2412 - sparse_categorical_accuracy: 0.9092 - val_loss: 0.3270 - val_sparse_categorical_accuracy: 0.8901\n",
      "Epoch 43/100\n",
      "600/600 [==============================] - 2s 4ms/step - loss: 0.2333 - sparse_categorical_accuracy: 0.9121 - val_loss: 0.3304 - val_sparse_categorical_accuracy: 0.8872\n",
      "Epoch 44/100\n",
      "600/600 [==============================] - 2s 4ms/step - loss: 0.2389 - sparse_categorical_accuracy: 0.9102 - val_loss: 0.3245 - val_sparse_categorical_accuracy: 0.8894\n",
      "Epoch 45/100\n",
      "600/600 [==============================] - 2s 4ms/step - loss: 0.2352 - sparse_categorical_accuracy: 0.9115 - val_loss: 0.3217 - val_sparse_categorical_accuracy: 0.8892\n",
      "Epoch 46/100\n",
      "600/600 [==============================] - 2s 4ms/step - loss: 0.2343 - sparse_categorical_accuracy: 0.9119 - val_loss: 0.3349 - val_sparse_categorical_accuracy: 0.8862\n",
      "Epoch 47/100\n",
      "600/600 [==============================] - 2s 4ms/step - loss: 0.2317 - sparse_categorical_accuracy: 0.9118 - val_loss: 0.3239 - val_sparse_categorical_accuracy: 0.8916\n",
      "Epoch 48/100\n",
      "600/600 [==============================] - 2s 4ms/step - loss: 0.2294 - sparse_categorical_accuracy: 0.9129 - val_loss: 0.3401 - val_sparse_categorical_accuracy: 0.8877\n",
      "Epoch 49/100\n",
      "600/600 [==============================] - 2s 4ms/step - loss: 0.2278 - sparse_categorical_accuracy: 0.9142 - val_loss: 0.3429 - val_sparse_categorical_accuracy: 0.8872\n",
      "Epoch 50/100\n",
      "600/600 [==============================] - 2s 4ms/step - loss: 0.2292 - sparse_categorical_accuracy: 0.9135 - val_loss: 0.3209 - val_sparse_categorical_accuracy: 0.8920\n",
      "Epoch 51/100\n",
      "600/600 [==============================] - 2s 4ms/step - loss: 0.2254 - sparse_categorical_accuracy: 0.9148 - val_loss: 0.3305 - val_sparse_categorical_accuracy: 0.8881\n",
      "Epoch 52/100\n",
      "600/600 [==============================] - 2s 4ms/step - loss: 0.2279 - sparse_categorical_accuracy: 0.9143 - val_loss: 0.3311 - val_sparse_categorical_accuracy: 0.8927\n",
      "Epoch 53/100\n",
      "600/600 [==============================] - 2s 4ms/step - loss: 0.2246 - sparse_categorical_accuracy: 0.9156 - val_loss: 0.3241 - val_sparse_categorical_accuracy: 0.8901\n",
      "Epoch 54/100\n",
      "600/600 [==============================] - 2s 4ms/step - loss: 0.2237 - sparse_categorical_accuracy: 0.9146 - val_loss: 0.3423 - val_sparse_categorical_accuracy: 0.8846\n",
      "Epoch 55/100\n",
      "600/600 [==============================] - 2s 4ms/step - loss: 0.2217 - sparse_categorical_accuracy: 0.9158 - val_loss: 0.3264 - val_sparse_categorical_accuracy: 0.8892\n",
      "Epoch 56/100\n",
      "600/600 [==============================] - 2s 4ms/step - loss: 0.2220 - sparse_categorical_accuracy: 0.9156 - val_loss: 0.3270 - val_sparse_categorical_accuracy: 0.8900\n",
      "Epoch 57/100\n",
      "600/600 [==============================] - 2s 4ms/step - loss: 0.2185 - sparse_categorical_accuracy: 0.9164 - val_loss: 0.3262 - val_sparse_categorical_accuracy: 0.8911\n",
      "Epoch 58/100\n",
      "600/600 [==============================] - 2s 4ms/step - loss: 0.2165 - sparse_categorical_accuracy: 0.9181 - val_loss: 0.3257 - val_sparse_categorical_accuracy: 0.8918\n",
      "Epoch 59/100\n",
      "600/600 [==============================] - 3s 5ms/step - loss: 0.2178 - sparse_categorical_accuracy: 0.9162 - val_loss: 0.3265 - val_sparse_categorical_accuracy: 0.8899\n",
      "Epoch 60/100\n",
      "600/600 [==============================] - 3s 4ms/step - loss: 0.2184 - sparse_categorical_accuracy: 0.9176 - val_loss: 0.3356 - val_sparse_categorical_accuracy: 0.8918\n",
      "Epoch 61/100\n",
      "600/600 [==============================] - 3s 4ms/step - loss: 0.2149 - sparse_categorical_accuracy: 0.9185 - val_loss: 0.3495 - val_sparse_categorical_accuracy: 0.8845\n",
      "Epoch 62/100\n",
      "600/600 [==============================] - 2s 4ms/step - loss: 0.2166 - sparse_categorical_accuracy: 0.9170 - val_loss: 0.3404 - val_sparse_categorical_accuracy: 0.8894\n",
      "Epoch 63/100\n",
      "600/600 [==============================] - 2s 4ms/step - loss: 0.2154 - sparse_categorical_accuracy: 0.9179 - val_loss: 0.3360 - val_sparse_categorical_accuracy: 0.8901\n",
      "Epoch 64/100\n",
      "600/600 [==============================] - 2s 4ms/step - loss: 0.2126 - sparse_categorical_accuracy: 0.9179 - val_loss: 0.3424 - val_sparse_categorical_accuracy: 0.8888\n",
      "Epoch 65/100\n",
      "600/600 [==============================] - 2s 4ms/step - loss: 0.2158 - sparse_categorical_accuracy: 0.9186 - val_loss: 0.3319 - val_sparse_categorical_accuracy: 0.8927\n",
      "Epoch 66/100\n",
      "600/600 [==============================] - 2s 4ms/step - loss: 0.2131 - sparse_categorical_accuracy: 0.9201 - val_loss: 0.3300 - val_sparse_categorical_accuracy: 0.8900\n",
      "Epoch 67/100\n",
      "600/600 [==============================] - 2s 4ms/step - loss: 0.2108 - sparse_categorical_accuracy: 0.9205 - val_loss: 0.3350 - val_sparse_categorical_accuracy: 0.8884\n",
      "Epoch 68/100\n",
      "600/600 [==============================] - 2s 4ms/step - loss: 0.2122 - sparse_categorical_accuracy: 0.9190 - val_loss: 0.3283 - val_sparse_categorical_accuracy: 0.8935\n",
      "Epoch 69/100\n",
      "600/600 [==============================] - 2s 4ms/step - loss: 0.2112 - sparse_categorical_accuracy: 0.9196 - val_loss: 0.3294 - val_sparse_categorical_accuracy: 0.8922\n",
      "Epoch 70/100\n",
      "600/600 [==============================] - 2s 4ms/step - loss: 0.2082 - sparse_categorical_accuracy: 0.9210 - val_loss: 0.3349 - val_sparse_categorical_accuracy: 0.8879\n",
      "Epoch 71/100\n",
      "600/600 [==============================] - 2s 4ms/step - loss: 0.2054 - sparse_categorical_accuracy: 0.9219 - val_loss: 0.3502 - val_sparse_categorical_accuracy: 0.8899\n",
      "Epoch 72/100\n",
      "600/600 [==============================] - 2s 4ms/step - loss: 0.2084 - sparse_categorical_accuracy: 0.9202 - val_loss: 0.3460 - val_sparse_categorical_accuracy: 0.8888\n",
      "Epoch 73/100\n",
      "600/600 [==============================] - 2s 4ms/step - loss: 0.2034 - sparse_categorical_accuracy: 0.9235 - val_loss: 0.3377 - val_sparse_categorical_accuracy: 0.8920\n",
      "Epoch 74/100\n",
      "600/600 [==============================] - 3s 4ms/step - loss: 0.2054 - sparse_categorical_accuracy: 0.9233 - val_loss: 0.3423 - val_sparse_categorical_accuracy: 0.8897\n",
      "Epoch 75/100\n",
      "600/600 [==============================] - 3s 4ms/step - loss: 0.2014 - sparse_categorical_accuracy: 0.9234 - val_loss: 0.3350 - val_sparse_categorical_accuracy: 0.8920\n",
      "Epoch 76/100\n",
      "600/600 [==============================] - 2s 4ms/step - loss: 0.2050 - sparse_categorical_accuracy: 0.9216 - val_loss: 0.3478 - val_sparse_categorical_accuracy: 0.8900\n",
      "Epoch 77/100\n",
      "600/600 [==============================] - 3s 4ms/step - loss: 0.1999 - sparse_categorical_accuracy: 0.9247 - val_loss: 0.3467 - val_sparse_categorical_accuracy: 0.8882\n",
      "Epoch 78/100\n",
      "600/600 [==============================] - 3s 4ms/step - loss: 0.2073 - sparse_categorical_accuracy: 0.9225 - val_loss: 0.3424 - val_sparse_categorical_accuracy: 0.8915\n",
      "Epoch 79/100\n",
      "600/600 [==============================] - 3s 4ms/step - loss: 0.2034 - sparse_categorical_accuracy: 0.9228 - val_loss: 0.3451 - val_sparse_categorical_accuracy: 0.8909\n",
      "Epoch 80/100\n",
      "600/600 [==============================] - 3s 5ms/step - loss: 0.2004 - sparse_categorical_accuracy: 0.9245 - val_loss: 0.3492 - val_sparse_categorical_accuracy: 0.8901\n",
      "Epoch 81/100\n",
      "600/600 [==============================] - 2s 4ms/step - loss: 0.1995 - sparse_categorical_accuracy: 0.9236 - val_loss: 0.3496 - val_sparse_categorical_accuracy: 0.8889\n",
      "Epoch 82/100\n",
      "600/600 [==============================] - 3s 4ms/step - loss: 0.2011 - sparse_categorical_accuracy: 0.9239 - val_loss: 0.3403 - val_sparse_categorical_accuracy: 0.8919\n",
      "Epoch 83/100\n",
      "600/600 [==============================] - 3s 5ms/step - loss: 0.2000 - sparse_categorical_accuracy: 0.9247 - val_loss: 0.3556 - val_sparse_categorical_accuracy: 0.8891\n",
      "Epoch 84/100\n",
      "600/600 [==============================] - 3s 4ms/step - loss: 0.1962 - sparse_categorical_accuracy: 0.9255 - val_loss: 0.3547 - val_sparse_categorical_accuracy: 0.8910\n",
      "Epoch 85/100\n",
      "600/600 [==============================] - 3s 4ms/step - loss: 0.1981 - sparse_categorical_accuracy: 0.9246 - val_loss: 0.3476 - val_sparse_categorical_accuracy: 0.8906\n",
      "Epoch 86/100\n",
      "600/600 [==============================] - 3s 4ms/step - loss: 0.1950 - sparse_categorical_accuracy: 0.9255 - val_loss: 0.3377 - val_sparse_categorical_accuracy: 0.8949\n",
      "Epoch 87/100\n",
      "600/600 [==============================] - 3s 4ms/step - loss: 0.1964 - sparse_categorical_accuracy: 0.9250 - val_loss: 0.3387 - val_sparse_categorical_accuracy: 0.8909\n",
      "Epoch 88/100\n",
      "600/600 [==============================] - 3s 4ms/step - loss: 0.1959 - sparse_categorical_accuracy: 0.9247 - val_loss: 0.3501 - val_sparse_categorical_accuracy: 0.8902\n",
      "Epoch 89/100\n",
      "600/600 [==============================] - 3s 5ms/step - loss: 0.1936 - sparse_categorical_accuracy: 0.9269 - val_loss: 0.3500 - val_sparse_categorical_accuracy: 0.8936\n",
      "Epoch 90/100\n",
      "600/600 [==============================] - 3s 4ms/step - loss: 0.1913 - sparse_categorical_accuracy: 0.9284 - val_loss: 0.3477 - val_sparse_categorical_accuracy: 0.8900\n",
      "Epoch 91/100\n",
      "600/600 [==============================] - 3s 4ms/step - loss: 0.1925 - sparse_categorical_accuracy: 0.9270 - val_loss: 0.3528 - val_sparse_categorical_accuracy: 0.8918\n",
      "Epoch 92/100\n",
      "600/600 [==============================] - 3s 4ms/step - loss: 0.1928 - sparse_categorical_accuracy: 0.9266 - val_loss: 0.3497 - val_sparse_categorical_accuracy: 0.8900\n",
      "Epoch 93/100\n",
      "600/600 [==============================] - 3s 4ms/step - loss: 0.1931 - sparse_categorical_accuracy: 0.9277 - val_loss: 0.3541 - val_sparse_categorical_accuracy: 0.8927\n",
      "Epoch 94/100\n",
      "600/600 [==============================] - 3s 4ms/step - loss: 0.1885 - sparse_categorical_accuracy: 0.9283 - val_loss: 0.3486 - val_sparse_categorical_accuracy: 0.8949\n",
      "Epoch 95/100\n",
      "600/600 [==============================] - 3s 4ms/step - loss: 0.1885 - sparse_categorical_accuracy: 0.9277 - val_loss: 0.3598 - val_sparse_categorical_accuracy: 0.8899\n",
      "Epoch 96/100\n",
      "600/600 [==============================] - 2s 4ms/step - loss: 0.1911 - sparse_categorical_accuracy: 0.9283 - val_loss: 0.3551 - val_sparse_categorical_accuracy: 0.8908\n",
      "Epoch 97/100\n",
      "600/600 [==============================] - 3s 4ms/step - loss: 0.1904 - sparse_categorical_accuracy: 0.9280 - val_loss: 0.3589 - val_sparse_categorical_accuracy: 0.8942\n",
      "Epoch 98/100\n",
      "600/600 [==============================] - 2s 4ms/step - loss: 0.1893 - sparse_categorical_accuracy: 0.9283 - val_loss: 0.3574 - val_sparse_categorical_accuracy: 0.8902\n",
      "Epoch 99/100\n",
      "600/600 [==============================] - 2s 4ms/step - loss: 0.1900 - sparse_categorical_accuracy: 0.9276 - val_loss: 0.3682 - val_sparse_categorical_accuracy: 0.8957\n",
      "Epoch 100/100\n",
      "600/600 [==============================] - 3s 4ms/step - loss: 0.1853 - sparse_categorical_accuracy: 0.9309 - val_loss: 0.3534 - val_sparse_categorical_accuracy: 0.8903\n"
     ]
    }
   ],
   "source": [
    "history = model.fit(x_train, y_train, batch_size=100, epochs=100, validation_data=(x_test, y_test))"
   ]
  },
  {
   "cell_type": "code",
   "execution_count": 27,
   "id": "ac8b5847-6c1f-49f5-b8de-afdf0f80b762",
   "metadata": {},
   "outputs": [
    {
     "name": "stdout",
     "output_type": "stream",
     "text": [
      "313/313 [==============================] - 0s 888us/step - loss: 0.3534 - sparse_categorical_accuracy: 0.8903\n"
     ]
    }
   ],
   "source": [
    "evaluation = model.evaluate(x_test, y_test)"
   ]
  },
  {
   "cell_type": "code",
   "execution_count": 28,
   "id": "ab9fd124-6d09-40a0-85ea-0d09e82cf5ce",
   "metadata": {},
   "outputs": [
    {
     "name": "stdout",
     "output_type": "stream",
     "text": [
      "Tess Loss: 0.35340073704719543\n",
      "Tess Accuracy: 0.8902999758720398\n"
     ]
    }
   ],
   "source": [
    "print(\"Tess Loss: {}\".format(evaluation[0]))\n",
    "print(\"Tess Accuracy: {}\".format(evaluation[1]))"
   ]
  },
  {
   "cell_type": "code",
   "execution_count": 29,
   "id": "a2e382a6-c569-4cc8-9054-fcfd30542e42",
   "metadata": {},
   "outputs": [
    {
     "name": "stdout",
     "output_type": "stream",
     "text": [
      "313/313 [==============================] - 0s 804us/step\n"
     ]
    }
   ],
   "source": [
    "#model preditction \n",
    "\n",
    "predict_value = model.predict(x_test)"
   ]
  },
  {
   "cell_type": "code",
   "execution_count": 30,
   "id": "2ef5abb3-acae-4206-bd25-a4f09afa3bef",
   "metadata": {},
   "outputs": [
    {
     "data": {
      "text/plain": [
       "array([[1.4854033e-10, 7.3888595e-12, 1.8199681e-10, ..., 1.2027880e-04,\n",
       "        8.0127835e-11, 9.9986696e-01],\n",
       "       [2.4349182e-08, 8.1649757e-18, 9.9995601e-01, ..., 3.0901163e-25,\n",
       "        7.5988782e-17, 3.8945739e-27],\n",
       "       [9.1351717e-14, 1.0000000e+00, 2.9084968e-19, ..., 3.2598530e-31,\n",
       "        6.7882377e-23, 4.2665689e-29],\n",
       "       ...,\n",
       "       [8.7122297e-12, 7.2678074e-17, 8.3172239e-14, ..., 8.7692669e-15,\n",
       "        1.0000000e+00, 6.9882146e-23],\n",
       "       [1.8774678e-13, 1.0000000e+00, 7.3718951e-19, ..., 1.0930400e-22,\n",
       "        4.4584020e-20, 1.7962177e-20],\n",
       "       [1.3807286e-10, 4.6329060e-14, 1.2762459e-15, ..., 9.0940972e-05,\n",
       "        8.2215837e-07, 6.1912746e-11]], dtype=float32)"
      ]
     },
     "execution_count": 30,
     "metadata": {},
     "output_type": "execute_result"
    }
   ],
   "source": [
    "predict_value"
   ]
  },
  {
   "cell_type": "markdown",
   "id": "bc4a4e45-7ec5-4f28-9004-e1627abaf44a",
   "metadata": {},
   "source": [
    "you can use the predict() method to get the predicted class probabilities and then obtain the class labels using numpy.argmax()."
   ]
  },
  {
   "cell_type": "code",
   "execution_count": 31,
   "id": "206da6cd-994c-4184-93c3-3df1181fb745",
   "metadata": {},
   "outputs": [],
   "source": [
    "#Get the predicted class labels (indices with maximum probability for each sample)\n",
    "predict_classes = np.argmax(predict_value, axis=1)"
   ]
  },
  {
   "cell_type": "code",
   "execution_count": 32,
   "id": "b06f253b-b212-4d5e-b88b-9490e1652960",
   "metadata": {},
   "outputs": [
    {
     "data": {
      "text/plain": [
       "array([9, 2, 1, ..., 8, 1, 5])"
      ]
     },
     "execution_count": 32,
     "metadata": {},
     "output_type": "execute_result"
    }
   ],
   "source": [
    "predict_classes"
   ]
  },
  {
   "cell_type": "markdown",
   "id": "ef872cd1-5b1d-4e27-9166-d3b177c28f29",
   "metadata": {},
   "source": [
    "finds the index (class label) that corresponds to the highest probability for each sample in the predictions."
   ]
  },
  {
   "cell_type": "code",
   "execution_count": 33,
   "id": "c1e82993-a3c0-4153-a503-63874b765f23",
   "metadata": {},
   "outputs": [],
   "source": [
    "#function to get the real class name \n",
    "def get_name(n):\n",
    "    name = class_names[n]\n",
    "    return name"
   ]
  },
  {
   "cell_type": "code",
   "execution_count": 34,
   "id": "b4e11487-5ac9-4046-9162-32519d36a3cd",
   "metadata": {},
   "outputs": [
    {
     "name": "stdout",
     "output_type": "stream",
     "text": [
      "y_test({9999}): 5 Sandal\n",
      "prediction(9999): 5 Sandal\n"
     ]
    }
   ],
   "source": [
    "z=9999\n",
    "print(\"y_test({}): {}\".format({z},get_name(y_test[z])))\n",
    "print(\"prediction({}): {}\".format(z, get_name(predict_classes[z])))"
   ]
  },
  {
   "cell_type": "code",
   "execution_count": 35,
   "id": "3fa89850-0853-48d6-9ba0-24fabaf31b68",
   "metadata": {},
   "outputs": [
    {
     "name": "stdout",
     "output_type": "stream",
     "text": [
      "[[861   3  18  27   4   2  82   0   3   0]\n",
      " [  1 981   4  11   1   0   1   0   1   0]\n",
      " [ 15   1 866  10  63   1  43   1   0   0]\n",
      " [ 24   6   8 915  24   0  21   0   2   0]\n",
      " [  1   0 129  39 783   0  47   0   1   0]\n",
      " [  0   0   0   1   0 960   0  19   1  19]\n",
      " [128   1 124  30  61   0 648   0   8   0]\n",
      " [  0   0   0   0   0  13   0 973   0  14]\n",
      " [  7   0   4   6   1   2   9   5 966   0]\n",
      " [  0   0   0   0   0   9   1  40   0 950]]\n"
     ]
    }
   ],
   "source": [
    "# prefromace metrics \n",
    "from sklearn.metrics import confusion_matrix, accuracy_score\n",
    "\n",
    "cm = confusion_matrix(y_test, predict_classes)\n",
    "print(cm)"
   ]
  },
  {
   "cell_type": "markdown",
   "id": "96481bd2-2f86-42c8-8edd-ee542c912d88",
   "metadata": {},
   "source": [
    "### Model Save"
   ]
  },
  {
   "cell_type": "code",
   "execution_count": 36,
   "id": "db4aeb6d-251b-48a8-a716-5f9739dcd93f",
   "metadata": {},
   "outputs": [],
   "source": [
    "# Replace 'model_file.h5' with the desired filename for your model\n",
    "model.save('model.h5')"
   ]
  },
  {
   "cell_type": "code",
   "execution_count": 37,
   "id": "5f203897-ad3d-41cd-8bb8-802c72aaccac",
   "metadata": {},
   "outputs": [],
   "source": [
    "from tensorflow.keras.models import load_model\n",
    "\n",
    "# Load the saved model\n",
    "loaded_model = load_model('model.h5')"
   ]
  },
  {
   "cell_type": "markdown",
   "id": "24885a49-4aef-4b65-a77d-0949b312deec",
   "metadata": {},
   "source": [
    "### Process Real Image"
   ]
  },
  {
   "cell_type": "code",
   "execution_count": 38,
   "id": "df5841f2-c3e8-4f55-bba3-9b1476880260",
   "metadata": {},
   "outputs": [
    {
     "data": {
      "text/plain": [
       "<matplotlib.image.AxesImage at 0x2c32e9d50>"
      ]
     },
     "execution_count": 38,
     "metadata": {},
     "output_type": "execute_result"
    },
    {
     "data": {
      "image/png": "[encoded data removed]",
      "text/plain": [
       "<Figure size 640x480 with 1 Axes>"
      ]
     },
     "metadata": {},
     "output_type": "display_data"
    }
   ],
   "source": [
    "import cv2\n",
    "import numpy as np\n",
    "\n",
    "# Read the real image (replace 'real_image.jpg' with your image file)\n",
    "real_image = cv2.imread('shirt.jpeg')\n",
    "\n",
    "plt.imshow(real_image)"
   ]
  },
  {
   "cell_type": "code",
   "execution_count": 39,
   "id": "5afd94d6-c872-441c-8102-f60d5eeedcb6",
   "metadata": {},
   "outputs": [
    {
     "data": {
      "text/plain": [
       "<matplotlib.image.AxesImage at 0x2c335f370>"
      ]
     },
     "execution_count": 39,
     "metadata": {},
     "output_type": "execute_result"
    },
    {
     "data": {
      "image/png": "[encoded data removed]",
      "text/plain": [
       "<Figure size 640x480 with 1 Axes>"
      ]
     },
     "metadata": {},
     "output_type": "display_data"
    }
   ],
   "source": [
    "# Resize and convert the image to 28x28 and grayscale\n",
    "resized_image = cv2.resize(real_image, (28, 28))\n",
    "grayscale_image = cv2.cvtColor(resized_image, cv2.COLOR_BGR2GRAY)\n",
    "\n",
    "plt.imshow(grayscale_image)"
   ]
  },
  {
   "cell_type": "code",
   "execution_count": 40,
   "id": "6d5a4fcf-ca20-4e6e-b155-414279ccf7b3",
   "metadata": {},
   "outputs": [],
   "source": [
    "# Normalize the pixel values\n",
    "normalized_image = grayscale_image.astype('float32') / 255.0\n",
    "\n",
    "# Reshape the image to match the input shape expected by the model (if needed)\n",
    "input_image = normalized_image.reshape(1, 28, 28)"
   ]
  },
  {
   "cell_type": "code",
   "execution_count": 41,
   "id": "74524623-cacb-40f0-9127-6f493a5637aa",
   "metadata": {},
   "outputs": [
    {
     "data": {
      "text/plain": [
       "(1, 784)"
      ]
     },
     "execution_count": 41,
     "metadata": {},
     "output_type": "execute_result"
    }
   ],
   "source": [
    "#reshape the image to vector\n",
    "input_image_vector = input_image.reshape(-1, 28*28)\n",
    "input_image_vector.shape"
   ]
  },
  {
   "cell_type": "code",
   "execution_count": 42,
   "id": "174d2e94-1ef3-4032-b721-3a7cd3f3de21",
   "metadata": {},
   "outputs": [
    {
     "name": "stdout",
     "output_type": "stream",
     "text": [
      "1/1 [==============================] - 0s 52ms/step\n"
     ]
    }
   ],
   "source": [
    "predict_real_image = loaded_model.predict(input_image_vector)"
   ]
  },
  {
   "cell_type": "code",
   "execution_count": 43,
   "id": "7e4664ec-bed4-4662-af25-cce1da7b68d8",
   "metadata": {},
   "outputs": [
    {
     "name": "stdout",
     "output_type": "stream",
     "text": [
      "Predicted Label: 8\n",
      "8 Bag\n"
     ]
    }
   ],
   "source": [
    "# Get the predicted label (index) with the highest probability\n",
    "predicted_label = np.argmax(predict_real_image)\n",
    "\n",
    "# Print the predicted label\n",
    "print(\"Predicted Label:\", predicted_label)\n",
    "print(get_name(predicted_label))"
   ]
  },
  {
   "cell_type": "code",
   "execution_count": null,
   "id": "a5a0a6b2-34e1-453d-a312-b0742af46b61",
   "metadata": {},
   "outputs": [],
   "source": []
  }
 ],
 "metadata": {
  "kernelspec": {
   "display_name": "ML_PROJECTS_Kernel",
   "language": "python",
   "name": "ml_projects"
  },
  "language_info": {
   "codemirror_mode": {
    "name": "ipython",
    "version": 3
   },
   "file_extension": ".py",
   "mimetype": "text/x-python",
   "name": "python",
   "nbconvert_exporter": "python",
   "pygments_lexer": "ipython3",
   "version": "3.10.13"
  }
 },
 "nbformat": 4,
 "nbformat_minor": 5
}
