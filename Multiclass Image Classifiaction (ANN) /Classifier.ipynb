{
 "cells": [
  {
   "cell_type": "markdown",
   "id": "c2e6aa49-1eb2-4745-b9de-f28f6e3ad54c",
   "metadata": {},
   "source": [
    "## Installation "
   ]
  },
  {
   "cell_type": "code",
   "execution_count": 1,
   "id": "95f6584d-f4d7-40de-908f-1c43896dd7eb",
   "metadata": {
    "tags": []
   },
   "outputs": [],
   "source": [
    "#import the tensorflow\n",
    "# import tensorflow as tf"
   ]
  },
  {
   "cell_type": "code",
   "execution_count": 3,
   "id": "bf92fe6c-a13d-4667-aa1a-a3c90614a430",
   "metadata": {},
   "outputs": [],
   "source": [
    "#import other packages \n",
    "import numpy as np \n",
    "import pandas as pd \n",
    "import matplotlib.pyplot as plt "
   ]
  },
  {
   "cell_type": "markdown",
   "id": "7a35e43e-fd52-4561-9322-3f38aa59f3e2",
   "metadata": {},
   "source": [
    "## Data Preprocessig "
   ]
  },
  {
   "cell_type": "code",
   "execution_count": 5,
   "id": "910cc4f9-90d0-4545-8466-97a63e6ec059",
   "metadata": {},
   "outputs": [],
   "source": [
    "#import the data set \n",
    "from tensorflow.keras.datasets import fashion_mnist"
   ]
  },
  {
   "cell_type": "code",
   "execution_count": 52,
   "id": "8123662c-8fab-4735-8cd6-340e13296dd6",
   "metadata": {},
   "outputs": [],
   "source": [
    "#load the data set \n",
    "data = fashion_mnist.load_data()\n",
    "(x_train, y_train), (x_test, y_test) = data"
   ]
  },
  {
   "cell_type": "code",
   "execution_count": 55,
   "id": "33dfddec-2e06-4eb8-82c6-d7b25f38109c",
   "metadata": {},
   "outputs": [
    {
     "name": "stdout",
     "output_type": "stream",
     "text": [
      "x_train: (60000, 28, 28)\n",
      "y_train: (60000,)\n",
      "x_test: (10000, 28, 28)\n",
      "y_test: (10000,)\n"
     ]
    }
   ],
   "source": [
    "#Check the shape of the data set \n",
    "print(\"x_train: {}\".format(x_train.shape))\n",
    "print(\"y_train: {}\".format(y_train.shape))\n",
    "print(\"x_test: {}\".format(x_test.shape))\n",
    "print(\"y_test: {}\".format(y_test.shape))"
   ]
  },
  {
   "cell_type": "code",
   "execution_count": 56,
   "id": "9e8791f6-d944-49d0-a59b-9fe190bd07e8",
   "metadata": {},
   "outputs": [
    {
     "data": {
      "text/plain": [
       "<matplotlib.colorbar.Colorbar at 0x177bed480>"
      ]
     },
     "execution_count": 56,
     "metadata": {},
     "output_type": "execute_result"
    },
    {
     "data": {
      "image/png": "[encoded data removed]",
      "text/plain": [
       "<Figure size 640x480 with 2 Axes>"
      ]
     },
     "metadata": {},
     "output_type": "display_data"
    }
   ],
   "source": [
    "#check images \n",
    "plt.imshow(x_train[1])\n",
    "plt.colorbar()"
   ]
  },
  {
   "cell_type": "code",
   "execution_count": 57,
   "id": "c386fcb4-3e76-4da2-9380-ab6a43e8b2a2",
   "metadata": {},
   "outputs": [
    {
     "data": {
      "text/plain": [
       "array([[  0,   0,   0,   0,   0,   1,   0,   0,   0,   0,  41, 188, 103,\n",
       "         54,  48,  43,  87, 168, 133,  16,   0,   0,   0,   0,   0,   0,\n",
       "          0,   0],\n",
       "       [  0,   0,   0,   1,   0,   0,   0,  49, 136, 219, 216, 228, 236,\n",
       "        255, 255, 255, 255, 217, 215, 254, 231, 160,  45,   0,   0,   0,\n",
       "          0,   0],\n",
       "       [  0,   0,   0,   0,   0,  14, 176, 222, 224, 212, 203, 198, 196,\n",
       "        200, 215, 204, 202, 201, 201, 201, 209, 218, 224, 164,   0,   0,\n",
       "          0,   0],\n",
       "       [  0,   0,   0,   0,   0, 188, 219, 200, 198, 202, 198, 199, 199,\n",
       "        201, 196, 198, 198, 200, 200, 200, 200, 201, 200, 225,  41,   0,\n",
       "          0,   0],\n",
       "       [  0,   0,   0,   0,  51, 219, 199, 203, 203, 212, 238, 248, 250,\n",
       "        245, 249, 246, 247, 252, 248, 235, 207, 203, 203, 222, 140,   0,\n",
       "          0,   0],\n",
       "       [  0,   0,   0,   0, 116, 226, 206, 204, 207, 204, 101,  75,  47,\n",
       "         73,  48,  50,  45,  51,  63, 113, 222, 202, 206, 220, 224,   0,\n",
       "          0,   0],\n",
       "       [  0,   0,   0,   0, 200, 222, 209, 203, 215, 200,   0,  70,  98,\n",
       "          0, 103,  59,  68,  71,  49,   0, 219, 206, 214, 210, 250,  38,\n",
       "          0,   0],\n",
       "       [  0,   0,   0,   0, 247, 218, 212, 210, 215, 214,   0, 254, 243,\n",
       "        139, 255, 174, 251, 255, 205,   0, 215, 217, 214, 208, 220,  95,\n",
       "          0,   0],\n",
       "       [  0,   0,   0,  45, 226, 214, 214, 215, 224, 205,   0,  42,  35,\n",
       "         60,  16,  17,  12,  13,  70,   0, 189, 216, 212, 206, 212, 156,\n",
       "          0,   0],\n",
       "       [  0,   0,   0, 164, 235, 214, 211, 220, 216, 201,  52,  71,  89,\n",
       "         94,  83,  78,  70,  76,  92,  87, 206, 207, 222, 213, 219, 208,\n",
       "          0,   0],\n",
       "       [  0,   0,   0, 106, 187, 223, 237, 248, 211, 198, 252, 250, 248,\n",
       "        245, 248, 252, 253, 250, 252, 239, 201, 212, 225, 215, 193, 113,\n",
       "          0,   0],\n",
       "       [  0,   0,   0,   0,   0,  17,  54, 159, 222, 193, 208, 192, 197,\n",
       "        200, 200, 200, 200, 201, 203, 195, 210, 165,   0,   0,   0,   0,\n",
       "          0,   0],\n",
       "       [  0,   0,   0,   0,   0,   0,   0,  47, 225, 192, 214, 203, 206,\n",
       "        204, 204, 205, 206, 204, 212, 197, 218, 107,   0,   0,   0,   0,\n",
       "          0,   0],\n",
       "       [  0,   0,   0,   0,   1,   6,   0,  46, 212, 195, 212, 202, 206,\n",
       "        205, 204, 205, 206, 204, 212, 200, 218,  91,   0,   3,   1,   0,\n",
       "          0,   0],\n",
       "       [  0,   0,   0,   0,   0,   1,   0,  11, 197, 199, 205, 202, 205,\n",
       "        206, 204, 205, 207, 204, 205, 205, 218,  77,   0,   5,   0,   0,\n",
       "          0,   0],\n",
       "       [  0,   0,   0,   0,   0,   3,   0,   2, 191, 198, 201, 205, 206,\n",
       "        205, 205, 206, 209, 206, 199, 209, 219,  74,   0,   5,   0,   0,\n",
       "          0,   0],\n",
       "       [  0,   0,   0,   0,   0,   2,   0,   0, 188, 197, 200, 207, 207,\n",
       "        204, 207, 207, 210, 208, 198, 207, 221,  72,   0,   4,   0,   0,\n",
       "          0,   0],\n",
       "       [  0,   0,   0,   0,   0,   2,   0,   0, 215, 198, 203, 206, 208,\n",
       "        205, 207, 207, 210, 208, 200, 202, 222,  75,   0,   4,   0,   0,\n",
       "          0,   0],\n",
       "       [  0,   0,   0,   0,   0,   1,   0,   0, 212, 198, 209, 206, 209,\n",
       "        206, 208, 207, 211, 206, 205, 198, 221,  80,   0,   3,   0,   0,\n",
       "          0,   0],\n",
       "       [  0,   0,   0,   0,   0,   1,   0,   0, 204, 201, 205, 208, 207,\n",
       "        205, 211, 205, 210, 210, 209, 195, 221,  96,   0,   3,   0,   0,\n",
       "          0,   0],\n",
       "       [  0,   0,   0,   0,   0,   1,   0,   0, 202, 201, 205, 209, 207,\n",
       "        205, 213, 206, 210, 209, 210, 194, 217, 105,   0,   2,   0,   0,\n",
       "          0,   0],\n",
       "       [  0,   0,   0,   0,   0,   1,   0,   0, 204, 204, 205, 208, 207,\n",
       "        205, 215, 207, 210, 208, 211, 193, 213, 115,   0,   2,   0,   0,\n",
       "          0,   0],\n",
       "       [  0,   0,   0,   0,   0,   0,   0,   0, 204, 207, 207, 208, 206,\n",
       "        206, 215, 210, 210, 207, 212, 195, 210, 118,   0,   2,   0,   0,\n",
       "          0,   0],\n",
       "       [  0,   0,   0,   0,   0,   1,   0,   0, 198, 208, 208, 208, 204,\n",
       "        207, 212, 212, 210, 207, 211, 196, 207, 121,   0,   1,   0,   0,\n",
       "          0,   0],\n",
       "       [  0,   0,   0,   0,   0,   1,   0,   0, 198, 210, 207, 208, 206,\n",
       "        209, 213, 212, 211, 207, 210, 197, 207, 124,   0,   1,   0,   0,\n",
       "          0,   0],\n",
       "       [  0,   0,   0,   0,   0,   0,   0,   0, 172, 210, 203, 201, 199,\n",
       "        204, 207, 205, 204, 201, 205, 197, 206, 127,   0,   0,   0,   0,\n",
       "          0,   0],\n",
       "       [  0,   0,   0,   0,   0,   0,   0,   0, 188, 221, 214, 234, 236,\n",
       "        238, 244, 244, 244, 240, 243, 214, 224, 162,   0,   2,   0,   0,\n",
       "          0,   0],\n",
       "       [  0,   0,   0,   0,   0,   1,   0,   0, 139, 146, 130, 135, 135,\n",
       "        137, 125, 124, 125, 121, 119, 114, 130,  76,   0,   0,   0,   0,\n",
       "          0,   0]], dtype=uint8)"
      ]
     },
     "execution_count": 57,
     "metadata": {},
     "output_type": "execute_result"
    }
   ],
   "source": [
    "#check a single photo \n",
    "x_train[1]"
   ]
  },
  {
   "cell_type": "code",
   "execution_count": 58,
   "id": "217ff190-a327-4027-b484-2047884575de",
   "metadata": {},
   "outputs": [
    {
     "data": {
      "text/plain": [
       "(0, 255, 72.94035223214286)"
      ]
     },
     "execution_count": 58,
     "metadata": {},
     "output_type": "execute_result"
    }
   ],
   "source": [
    "#values the range in between 0-255 in a single photo \n",
    "np.min(x_train), np.max(x_train), np.average(x_train)"
   ]
  },
  {
   "cell_type": "code",
   "execution_count": 59,
   "id": "d0c19318-34da-4c16-9bb4-53c8f8129560",
   "metadata": {},
   "outputs": [
    {
     "data": {
      "text/plain": [
       "(0, 9)"
      ]
     },
     "execution_count": 59,
     "metadata": {},
     "output_type": "execute_result"
    }
   ],
   "source": [
    "#check the numbr of clases \n",
    "np.min(y_train), np.max(y_train)"
   ]
  },
  {
   "cell_type": "markdown",
   "id": "8e3d1793-7e37-40b3-9aa3-69b0adf4d423",
   "metadata": {},
   "source": [
    "Consits with 10 clasess "
   ]
  },
  {
   "cell_type": "code",
   "execution_count": 60,
   "id": "cd5cd42f-e9c1-413d-ab48-5241bee79482",
   "metadata": {},
   "outputs": [],
   "source": [
    "#create class labels \n",
    "class_names = [\n",
    "    '0 T-shirt/top', '1 Trouser', '2 Pullover', '3 Dress', '4 Coat',\n",
    "    '5 Sandal', '6 Shirt', '7 Sneaker', '8 Bag', '9 Ankle boot'\n",
    "]"
   ]
  },
  {
   "cell_type": "code",
   "execution_count": 61,
   "id": "a44d1388-a868-4bdd-ac99-b665beae2091",
   "metadata": {},
   "outputs": [
    {
     "name": "stdout",
     "output_type": "stream",
     "text": [
      "9 Ankle boot\n"
     ]
    },
    {
     "data": {
      "image/png": "[encoded data removed]",
      "text/plain": [
       "<Figure size 640x480 with 1 Axes>"
      ]
     },
     "metadata": {},
     "output_type": "display_data"
    }
   ],
   "source": [
    "#create function to get the name \n",
    "def get_name(x):\n",
    "    name=\"none\"\n",
    "    for i in range(x+1):\n",
    "        name=class_names[i]\n",
    "    return name \n",
    "        \n",
    "    \n",
    "\n",
    "#check the labels and their corrosponding names \n",
    "z=0\n",
    "plt.imshow(x_train[z])\n",
    "name=get_name(y_train[z])\n",
    "print(name)"
   ]
  },
  {
   "cell_type": "markdown",
   "id": "70d87211-d8df-41d8-9d85-3f537e249e8c",
   "metadata": {},
   "source": [
    "## Normalization \n"
   ]
  },
  {
   "cell_type": "code",
   "execution_count": 62,
   "id": "7916a381-2179-496f-9bee-6ecc7b96549b",
   "metadata": {},
   "outputs": [],
   "source": [
    "x_train = x_train/255\n",
    "x_test = x_test/255"
   ]
  },
  {
   "cell_type": "code",
   "execution_count": 63,
   "id": "e6f99c20-aaee-43ac-9110-36157278e5f7",
   "metadata": {},
   "outputs": [
    {
     "data": {
      "text/plain": [
       "array([[0.        , 0.        , 0.        , 0.        , 0.        ,\n",
       "        0.00392157, 0.        , 0.        , 0.        , 0.        ,\n",
       "        0.16078431, 0.7372549 , 0.40392157, 0.21176471, 0.18823529,\n",
       "        0.16862745, 0.34117647, 0.65882353, 0.52156863, 0.0627451 ,\n",
       "        0.        , 0.        , 0.        , 0.        , 0.        ,\n",
       "        0.        , 0.        , 0.        ],\n",
       "       [0.        , 0.        , 0.        , 0.00392157, 0.        ,\n",
       "        0.        , 0.        , 0.19215686, 0.53333333, 0.85882353,\n",
       "        0.84705882, 0.89411765, 0.9254902 , 1.        , 1.        ,\n",
       "        1.        , 1.        , 0.85098039, 0.84313725, 0.99607843,\n",
       "        0.90588235, 0.62745098, 0.17647059, 0.        , 0.        ,\n",
       "        0.        , 0.        , 0.        ],\n",
       "       [0.        , 0.        , 0.        , 0.        , 0.        ,\n",
       "        0.05490196, 0.69019608, 0.87058824, 0.87843137, 0.83137255,\n",
       "        0.79607843, 0.77647059, 0.76862745, 0.78431373, 0.84313725,\n",
       "        0.8       , 0.79215686, 0.78823529, 0.78823529, 0.78823529,\n",
       "        0.81960784, 0.85490196, 0.87843137, 0.64313725, 0.        ,\n",
       "        0.        , 0.        , 0.        ],\n",
       "       [0.        , 0.        , 0.        , 0.        , 0.        ,\n",
       "        0.7372549 , 0.85882353, 0.78431373, 0.77647059, 0.79215686,\n",
       "        0.77647059, 0.78039216, 0.78039216, 0.78823529, 0.76862745,\n",
       "        0.77647059, 0.77647059, 0.78431373, 0.78431373, 0.78431373,\n",
       "        0.78431373, 0.78823529, 0.78431373, 0.88235294, 0.16078431,\n",
       "        0.        , 0.        , 0.        ],\n",
       "       [0.        , 0.        , 0.        , 0.        , 0.2       ,\n",
       "        0.85882353, 0.78039216, 0.79607843, 0.79607843, 0.83137255,\n",
       "        0.93333333, 0.97254902, 0.98039216, 0.96078431, 0.97647059,\n",
       "        0.96470588, 0.96862745, 0.98823529, 0.97254902, 0.92156863,\n",
       "        0.81176471, 0.79607843, 0.79607843, 0.87058824, 0.54901961,\n",
       "        0.        , 0.        , 0.        ],\n",
       "       [0.        , 0.        , 0.        , 0.        , 0.45490196,\n",
       "        0.88627451, 0.80784314, 0.8       , 0.81176471, 0.8       ,\n",
       "        0.39607843, 0.29411765, 0.18431373, 0.28627451, 0.18823529,\n",
       "        0.19607843, 0.17647059, 0.2       , 0.24705882, 0.44313725,\n",
       "        0.87058824, 0.79215686, 0.80784314, 0.8627451 , 0.87843137,\n",
       "        0.        , 0.        , 0.        ],\n",
       "       [0.        , 0.        , 0.        , 0.        , 0.78431373,\n",
       "        0.87058824, 0.81960784, 0.79607843, 0.84313725, 0.78431373,\n",
       "        0.        , 0.2745098 , 0.38431373, 0.        , 0.40392157,\n",
       "        0.23137255, 0.26666667, 0.27843137, 0.19215686, 0.        ,\n",
       "        0.85882353, 0.80784314, 0.83921569, 0.82352941, 0.98039216,\n",
       "        0.14901961, 0.        , 0.        ],\n",
       "       [0.        , 0.        , 0.        , 0.        , 0.96862745,\n",
       "        0.85490196, 0.83137255, 0.82352941, 0.84313725, 0.83921569,\n",
       "        0.        , 0.99607843, 0.95294118, 0.54509804, 1.        ,\n",
       "        0.68235294, 0.98431373, 1.        , 0.80392157, 0.        ,\n",
       "        0.84313725, 0.85098039, 0.83921569, 0.81568627, 0.8627451 ,\n",
       "        0.37254902, 0.        , 0.        ],\n",
       "       [0.        , 0.        , 0.        , 0.17647059, 0.88627451,\n",
       "        0.83921569, 0.83921569, 0.84313725, 0.87843137, 0.80392157,\n",
       "        0.        , 0.16470588, 0.1372549 , 0.23529412, 0.0627451 ,\n",
       "        0.06666667, 0.04705882, 0.05098039, 0.2745098 , 0.        ,\n",
       "        0.74117647, 0.84705882, 0.83137255, 0.80784314, 0.83137255,\n",
       "        0.61176471, 0.        , 0.        ],\n",
       "       [0.        , 0.        , 0.        , 0.64313725, 0.92156863,\n",
       "        0.83921569, 0.82745098, 0.8627451 , 0.84705882, 0.78823529,\n",
       "        0.20392157, 0.27843137, 0.34901961, 0.36862745, 0.3254902 ,\n",
       "        0.30588235, 0.2745098 , 0.29803922, 0.36078431, 0.34117647,\n",
       "        0.80784314, 0.81176471, 0.87058824, 0.83529412, 0.85882353,\n",
       "        0.81568627, 0.        , 0.        ],\n",
       "       [0.        , 0.        , 0.        , 0.41568627, 0.73333333,\n",
       "        0.8745098 , 0.92941176, 0.97254902, 0.82745098, 0.77647059,\n",
       "        0.98823529, 0.98039216, 0.97254902, 0.96078431, 0.97254902,\n",
       "        0.98823529, 0.99215686, 0.98039216, 0.98823529, 0.9372549 ,\n",
       "        0.78823529, 0.83137255, 0.88235294, 0.84313725, 0.75686275,\n",
       "        0.44313725, 0.        , 0.        ],\n",
       "       [0.        , 0.        , 0.        , 0.        , 0.        ,\n",
       "        0.06666667, 0.21176471, 0.62352941, 0.87058824, 0.75686275,\n",
       "        0.81568627, 0.75294118, 0.77254902, 0.78431373, 0.78431373,\n",
       "        0.78431373, 0.78431373, 0.78823529, 0.79607843, 0.76470588,\n",
       "        0.82352941, 0.64705882, 0.        , 0.        , 0.        ,\n",
       "        0.        , 0.        , 0.        ],\n",
       "       [0.        , 0.        , 0.        , 0.        , 0.        ,\n",
       "        0.        , 0.        , 0.18431373, 0.88235294, 0.75294118,\n",
       "        0.83921569, 0.79607843, 0.80784314, 0.8       , 0.8       ,\n",
       "        0.80392157, 0.80784314, 0.8       , 0.83137255, 0.77254902,\n",
       "        0.85490196, 0.41960784, 0.        , 0.        , 0.        ,\n",
       "        0.        , 0.        , 0.        ],\n",
       "       [0.        , 0.        , 0.        , 0.        , 0.00392157,\n",
       "        0.02352941, 0.        , 0.18039216, 0.83137255, 0.76470588,\n",
       "        0.83137255, 0.79215686, 0.80784314, 0.80392157, 0.8       ,\n",
       "        0.80392157, 0.80784314, 0.8       , 0.83137255, 0.78431373,\n",
       "        0.85490196, 0.35686275, 0.        , 0.01176471, 0.00392157,\n",
       "        0.        , 0.        , 0.        ],\n",
       "       [0.        , 0.        , 0.        , 0.        , 0.        ,\n",
       "        0.00392157, 0.        , 0.04313725, 0.77254902, 0.78039216,\n",
       "        0.80392157, 0.79215686, 0.80392157, 0.80784314, 0.8       ,\n",
       "        0.80392157, 0.81176471, 0.8       , 0.80392157, 0.80392157,\n",
       "        0.85490196, 0.30196078, 0.        , 0.01960784, 0.        ,\n",
       "        0.        , 0.        , 0.        ],\n",
       "       [0.        , 0.        , 0.        , 0.        , 0.        ,\n",
       "        0.01176471, 0.        , 0.00784314, 0.74901961, 0.77647059,\n",
       "        0.78823529, 0.80392157, 0.80784314, 0.80392157, 0.80392157,\n",
       "        0.80784314, 0.81960784, 0.80784314, 0.78039216, 0.81960784,\n",
       "        0.85882353, 0.29019608, 0.        , 0.01960784, 0.        ,\n",
       "        0.        , 0.        , 0.        ],\n",
       "       [0.        , 0.        , 0.        , 0.        , 0.        ,\n",
       "        0.00784314, 0.        , 0.        , 0.7372549 , 0.77254902,\n",
       "        0.78431373, 0.81176471, 0.81176471, 0.8       , 0.81176471,\n",
       "        0.81176471, 0.82352941, 0.81568627, 0.77647059, 0.81176471,\n",
       "        0.86666667, 0.28235294, 0.        , 0.01568627, 0.        ,\n",
       "        0.        , 0.        , 0.        ],\n",
       "       [0.        , 0.        , 0.        , 0.        , 0.        ,\n",
       "        0.00784314, 0.        , 0.        , 0.84313725, 0.77647059,\n",
       "        0.79607843, 0.80784314, 0.81568627, 0.80392157, 0.81176471,\n",
       "        0.81176471, 0.82352941, 0.81568627, 0.78431373, 0.79215686,\n",
       "        0.87058824, 0.29411765, 0.        , 0.01568627, 0.        ,\n",
       "        0.        , 0.        , 0.        ],\n",
       "       [0.        , 0.        , 0.        , 0.        , 0.        ,\n",
       "        0.00392157, 0.        , 0.        , 0.83137255, 0.77647059,\n",
       "        0.81960784, 0.80784314, 0.81960784, 0.80784314, 0.81568627,\n",
       "        0.81176471, 0.82745098, 0.80784314, 0.80392157, 0.77647059,\n",
       "        0.86666667, 0.31372549, 0.        , 0.01176471, 0.        ,\n",
       "        0.        , 0.        , 0.        ],\n",
       "       [0.        , 0.        , 0.        , 0.        , 0.        ,\n",
       "        0.00392157, 0.        , 0.        , 0.8       , 0.78823529,\n",
       "        0.80392157, 0.81568627, 0.81176471, 0.80392157, 0.82745098,\n",
       "        0.80392157, 0.82352941, 0.82352941, 0.81960784, 0.76470588,\n",
       "        0.86666667, 0.37647059, 0.        , 0.01176471, 0.        ,\n",
       "        0.        , 0.        , 0.        ],\n",
       "       [0.        , 0.        , 0.        , 0.        , 0.        ,\n",
       "        0.00392157, 0.        , 0.        , 0.79215686, 0.78823529,\n",
       "        0.80392157, 0.81960784, 0.81176471, 0.80392157, 0.83529412,\n",
       "        0.80784314, 0.82352941, 0.81960784, 0.82352941, 0.76078431,\n",
       "        0.85098039, 0.41176471, 0.        , 0.00784314, 0.        ,\n",
       "        0.        , 0.        , 0.        ],\n",
       "       [0.        , 0.        , 0.        , 0.        , 0.        ,\n",
       "        0.00392157, 0.        , 0.        , 0.8       , 0.8       ,\n",
       "        0.80392157, 0.81568627, 0.81176471, 0.80392157, 0.84313725,\n",
       "        0.81176471, 0.82352941, 0.81568627, 0.82745098, 0.75686275,\n",
       "        0.83529412, 0.45098039, 0.        , 0.00784314, 0.        ,\n",
       "        0.        , 0.        , 0.        ],\n",
       "       [0.        , 0.        , 0.        , 0.        , 0.        ,\n",
       "        0.        , 0.        , 0.        , 0.8       , 0.81176471,\n",
       "        0.81176471, 0.81568627, 0.80784314, 0.80784314, 0.84313725,\n",
       "        0.82352941, 0.82352941, 0.81176471, 0.83137255, 0.76470588,\n",
       "        0.82352941, 0.4627451 , 0.        , 0.00784314, 0.        ,\n",
       "        0.        , 0.        , 0.        ],\n",
       "       [0.        , 0.        , 0.        , 0.        , 0.        ,\n",
       "        0.00392157, 0.        , 0.        , 0.77647059, 0.81568627,\n",
       "        0.81568627, 0.81568627, 0.8       , 0.81176471, 0.83137255,\n",
       "        0.83137255, 0.82352941, 0.81176471, 0.82745098, 0.76862745,\n",
       "        0.81176471, 0.4745098 , 0.        , 0.00392157, 0.        ,\n",
       "        0.        , 0.        , 0.        ],\n",
       "       [0.        , 0.        , 0.        , 0.        , 0.        ,\n",
       "        0.00392157, 0.        , 0.        , 0.77647059, 0.82352941,\n",
       "        0.81176471, 0.81568627, 0.80784314, 0.81960784, 0.83529412,\n",
       "        0.83137255, 0.82745098, 0.81176471, 0.82352941, 0.77254902,\n",
       "        0.81176471, 0.48627451, 0.        , 0.00392157, 0.        ,\n",
       "        0.        , 0.        , 0.        ],\n",
       "       [0.        , 0.        , 0.        , 0.        , 0.        ,\n",
       "        0.        , 0.        , 0.        , 0.6745098 , 0.82352941,\n",
       "        0.79607843, 0.78823529, 0.78039216, 0.8       , 0.81176471,\n",
       "        0.80392157, 0.8       , 0.78823529, 0.80392157, 0.77254902,\n",
       "        0.80784314, 0.49803922, 0.        , 0.        , 0.        ,\n",
       "        0.        , 0.        , 0.        ],\n",
       "       [0.        , 0.        , 0.        , 0.        , 0.        ,\n",
       "        0.        , 0.        , 0.        , 0.7372549 , 0.86666667,\n",
       "        0.83921569, 0.91764706, 0.9254902 , 0.93333333, 0.95686275,\n",
       "        0.95686275, 0.95686275, 0.94117647, 0.95294118, 0.83921569,\n",
       "        0.87843137, 0.63529412, 0.        , 0.00784314, 0.        ,\n",
       "        0.        , 0.        , 0.        ],\n",
       "       [0.        , 0.        , 0.        , 0.        , 0.        ,\n",
       "        0.00392157, 0.        , 0.        , 0.54509804, 0.57254902,\n",
       "        0.50980392, 0.52941176, 0.52941176, 0.5372549 , 0.49019608,\n",
       "        0.48627451, 0.49019608, 0.4745098 , 0.46666667, 0.44705882,\n",
       "        0.50980392, 0.29803922, 0.        , 0.        , 0.        ,\n",
       "        0.        , 0.        , 0.        ]])"
      ]
     },
     "execution_count": 63,
     "metadata": {},
     "output_type": "execute_result"
    }
   ],
   "source": [
    "#check the normalized values of a particualr image \n",
    "x_train[1]"
   ]
  },
  {
   "cell_type": "markdown",
   "id": "0d561f37-56d5-49da-9cc5-5eb41a7d5abf",
   "metadata": {},
   "source": [
    "#### Since we use ANN we need to faltten the data (convert 2 dimention arrays in to 1D vector)\n",
    "\n",
    "Vector:\n",
    " \n",
    "A vector is a one-dimensional array that stores a sequence of elements.\n",
    "It is a collection of numbers (or other data types) arranged in a single row or column.\n",
    "In programming, a vector is often represented as a list or an array with a single index, containing elements arranged in a linear sequence.\n",
    "For example, [1, 2, 3, 4, 5] or (1, 2, 3, 4, 5) could represent a vector of five elements.\n",
    "\n",
    "2D Array (Matrix):\n",
    "\n",
    "A 2D array, also known as a matrix, organizes elements in rows and columns.\n",
    "It consists of multiple rows and columns, forming a grid-like structure.\n",
    "In programming, a 2D array is typically represented as a nested array or list where each row contains elements.\n",
    "For example, [[1, 2, 3], [4, 5, 6], [7, 8, 9]] represents a 3x3 matrix with three rows and three columns.\n",
    "\n",
    "\n",
    "Differences:\n",
    "\n",
    "Dimensionality: Vectors are one-dimensional structures, while 2D arrays (matrices) are two-dimensional.\n",
    "Representation: Vectors are typically represented as a single row or column of elements, while matrices are represented as a grid with rows and columns."
   ]
  },
  {
   "cell_type": "code",
   "execution_count": 64,
   "id": "3dcac5d6-be78-4bf2-b73c-e5d653ba9657",
   "metadata": {},
   "outputs": [],
   "source": [
    "x_train = x_train.reshape(-1, 28*28)\n",
    "x_test = x_test.reshape(-1, 28*28)"
   ]
  },
  {
   "cell_type": "markdown",
   "id": "c399e5b2-9741-4273-be3c-204b81054a7f",
   "metadata": {},
   "source": [
    "In NumPy, the -1 argument in the reshape() function is a placeholder that instructs NumPy to automatically infer or calculate the size of that particular dimension based on the total number of elements in the array and the known size of the other dimensions."
   ]
  },
  {
   "cell_type": "code",
   "execution_count": 65,
   "id": "d2803f05-94fa-417b-8984-d257208bf886",
   "metadata": {},
   "outputs": [
    {
     "data": {
      "text/plain": [
       "array([[0., 0., 0., ..., 0., 0., 0.],\n",
       "       [0., 0., 0., ..., 0., 0., 0.],\n",
       "       [0., 0., 0., ..., 0., 0., 0.],\n",
       "       ...,\n",
       "       [0., 0., 0., ..., 0., 0., 0.],\n",
       "       [0., 0., 0., ..., 0., 0., 0.],\n",
       "       [0., 0., 0., ..., 0., 0., 0.]])"
      ]
     },
     "execution_count": 65,
     "metadata": {},
     "output_type": "execute_result"
    }
   ],
   "source": [
    "x_train"
   ]
  },
  {
   "cell_type": "code",
   "execution_count": 66,
   "id": "e7d8f081-da6b-45c3-b063-cefc5ffb962b",
   "metadata": {},
   "outputs": [
    {
     "data": {
      "text/plain": [
       "array([0.        , 0.        , 0.        , 0.        , 0.        ,\n",
       "       0.00392157, 0.        , 0.        , 0.        , 0.        ,\n",
       "       0.16078431, 0.7372549 , 0.40392157, 0.21176471, 0.18823529,\n",
       "       0.16862745, 0.34117647, 0.65882353, 0.52156863, 0.0627451 ,\n",
       "       0.        , 0.        , 0.        , 0.        , 0.        ,\n",
       "       0.        , 0.        , 0.        , 0.        , 0.        ,\n",
       "       0.        , 0.00392157, 0.        , 0.        , 0.        ,\n",
       "       0.19215686, 0.53333333, 0.85882353, 0.84705882, 0.89411765,\n",
       "       0.9254902 , 1.        , 1.        , 1.        , 1.        ,\n",
       "       0.85098039, 0.84313725, 0.99607843, 0.90588235, 0.62745098,\n",
       "       0.17647059, 0.        , 0.        , 0.        , 0.        ,\n",
       "       0.        , 0.        , 0.        , 0.        , 0.        ,\n",
       "       0.        , 0.05490196, 0.69019608, 0.87058824, 0.87843137,\n",
       "       0.83137255, 0.79607843, 0.77647059, 0.76862745, 0.78431373,\n",
       "       0.84313725, 0.8       , 0.79215686, 0.78823529, 0.78823529,\n",
       "       0.78823529, 0.81960784, 0.85490196, 0.87843137, 0.64313725,\n",
       "       0.        , 0.        , 0.        , 0.        , 0.        ,\n",
       "       0.        , 0.        , 0.        , 0.        , 0.7372549 ,\n",
       "       0.85882353, 0.78431373, 0.77647059, 0.79215686, 0.77647059,\n",
       "       0.78039216, 0.78039216, 0.78823529, 0.76862745, 0.77647059,\n",
       "       0.77647059, 0.78431373, 0.78431373, 0.78431373, 0.78431373,\n",
       "       0.78823529, 0.78431373, 0.88235294, 0.16078431, 0.        ,\n",
       "       0.        , 0.        , 0.        , 0.        , 0.        ,\n",
       "       0.        , 0.2       , 0.85882353, 0.78039216, 0.79607843,\n",
       "       0.79607843, 0.83137255, 0.93333333, 0.97254902, 0.98039216,\n",
       "       0.96078431, 0.97647059, 0.96470588, 0.96862745, 0.98823529,\n",
       "       0.97254902, 0.92156863, 0.81176471, 0.79607843, 0.79607843,\n",
       "       0.87058824, 0.54901961, 0.        , 0.        , 0.        ,\n",
       "       0.        , 0.        , 0.        , 0.        , 0.45490196,\n",
       "       0.88627451, 0.80784314, 0.8       , 0.81176471, 0.8       ,\n",
       "       0.39607843, 0.29411765, 0.18431373, 0.28627451, 0.18823529,\n",
       "       0.19607843, 0.17647059, 0.2       , 0.24705882, 0.44313725,\n",
       "       0.87058824, 0.79215686, 0.80784314, 0.8627451 , 0.87843137,\n",
       "       0.        , 0.        , 0.        , 0.        , 0.        ,\n",
       "       0.        , 0.        , 0.78431373, 0.87058824, 0.81960784,\n",
       "       0.79607843, 0.84313725, 0.78431373, 0.        , 0.2745098 ,\n",
       "       0.38431373, 0.        , 0.40392157, 0.23137255, 0.26666667,\n",
       "       0.27843137, 0.19215686, 0.        , 0.85882353, 0.80784314,\n",
       "       0.83921569, 0.82352941, 0.98039216, 0.14901961, 0.        ,\n",
       "       0.        , 0.        , 0.        , 0.        , 0.        ,\n",
       "       0.96862745, 0.85490196, 0.83137255, 0.82352941, 0.84313725,\n",
       "       0.83921569, 0.        , 0.99607843, 0.95294118, 0.54509804,\n",
       "       1.        , 0.68235294, 0.98431373, 1.        , 0.80392157,\n",
       "       0.        , 0.84313725, 0.85098039, 0.83921569, 0.81568627,\n",
       "       0.8627451 , 0.37254902, 0.        , 0.        , 0.        ,\n",
       "       0.        , 0.        , 0.17647059, 0.88627451, 0.83921569,\n",
       "       0.83921569, 0.84313725, 0.87843137, 0.80392157, 0.        ,\n",
       "       0.16470588, 0.1372549 , 0.23529412, 0.0627451 , 0.06666667,\n",
       "       0.04705882, 0.05098039, 0.2745098 , 0.        , 0.74117647,\n",
       "       0.84705882, 0.83137255, 0.80784314, 0.83137255, 0.61176471,\n",
       "       0.        , 0.        , 0.        , 0.        , 0.        ,\n",
       "       0.64313725, 0.92156863, 0.83921569, 0.82745098, 0.8627451 ,\n",
       "       0.84705882, 0.78823529, 0.20392157, 0.27843137, 0.34901961,\n",
       "       0.36862745, 0.3254902 , 0.30588235, 0.2745098 , 0.29803922,\n",
       "       0.36078431, 0.34117647, 0.80784314, 0.81176471, 0.87058824,\n",
       "       0.83529412, 0.85882353, 0.81568627, 0.        , 0.        ,\n",
       "       0.        , 0.        , 0.        , 0.41568627, 0.73333333,\n",
       "       0.8745098 , 0.92941176, 0.97254902, 0.82745098, 0.77647059,\n",
       "       0.98823529, 0.98039216, 0.97254902, 0.96078431, 0.97254902,\n",
       "       0.98823529, 0.99215686, 0.98039216, 0.98823529, 0.9372549 ,\n",
       "       0.78823529, 0.83137255, 0.88235294, 0.84313725, 0.75686275,\n",
       "       0.44313725, 0.        , 0.        , 0.        , 0.        ,\n",
       "       0.        , 0.        , 0.        , 0.06666667, 0.21176471,\n",
       "       0.62352941, 0.87058824, 0.75686275, 0.81568627, 0.75294118,\n",
       "       0.77254902, 0.78431373, 0.78431373, 0.78431373, 0.78431373,\n",
       "       0.78823529, 0.79607843, 0.76470588, 0.82352941, 0.64705882,\n",
       "       0.        , 0.        , 0.        , 0.        , 0.        ,\n",
       "       0.        , 0.        , 0.        , 0.        , 0.        ,\n",
       "       0.        , 0.        , 0.        , 0.18431373, 0.88235294,\n",
       "       0.75294118, 0.83921569, 0.79607843, 0.80784314, 0.8       ,\n",
       "       0.8       , 0.80392157, 0.80784314, 0.8       , 0.83137255,\n",
       "       0.77254902, 0.85490196, 0.41960784, 0.        , 0.        ,\n",
       "       0.        , 0.        , 0.        , 0.        , 0.        ,\n",
       "       0.        , 0.        , 0.        , 0.00392157, 0.02352941,\n",
       "       0.        , 0.18039216, 0.83137255, 0.76470588, 0.83137255,\n",
       "       0.79215686, 0.80784314, 0.80392157, 0.8       , 0.80392157,\n",
       "       0.80784314, 0.8       , 0.83137255, 0.78431373, 0.85490196,\n",
       "       0.35686275, 0.        , 0.01176471, 0.00392157, 0.        ,\n",
       "       0.        , 0.        , 0.        , 0.        , 0.        ,\n",
       "       0.        , 0.        , 0.00392157, 0.        , 0.04313725,\n",
       "       0.77254902, 0.78039216, 0.80392157, 0.79215686, 0.80392157,\n",
       "       0.80784314, 0.8       , 0.80392157, 0.81176471, 0.8       ,\n",
       "       0.80392157, 0.80392157, 0.85490196, 0.30196078, 0.        ,\n",
       "       0.01960784, 0.        , 0.        , 0.        , 0.        ,\n",
       "       0.        , 0.        , 0.        , 0.        , 0.        ,\n",
       "       0.01176471, 0.        , 0.00784314, 0.74901961, 0.77647059,\n",
       "       0.78823529, 0.80392157, 0.80784314, 0.80392157, 0.80392157,\n",
       "       0.80784314, 0.81960784, 0.80784314, 0.78039216, 0.81960784,\n",
       "       0.85882353, 0.29019608, 0.        , 0.01960784, 0.        ,\n",
       "       0.        , 0.        , 0.        , 0.        , 0.        ,\n",
       "       0.        , 0.        , 0.        , 0.00784314, 0.        ,\n",
       "       0.        , 0.7372549 , 0.77254902, 0.78431373, 0.81176471,\n",
       "       0.81176471, 0.8       , 0.81176471, 0.81176471, 0.82352941,\n",
       "       0.81568627, 0.77647059, 0.81176471, 0.86666667, 0.28235294,\n",
       "       0.        , 0.01568627, 0.        , 0.        , 0.        ,\n",
       "       0.        , 0.        , 0.        , 0.        , 0.        ,\n",
       "       0.        , 0.00784314, 0.        , 0.        , 0.84313725,\n",
       "       0.77647059, 0.79607843, 0.80784314, 0.81568627, 0.80392157,\n",
       "       0.81176471, 0.81176471, 0.82352941, 0.81568627, 0.78431373,\n",
       "       0.79215686, 0.87058824, 0.29411765, 0.        , 0.01568627,\n",
       "       0.        , 0.        , 0.        , 0.        , 0.        ,\n",
       "       0.        , 0.        , 0.        , 0.        , 0.00392157,\n",
       "       0.        , 0.        , 0.83137255, 0.77647059, 0.81960784,\n",
       "       0.80784314, 0.81960784, 0.80784314, 0.81568627, 0.81176471,\n",
       "       0.82745098, 0.80784314, 0.80392157, 0.77647059, 0.86666667,\n",
       "       0.31372549, 0.        , 0.01176471, 0.        , 0.        ,\n",
       "       0.        , 0.        , 0.        , 0.        , 0.        ,\n",
       "       0.        , 0.        , 0.00392157, 0.        , 0.        ,\n",
       "       0.8       , 0.78823529, 0.80392157, 0.81568627, 0.81176471,\n",
       "       0.80392157, 0.82745098, 0.80392157, 0.82352941, 0.82352941,\n",
       "       0.81960784, 0.76470588, 0.86666667, 0.37647059, 0.        ,\n",
       "       0.01176471, 0.        , 0.        , 0.        , 0.        ,\n",
       "       0.        , 0.        , 0.        , 0.        , 0.        ,\n",
       "       0.00392157, 0.        , 0.        , 0.79215686, 0.78823529,\n",
       "       0.80392157, 0.81960784, 0.81176471, 0.80392157, 0.83529412,\n",
       "       0.80784314, 0.82352941, 0.81960784, 0.82352941, 0.76078431,\n",
       "       0.85098039, 0.41176471, 0.        , 0.00784314, 0.        ,\n",
       "       0.        , 0.        , 0.        , 0.        , 0.        ,\n",
       "       0.        , 0.        , 0.        , 0.00392157, 0.        ,\n",
       "       0.        , 0.8       , 0.8       , 0.80392157, 0.81568627,\n",
       "       0.81176471, 0.80392157, 0.84313725, 0.81176471, 0.82352941,\n",
       "       0.81568627, 0.82745098, 0.75686275, 0.83529412, 0.45098039,\n",
       "       0.        , 0.00784314, 0.        , 0.        , 0.        ,\n",
       "       0.        , 0.        , 0.        , 0.        , 0.        ,\n",
       "       0.        , 0.        , 0.        , 0.        , 0.8       ,\n",
       "       0.81176471, 0.81176471, 0.81568627, 0.80784314, 0.80784314,\n",
       "       0.84313725, 0.82352941, 0.82352941, 0.81176471, 0.83137255,\n",
       "       0.76470588, 0.82352941, 0.4627451 , 0.        , 0.00784314,\n",
       "       0.        , 0.        , 0.        , 0.        , 0.        ,\n",
       "       0.        , 0.        , 0.        , 0.        , 0.00392157,\n",
       "       0.        , 0.        , 0.77647059, 0.81568627, 0.81568627,\n",
       "       0.81568627, 0.8       , 0.81176471, 0.83137255, 0.83137255,\n",
       "       0.82352941, 0.81176471, 0.82745098, 0.76862745, 0.81176471,\n",
       "       0.4745098 , 0.        , 0.00392157, 0.        , 0.        ,\n",
       "       0.        , 0.        , 0.        , 0.        , 0.        ,\n",
       "       0.        , 0.        , 0.00392157, 0.        , 0.        ,\n",
       "       0.77647059, 0.82352941, 0.81176471, 0.81568627, 0.80784314,\n",
       "       0.81960784, 0.83529412, 0.83137255, 0.82745098, 0.81176471,\n",
       "       0.82352941, 0.77254902, 0.81176471, 0.48627451, 0.        ,\n",
       "       0.00392157, 0.        , 0.        , 0.        , 0.        ,\n",
       "       0.        , 0.        , 0.        , 0.        , 0.        ,\n",
       "       0.        , 0.        , 0.        , 0.6745098 , 0.82352941,\n",
       "       0.79607843, 0.78823529, 0.78039216, 0.8       , 0.81176471,\n",
       "       0.80392157, 0.8       , 0.78823529, 0.80392157, 0.77254902,\n",
       "       0.80784314, 0.49803922, 0.        , 0.        , 0.        ,\n",
       "       0.        , 0.        , 0.        , 0.        , 0.        ,\n",
       "       0.        , 0.        , 0.        , 0.        , 0.        ,\n",
       "       0.        , 0.7372549 , 0.86666667, 0.83921569, 0.91764706,\n",
       "       0.9254902 , 0.93333333, 0.95686275, 0.95686275, 0.95686275,\n",
       "       0.94117647, 0.95294118, 0.83921569, 0.87843137, 0.63529412,\n",
       "       0.        , 0.00784314, 0.        , 0.        , 0.        ,\n",
       "       0.        , 0.        , 0.        , 0.        , 0.        ,\n",
       "       0.        , 0.00392157, 0.        , 0.        , 0.54509804,\n",
       "       0.57254902, 0.50980392, 0.52941176, 0.52941176, 0.5372549 ,\n",
       "       0.49019608, 0.48627451, 0.49019608, 0.4745098 , 0.46666667,\n",
       "       0.44705882, 0.50980392, 0.29803922, 0.        , 0.        ,\n",
       "       0.        , 0.        , 0.        , 0.        ])"
      ]
     },
     "execution_count": 66,
     "metadata": {},
     "output_type": "execute_result"
    }
   ],
   "source": [
    "x_train[1]"
   ]
  },
  {
   "cell_type": "markdown",
   "id": "a9555a6c-a306-43fb-b6a8-14ddb49bb5f5",
   "metadata": {},
   "source": [
    "## Building the Model\n",
    "\n",
    "we have taken below values to add the first fully connected hidden layer,\n",
    "\n",
    "#### units=128,  activation='relu',  input_shape=(784,)\n",
    "\n",
    "\n",
    "\n",
    "Let us understand why we have these values,\n",
    "\n",
    "#### 1) units (No of neurons) = 128\n",
    "\n",
    "The artificial neuron receives one or more inputs and sums them to produce an output, then this output is passed throught the activation function\n",
    "\n",
    "Now there are some rules to select the number of neurons but every dataset is different, every problem is different, So a set of rules may not work properly\n",
    "\n",
    "To select an appropriate number of units (neurons), we have to try different number of neurons and select number of neurons that works better for the model performance\n",
    "\n",
    "We have to use systematic experimentation to discover what works best for a specific dataset\n",
    "\n",
    "Here i have selected number on neurons=128 because it works better, and this is on the basis of various experiments\n",
    "\n",
    "\n",
    "\n",
    "\n",
    "\n",
    "#### 2) activation='relu'\n",
    "\n",
    "The activation function calculates the weighted sum of its input, adds a bias and then decides wheather a neuron should be activated or not\n",
    "\n",
    "In simple word we can say that, 'An activation function decides a signal should be passed forward or not'\n",
    "\n",
    "The activation function adds non linearity to the output of a neuron\n",
    "\n",
    "With the non linear transformation a neural network is capable of learning and performing more complex tasks.\n",
    "\n",
    "We are using 'relu' function in first layer because,\n",
    "\n",
    "It is Non-linear, easily backpropagates the errors and multiple layers of neuron being activated by ReLU function\n",
    "\n",
    "As well as, it is computationally less expensive than tanh and sigmoid functions, RELU learns much faster than sigmoid and Tanh function\n",
    "\n",
    "\n",
    "\n",
    "#### 3) input_shape=(784,)\n",
    "\n",
    "In previous we flattened the dataset, before flattening the dataset shape for x_train is (60000, 28, 28) and shape for x_text is (10000, 28, 28)\n",
    "\n",
    "60000 and 1000 are the number of images (batch size)\n",
    "\n",
    "\n",
    "\n",
    "After flattening the dataset shape for x_train is (60000, 784) and shape for x_text is (10000, 784)\n",
    "\n",
    "60000 and 1000 are the number of images (batch size)\n",
    "\n",
    "\n",
    "\n",
    "The first dimension is the batch size, it's None because it can vary depending on how many examples we give for training\n",
    "\n",
    "hence input shape is (784,)"
   ]
  },
  {
   "cell_type": "code",
   "execution_count": 71,
   "id": "4298087b-2f99-4210-8051-6f41d0a6ce3e",
   "metadata": {},
   "outputs": [],
   "source": [
    "#import sequential model from the keras \n",
    "from tensorflow.keras.models import Sequential\n",
    "model = Sequential()"
   ]
  },
  {
   "cell_type": "code",
   "execution_count": 72,
   "id": "e082f4ea-f0b7-47d0-9e77-421d6934c699",
   "metadata": {},
   "outputs": [],
   "source": [
    "#import layers \n",
    "from tensorflow.keras.layers import Dense"
   ]
  },
  {
   "cell_type": "code",
   "execution_count": 73,
   "id": "0ae89bca-28f0-4228-81a0-049c678499de",
   "metadata": {},
   "outputs": [],
   "source": [
    "model.add(Dense(128, activation='relu', input_shape=(784,)))"
   ]
  },
  {
   "cell_type": "code",
   "execution_count": null,
   "id": "14102ca6-e737-4c0d-82e7-232a70149490",
   "metadata": {},
   "outputs": [],
   "source": []
  }
 ],
 "metadata": {
  "kernelspec": {
   "display_name": "ML_PROJECTS_Kernel",
   "language": "python",
   "name": "ml_projects"
  },
  "language_info": {
   "codemirror_mode": {
    "name": "ipython",
    "version": 3
   },
   "file_extension": ".py",
   "mimetype": "text/x-python",
   "name": "python",
   "nbconvert_exporter": "python",
   "pygments_lexer": "ipython3",
   "version": "3.10.13"
  }
 },
 "nbformat": 4,
 "nbformat_minor": 5
}
