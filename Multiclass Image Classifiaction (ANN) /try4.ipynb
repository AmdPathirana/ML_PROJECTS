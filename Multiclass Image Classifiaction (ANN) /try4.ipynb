{
 "cells": [
  {
   "cell_type": "code",
   "execution_count": 196,
   "id": "eef0323a-66bf-4b4d-b844-6a732e6f71f4",
   "metadata": {},
   "outputs": [],
   "source": [
    "import tensorflow"
   ]
  },
  {
   "cell_type": "code",
   "execution_count": 197,
   "id": "6137e3bb-151a-4550-94f3-b22d16cbae29",
   "metadata": {},
   "outputs": [],
   "source": [
    "import numpy as np\n",
    "\n",
    "# Load the saved files into variables\n",
    "x_train = np.load('x_train.npy')\n",
    "y_train = np.load('y_train.npy')"
   ]
  },
  {
   "cell_type": "code",
   "execution_count": 198,
   "id": "9f6d0e77-f52f-4252-9ce2-1f6f8e9edf81",
   "metadata": {},
   "outputs": [],
   "source": [
    "#Load the saved files into variables\n",
    "x_test = np.load('x_test.npy')\n",
    "y_test = np.load('y_test.npy')"
   ]
  },
  {
   "cell_type": "code",
   "execution_count": 199,
   "id": "0a0ff903-e99f-487f-bd39-4f645c45f33d",
   "metadata": {},
   "outputs": [
    {
     "name": "stdout",
     "output_type": "stream",
     "text": [
      "(25102, 64, 64)\n",
      "(6236, 64, 64)\n",
      "(25102,)\n",
      "(6236,)\n"
     ]
    }
   ],
   "source": [
    "print(x_train.shape)\n",
    "print(x_test.shape)\n",
    "print(y_train.shape)\n",
    "print(y_test.shape)"
   ]
  },
  {
   "cell_type": "code",
   "execution_count": 200,
   "id": "695d54fb-faf3-4825-80ca-a430a5ca2e79",
   "metadata": {},
   "outputs": [
    {
     "data": {
      "text/plain": [
       "(64, 64)"
      ]
     },
     "execution_count": 200,
     "metadata": {},
     "output_type": "execute_result"
    }
   ],
   "source": [
    "x_train[4].shape"
   ]
  },
  {
   "cell_type": "code",
   "execution_count": 201,
   "id": "e080d7e4-feb5-42cd-ac52-db7620ee61a8",
   "metadata": {},
   "outputs": [],
   "source": [
    "label_to_int = {'angry': 0, 'happy': 1, 'sad':2, 'fearful':3, 'neutral':4}\n",
    "\n",
    "def get_name(n):\n",
    "    for emotion, label in label_to_int.items():\n",
    "        if label == n:\n",
    "            return emotion\n",
    "    return \"Label not found\"  # Return a default value if label is not found\n"
   ]
  },
  {
   "cell_type": "code",
   "execution_count": 202,
   "id": "a203237e-58af-47ac-8fb1-88e7b3f6667b",
   "metadata": {},
   "outputs": [
    {
     "data": {
      "text/plain": [
       "'neutral'"
      ]
     },
     "execution_count": 202,
     "metadata": {},
     "output_type": "execute_result"
    },
    {
     "data": {
      "image/png": "[encoded data removed]",
      "text/plain": [
       "<Figure size 640x480 with 1 Axes>"
      ]
     },
     "metadata": {},
     "output_type": "display_data"
    }
   ],
   "source": [
    "import matplotlib.pyplot as plt\n",
    "plt.imshow(x_train[17034])\n",
    "get_name(y_train[17034])"
   ]
  },
  {
   "cell_type": "code",
   "execution_count": 203,
   "id": "f74431f8-f41e-42f7-a086-b43cbb69dd8c",
   "metadata": {},
   "outputs": [
    {
     "name": "stdout",
     "output_type": "stream",
     "text": [
      "(25102, 32, 32)\n"
     ]
    }
   ],
   "source": [
    "import cv2\n",
    "import numpy as np\n",
    "\n",
    "resized_images = []\n",
    "for img in x_train:\n",
    "    # Convert from RGB to BGR\n",
    "    img_bgr = cv2.cvtColor(img, cv2.COLOR_RGB2BGR)\n",
    "    resized = cv2.resize(img_bgr, (32, 32))\n",
    "    grayscale_image = cv2.cvtColor(resized, cv2.COLOR_BGR2GRAY)\n",
    "    resized_images.append(grayscale_image)\n",
    "\n",
    "x_train_resized = np.array(resized_images)\n",
    "\n",
    "# Now x_train_resized contains the resized images with shape (25102, 32, 32)\n",
    "print(x_train_resized.shape)"
   ]
  },
  {
   "cell_type": "code",
   "execution_count": 211,
   "id": "ff5ce2d0-d908-4bc7-a01e-aa7094bae94d",
   "metadata": {},
   "outputs": [
    {
     "ename": "error",
     "evalue": "OpenCV(4.8.1) /Users/xperience/GHA-OpenCV-Python/_work/opencv-python/opencv-python/opencv/modules/imgproc/src/color.simd_helpers.hpp:94: error: (-2:Unspecified error) in function 'cv::impl::(anonymous namespace)::CvtHelper<cv::impl::(anonymous namespace)::Set<1, -1, -1>, cv::impl::(anonymous namespace)::Set<3, 4, -1>, cv::impl::(anonymous namespace)::Set<0, 2, 5>, cv::impl::(anonymous namespace)::NONE>::CvtHelper(cv::InputArray, cv::OutputArray, int) [VScn = cv::impl::(anonymous namespace)::Set<1, -1, -1>, VDcn = cv::impl::(anonymous namespace)::Set<3, 4, -1>, VDepth = cv::impl::(anonymous namespace)::Set<0, 2, 5>, sizePolicy = cv::impl::(anonymous namespace)::NONE]'\n> Unsupported depth of input image:\n>     'VDepth::contains(depth)'\n> where\n>     'depth' is 6 (CV_64F)\n",
     "output_type": "error",
     "traceback": [
      "\u001b[0;31m---------------------------------------------------------------------------\u001b[0m",
      "\u001b[0;31merror\u001b[0m                                     Traceback (most recent call last)",
      "Cell \u001b[0;32mIn[211], line 4\u001b[0m\n\u001b[1;32m      1\u001b[0m resized_images \u001b[38;5;241m=\u001b[39m []\n\u001b[1;32m      2\u001b[0m \u001b[38;5;28;01mfor\u001b[39;00m img \u001b[38;5;129;01min\u001b[39;00m x_test:\n\u001b[1;32m      3\u001b[0m     \u001b[38;5;66;03m# Convert from RGB to BGR\u001b[39;00m\n\u001b[0;32m----> 4\u001b[0m     img_bgr \u001b[38;5;241m=\u001b[39m \u001b[43mcv2\u001b[49m\u001b[38;5;241;43m.\u001b[39;49m\u001b[43mcvtColor\u001b[49m\u001b[43m(\u001b[49m\u001b[43mimg\u001b[49m\u001b[43m,\u001b[49m\u001b[43m \u001b[49m\u001b[43mcv2\u001b[49m\u001b[38;5;241;43m.\u001b[39;49m\u001b[43mCOLOR_RGB2BGR\u001b[49m\u001b[43m)\u001b[49m\n\u001b[1;32m      5\u001b[0m     resized \u001b[38;5;241m=\u001b[39m cv2\u001b[38;5;241m.\u001b[39mresize(img_bgr, (\u001b[38;5;241m32\u001b[39m, \u001b[38;5;241m32\u001b[39m))\n\u001b[1;32m      6\u001b[0m     grayscale_image \u001b[38;5;241m=\u001b[39m cv2\u001b[38;5;241m.\u001b[39mcvtColor(resized, cv2\u001b[38;5;241m.\u001b[39mCOLOR_BGR2GRAY)\n",
      "\u001b[0;31merror\u001b[0m: OpenCV(4.8.1) /Users/xperience/GHA-OpenCV-Python/_work/opencv-python/opencv-python/opencv/modules/imgproc/src/color.simd_helpers.hpp:94: error: (-2:Unspecified error) in function 'cv::impl::(anonymous namespace)::CvtHelper<cv::impl::(anonymous namespace)::Set<1, -1, -1>, cv::impl::(anonymous namespace)::Set<3, 4, -1>, cv::impl::(anonymous namespace)::Set<0, 2, 5>, cv::impl::(anonymous namespace)::NONE>::CvtHelper(cv::InputArray, cv::OutputArray, int) [VScn = cv::impl::(anonymous namespace)::Set<1, -1, -1>, VDcn = cv::impl::(anonymous namespace)::Set<3, 4, -1>, VDepth = cv::impl::(anonymous namespace)::Set<0, 2, 5>, sizePolicy = cv::impl::(anonymous namespace)::NONE]'\n> Unsupported depth of input image:\n>     'VDepth::contains(depth)'\n> where\n>     'depth' is 6 (CV_64F)\n"
     ]
    }
   ],
   "source": [
    "resized_images = []\n",
    "for img in x_test:\n",
    "    # Convert from RGB to BGR\n",
    "    img_bgr = cv2.cvtColor(img, cv2.COLOR_RGB2BGR)\n",
    "    resized = cv2.resize(img_bgr, (32, 32))\n",
    "    grayscale_image = cv2.cvtColor(resized, cv2.COLOR_BGR2GRAY)\n",
    "    resized_images.append(grayscale_image)\n",
    "\n",
    "x_test_resized = np.array(resized_images)\n",
    "\n",
    "# Now x_train_resized contains the resized images with shape (25102, 32, 32)\n",
    "print(x_test_resized.shape)"
   ]
  },
  {
   "cell_type": "code",
   "execution_count": 212,
   "id": "e6f1e65c-7033-48be-9462-42591212da59",
   "metadata": {},
   "outputs": [],
   "source": [
    "x_train = x_train_resized\n",
    "x_test = x_test_resized"
   ]
  },
  {
   "cell_type": "code",
   "execution_count": 206,
   "id": "90ca9f83-d46c-4e4e-a8f2-92f5b5704c5b",
   "metadata": {},
   "outputs": [
    {
     "name": "stdout",
     "output_type": "stream",
     "text": [
      "(25102, 32, 32)\n",
      "(25102,)\n",
      "(6236, 32, 32)\n",
      "(6236,)\n"
     ]
    }
   ],
   "source": [
    "print(x_train.shape)\n",
    "print(y_train.shape)\n",
    "print(x_test.shape)\n",
    "print(y_test.shape)"
   ]
  },
  {
   "cell_type": "code",
   "execution_count": 207,
   "id": "2ba9fd36-b407-4624-97e2-7ce1b4c5fee5",
   "metadata": {},
   "outputs": [
    {
     "data": {
      "text/plain": [
       "'neutral'"
      ]
     },
     "execution_count": 207,
     "metadata": {},
     "output_type": "execute_result"
    },
    {
     "data": {
      "image/png": "[encoded data removed]",
      "text/plain": [
       "<Figure size 640x480 with 1 Axes>"
      ]
     },
     "metadata": {},
     "output_type": "display_data"
    }
   ],
   "source": [
    "plt.imshow(x_train[17034])\n",
    "get_name(y_train[17034])"
   ]
  },
  {
   "cell_type": "code",
   "execution_count": 208,
   "id": "10aacac7-3005-4c4a-8886-99f4e005355a",
   "metadata": {},
   "outputs": [],
   "source": [
    "import numpy as np \n",
    "x_train = x_train.reshape(-1, 32*32)\n",
    "x_test = x_test.reshape(-1, 32*32)"
   ]
  },
  {
   "cell_type": "code",
   "execution_count": 209,
   "id": "983c8b35-7e66-4750-9b75-c15c30f816f8",
   "metadata": {},
   "outputs": [],
   "source": [
    "x_train = x_train/255\n",
    "x_test = x_test/255"
   ]
  },
  {
   "cell_type": "code",
   "execution_count": 210,
   "id": "e305038a-c24f-4725-86bf-63237ed0d63e",
   "metadata": {},
   "outputs": [
    {
     "data": {
      "text/plain": [
       "(25102, 1024)"
      ]
     },
     "execution_count": 210,
     "metadata": {},
     "output_type": "execute_result"
    }
   ],
   "source": [
    "x_train.shape"
   ]
  },
  {
   "cell_type": "code",
   "execution_count": 157,
   "id": "89acccae-131a-435e-8f99-d85a47b136ed",
   "metadata": {},
   "outputs": [],
   "source": [
    "from tensorflow.keras.models import Sequential\n",
    "model = Sequential()"
   ]
  },
  {
   "cell_type": "code",
   "execution_count": 161,
   "id": "434e8776-accf-48e9-aea6-27a1e67915e5",
   "metadata": {},
   "outputs": [
    {
     "name": "stdout",
     "output_type": "stream",
     "text": [
      "Model: \"sequential_3\"\n",
      "_________________________________________________________________\n",
      " Layer (type)                Output Shape              Param #   \n",
      "=================================================================\n",
      " dense_19 (Dense)            (None, 153)               156825    \n",
      "                                                                 \n",
      " dropout_15 (Dropout)        (None, 153)               0         \n",
      "                                                                 \n",
      " dense_20 (Dense)            (None, 71)                10934     \n",
      "                                                                 \n",
      " dropout_16 (Dropout)        (None, 71)                0         \n",
      "                                                                 \n",
      " dense_21 (Dense)            (None, 5)                 360       \n",
      "                                                                 \n",
      " dense_22 (Dense)            (None, 120)               720       \n",
      "                                                                 \n",
      " dropout_17 (Dropout)        (None, 120)               0         \n",
      "                                                                 \n",
      " dense_23 (Dense)            (None, 60)                7260      \n",
      "                                                                 \n",
      " dropout_18 (Dropout)        (None, 60)                0         \n",
      "                                                                 \n",
      " dense_24 (Dense)            (None, 5)                 305       \n",
      "                                                                 \n",
      "=================================================================\n",
      "Total params: 176,404\n",
      "Trainable params: 176,404\n",
      "Non-trainable params: 0\n",
      "_________________________________________________________________\n"
     ]
    }
   ],
   "source": [
    "from tensorflow.keras.layers import Dense\n",
    "from tensorflow.keras.layers import Dropout\n",
    "\n",
    "from tensorflow.keras.regularizers import l1_l2\n",
    "l1_reg = 0.001\n",
    "l2_reg = 0.01\n",
    "\n",
    "# model.add(Dense(units=612, input_shape=(1024, ), activation='relu', kernel_regularizer=l1_l2(l1=l1_reg, l2=l2_reg)))\n",
    "# model.add(Dropout(0.3))\n",
    "# model.add(Dense(units=306, activation='relu', kernel_regularizer=l1_l2(l1=l1_reg, l2=l2_reg)))\n",
    "# model.add(Dropout(0.2))\n",
    "model.add(Dense(units=120, input_shape=(1024, ),activation='relu', kernel_regularizer=l1_l2(l1=l1_reg, l2=l2_reg)))\n",
    "model.add(Dropout(0.4))\n",
    "model.add(Dense(units=60, activation='relu', kernel_regularizer=l1_l2(l1=l1_reg, l2=l2_reg)))\n",
    "model.add(Dropout(0.2))\n",
    "model.add(Dense(units=5, activation='softmax'))\n",
    "\n",
    "model.summary()"
   ]
  },
  {
   "cell_type": "code",
   "execution_count": 162,
   "id": "5c7cb756-5932-44d7-9015-a2898601bb83",
   "metadata": {},
   "outputs": [],
   "source": [
    "model.compile(loss='sparse_categorical_crossentropy', optimizer='adam', metrics=['sparse_categorical_accuracy'])"
   ]
  },
  {
   "cell_type": "code",
   "execution_count": 163,
   "id": "71e088e9-d84d-4f48-b078-56704a27d27c",
   "metadata": {},
   "outputs": [
    {
     "name": "stdout",
     "output_type": "stream",
     "text": [
      "Epoch 1/50\n",
      "1256/1256 [==============================] - 5s 4ms/step - loss: 1.6944 - sparse_categorical_accuracy: 0.2866 - val_loss: 1.6066 - val_sparse_categorical_accuracy: 0.2845\n",
      "Epoch 2/50\n",
      "1256/1256 [==============================] - 5s 4ms/step - loss: 1.6058 - sparse_categorical_accuracy: 0.2874 - val_loss: 1.6037 - val_sparse_categorical_accuracy: 0.2845\n",
      "Epoch 3/50\n",
      "1256/1256 [==============================] - 7s 5ms/step - loss: 1.6058 - sparse_categorical_accuracy: 0.2874 - val_loss: 1.6055 - val_sparse_categorical_accuracy: 0.2845\n",
      "Epoch 4/50\n",
      "1256/1256 [==============================] - 6s 5ms/step - loss: 1.6054 - sparse_categorical_accuracy: 0.2874 - val_loss: 1.6013 - val_sparse_categorical_accuracy: 0.2845\n",
      "Epoch 5/50\n",
      "1256/1256 [==============================] - 6s 5ms/step - loss: 1.6050 - sparse_categorical_accuracy: 0.2874 - val_loss: 1.6034 - val_sparse_categorical_accuracy: 0.2845\n",
      "Epoch 6/50\n",
      "1256/1256 [==============================] - 6s 5ms/step - loss: 1.6050 - sparse_categorical_accuracy: 0.2874 - val_loss: 1.6053 - val_sparse_categorical_accuracy: 0.2845\n",
      "Epoch 7/50\n",
      "1256/1256 [==============================] - 6s 5ms/step - loss: 1.6051 - sparse_categorical_accuracy: 0.2874 - val_loss: 1.6033 - val_sparse_categorical_accuracy: 0.2845\n",
      "Epoch 8/50\n",
      "1256/1256 [==============================] - 5s 4ms/step - loss: 1.6052 - sparse_categorical_accuracy: 0.2874 - val_loss: 1.6050 - val_sparse_categorical_accuracy: 0.2845\n",
      "Epoch 9/50\n",
      "1256/1256 [==============================] - 5s 4ms/step - loss: 1.6049 - sparse_categorical_accuracy: 0.2874 - val_loss: 1.6079 - val_sparse_categorical_accuracy: 0.2845\n",
      "Epoch 9: early stopping\n"
     ]
    }
   ],
   "source": [
    "from tensorflow.keras.callbacks import EarlyStopping\n",
    "callbacks = EarlyStopping(verbose=1, monitor='val_loss', patience=5)\n",
    "history=model.fit(x_train, y_train, verbose=1, validation_data=(x_test, y_test), batch_size=20, epochs=50, callbacks=[callbacks])"
   ]
  },
  {
   "cell_type": "code",
   "execution_count": 144,
   "id": "7fe25659-b26c-453c-b94c-ed7fb5756032",
   "metadata": {},
   "outputs": [],
   "source": [
    "train_accuracy = history.history['sparse_categorical_accuracy']\n",
    "test_accuracy = history.history['val_sparse_categorical_accuracy']\n",
    "train_loss = history.history['loss']\n",
    "test_loss = history.history['val_loss']"
   ]
  },
  {
   "cell_type": "code",
   "execution_count": 145,
   "id": "e3d3fc63-fba7-47e2-b7e6-d5d18e385f0f",
   "metadata": {},
   "outputs": [],
   "source": [
    "epochs = range(1, len(train_accuracy)+1)"
   ]
  },
  {
   "cell_type": "code",
   "execution_count": 146,
   "id": "129805b3-d5e4-4b33-8575-a5798df5f296",
   "metadata": {},
   "outputs": [
    {
     "data": {
      "text/plain": [
       "range(1, 7)"
      ]
     },
     "execution_count": 146,
     "metadata": {},
     "output_type": "execute_result"
    }
   ],
   "source": [
    "epochs"
   ]
  },
  {
   "cell_type": "code",
   "execution_count": 147,
   "id": "45774f29-1bf8-4248-b533-2bd86d56de95",
   "metadata": {},
   "outputs": [
    {
     "data": {
      "image/png": "[encoded data removed]",
      "text/plain": [
       "<Figure size 800x500 with 1 Axes>"
      ]
     },
     "metadata": {},
     "output_type": "display_data"
    }
   ],
   "source": [
    "plt.figure(figsize=(8,5))\n",
    "plt.plot(epochs, train_accuracy, 'b', label='Train Accuray')\n",
    "plt.plot(epochs, test_accuracy, 'r', label='Test Accuracy')\n",
    "plt.xlabel(\"Epochs\")\n",
    "plt.ylabel(\"Accuracy\")\n",
    "plt.title(\"Accuracy curve\")\n",
    "plt.show()"
   ]
  },
  {
   "cell_type": "code",
   "execution_count": 148,
   "id": "f34a6d7e-7bd4-4b8f-9ff0-429559f3ad7d",
   "metadata": {},
   "outputs": [
    {
     "data": {
      "image/png": "[encoded data removed]",
      "text/plain": [
       "<Figure size 800x500 with 1 Axes>"
      ]
     },
     "metadata": {},
     "output_type": "display_data"
    }
   ],
   "source": [
    "plt.figure(figsize=(8,5))\n",
    "plt.plot(epochs, train_loss, 'b', label='Train Loss' )\n",
    "plt.plot(epochs, test_loss, 'r', label='Train Loss')\n",
    "plt.xlabel(\"Epochs\")\n",
    "plt.ylabel(\"Loss\")\n",
    "plt.title(\"Loss Curve\")\n",
    "plt.show()"
   ]
  },
  {
   "cell_type": "code",
   "execution_count": 149,
   "id": "9b35015e-3664-42a9-a604-39f2ba7e690a",
   "metadata": {},
   "outputs": [
    {
     "name": "stdout",
     "output_type": "stream",
     "text": [
      "195/195 [==============================] - 1s 3ms/step - loss: 1.6890 - sparse_categorical_accuracy: 0.2845\n"
     ]
    }
   ],
   "source": [
    "loss, accuracy = model.evaluate(x_test, y_test)"
   ]
  },
  {
   "cell_type": "code",
   "execution_count": 150,
   "id": "155bd9e2-51be-4ed2-94ed-8b515e2a4f66",
   "metadata": {},
   "outputs": [
    {
     "data": {
      "text/plain": [
       "1.6890370845794678"
      ]
     },
     "execution_count": 150,
     "metadata": {},
     "output_type": "execute_result"
    }
   ],
   "source": [
    "loss"
   ]
  },
  {
   "cell_type": "code",
   "execution_count": 151,
   "id": "8c2fdb65-287d-43d1-9e65-d0433c21673e",
   "metadata": {},
   "outputs": [
    {
     "data": {
      "text/plain": [
       "0.28447723388671875"
      ]
     },
     "execution_count": 151,
     "metadata": {},
     "output_type": "execute_result"
    }
   ],
   "source": [
    "accuracy"
   ]
  },
  {
   "cell_type": "code",
   "execution_count": 152,
   "id": "ecf32800-246e-4779-a22c-f4fee50ef690",
   "metadata": {},
   "outputs": [
    {
     "name": "stdout",
     "output_type": "stream",
     "text": [
      "195/195 [==============================] - 0s 2ms/step\n"
     ]
    }
   ],
   "source": [
    "prediction= model.predict(x_test)"
   ]
  },
  {
   "cell_type": "code",
   "execution_count": 153,
   "id": "08ba93b4-6cf9-4928-b656-e252e684c798",
   "metadata": {},
   "outputs": [
    {
     "data": {
      "text/plain": [
       "array([[0.15615821, 0.2868881 , 0.18488945, 0.17072585, 0.2013384 ],\n",
       "       [0.15615821, 0.2868881 , 0.18488945, 0.17072585, 0.2013384 ],\n",
       "       [0.15615821, 0.2868881 , 0.18488945, 0.17072585, 0.2013384 ],\n",
       "       ...,\n",
       "       [0.15615821, 0.2868881 , 0.18488944, 0.17072585, 0.2013384 ],\n",
       "       [0.15615821, 0.2868881 , 0.18488944, 0.17072585, 0.2013384 ],\n",
       "       [0.15615821, 0.2868881 , 0.18488944, 0.17072585, 0.2013384 ]],\n",
       "      dtype=float32)"
      ]
     },
     "execution_count": 153,
     "metadata": {},
     "output_type": "execute_result"
    }
   ],
   "source": [
    "prediction"
   ]
  },
  {
   "cell_type": "code",
   "execution_count": 154,
   "id": "518512b7-9cba-4e62-89ab-d61a09a47c46",
   "metadata": {},
   "outputs": [
    {
     "data": {
      "text/plain": [
       "(6236, 5)"
      ]
     },
     "execution_count": 154,
     "metadata": {},
     "output_type": "execute_result"
    }
   ],
   "source": [
    "prediction.shape"
   ]
  },
  {
   "cell_type": "code",
   "execution_count": 155,
   "id": "bfecb64c-5b0a-44fd-92e6-ba54bfa79880",
   "metadata": {},
   "outputs": [],
   "source": [
    "prediction_values = np.argmax(prediction, axis=1)"
   ]
  },
  {
   "cell_type": "code",
   "execution_count": 156,
   "id": "0732fab3-b32c-405b-b093-bce7545888c9",
   "metadata": {},
   "outputs": [
    {
     "data": {
      "text/plain": [
       "array([1, 1, 1, ..., 1, 1, 1])"
      ]
     },
     "execution_count": 156,
     "metadata": {},
     "output_type": "execute_result"
    }
   ],
   "source": [
    "prediction_values"
   ]
  },
  {
   "cell_type": "code",
   "execution_count": 28,
   "id": "331437ca-380c-4b60-897d-a6ad561fbf40",
   "metadata": {},
   "outputs": [
    {
     "data": {
      "image/png": "[encoded data removed]",
      "text/plain": [
       "<Figure size 640x480 with 2 Axes>"
      ]
     },
     "metadata": {},
     "output_type": "display_data"
    }
   ],
   "source": [
    "from sklearn.metrics import confusion_matrix\n",
    "\n",
    "cm = confusion_matrix(prediction_values, y_test)\n",
    "\n",
    "import seaborn as sns \n",
    "\n",
    "sns.heatmap(cm, annot=True, xticklabels=label_to_int , yticklabels=label_to_int, fmt='d')\n",
    "\n",
    "plt.show()"
   ]
  },
  {
   "cell_type": "code",
   "execution_count": null,
   "id": "977d8475-108b-4702-a840-b1083702357a",
   "metadata": {},
   "outputs": [],
   "source": []
  }
 ],
 "metadata": {
  "kernelspec": {
   "display_name": "ML_PROJECTS_Kernel",
   "language": "python",
   "name": "ml_projects"
  },
  "language_info": {
   "codemirror_mode": {
    "name": "ipython",
    "version": 3
   },
   "file_extension": ".py",
   "mimetype": "text/x-python",
   "name": "python",
   "nbconvert_exporter": "python",
   "pygments_lexer": "ipython3",
   "version": "3.10.13"
  }
 },
 "nbformat": 4,
 "nbformat_minor": 5
}
